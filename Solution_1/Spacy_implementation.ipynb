{
  "metadata": {
    "colab": {
      "provenance": []
    },
    "kernelspec": {
      "name": "python3",
      "display_name": "Python 3"
    },
    "language_info": {
      "name": "python",
      "version": "3.10.13",
      "mimetype": "text/x-python",
      "codemirror_mode": {
        "name": "ipython",
        "version": 3
      },
      "pygments_lexer": "ipython3",
      "nbconvert_exporter": "python",
      "file_extension": ".py"
    },
    "kaggle": {
      "accelerator": "nvidiaTeslaT4",
      "dataSources": [],
      "dockerImageVersionId": 30699,
      "isInternetEnabled": true,
      "language": "python",
      "sourceType": "notebook",
      "isGpuEnabled": true
    }
  },
  "nbformat_minor": 0,
  "nbformat": 4,
  "cells": [
    {
      "cell_type": "markdown",
      "source": [
        "# Solution 1. SpanCategorizer by SpaCy\n",
        "\n",
        "My first solution was to train a custom Named Entity Recognition (NER) model with SpaCy. Many of the common NLP tasks, including NER, have optimized implementations in spaCy, which is considered to be the fastest NLP framework in Python. In fact, spaCy v3.0 introduced the most recent transformer-based pipelines. The dependency parser, NER, and part-of-speech tagger are loaded by default by the spaCy pipeline.\n"
      ],
      "metadata": {
        "id": "70l5xI9LZyMK"
      }
    },
    {
      "cell_type": "markdown",
      "source": [
        "# Prepare data\n"
      ],
      "metadata": {
        "id": "k7dr4lk21Qae"
      }
    },
    {
      "cell_type": "markdown",
      "source": [
        "## Prepare environment"
      ],
      "metadata": {
        "id": "mhdrdJjbmjbQ"
      }
    },
    {
      "cell_type": "code",
      "source": [
        "!pip install jsonlines\n",
        "!pip install spacy -q\n",
        "!pip install -q https://github.com/explosion/spacy-models/releases/download/ru_core_news_lg-3.7.0/ru_core_news_lg-3.7.0.tar.gz\n",
        "!pip install -q spacy[transformers]\n",
        "!pip install thinc==8.2.3"
      ],
      "metadata": {
        "id": "RHRcBq722eqx",
        "execution": {
          "iopub.status.busy": "2024-04-27T11:06:27.331978Z",
          "iopub.execute_input": "2024-04-27T11:06:27.332450Z",
          "iopub.status.idle": "2024-04-27T11:07:04.230568Z",
          "shell.execute_reply.started": "2024-04-27T11:06:27.332422Z",
          "shell.execute_reply": "2024-04-27T11:07:04.228991Z"
        },
        "trusted": true
      },
      "execution_count": null,
      "outputs": []
    },
    {
      "cell_type": "code",
      "source": [
        "import pandas as pd\n",
        "import numpy as np\n",
        "import jsonlines\n",
        "import requests, zipfile, io"
      ],
      "metadata": {
        "id": "4gq4vVYNocd0",
        "execution": {
          "iopub.status.busy": "2024-04-28T11:49:59.794084Z",
          "iopub.execute_input": "2024-04-28T11:49:59.794369Z",
          "iopub.status.idle": "2024-04-28T11:50:00.172456Z",
          "shell.execute_reply.started": "2024-04-28T11:49:59.794342Z",
          "shell.execute_reply": "2024-04-28T11:50:00.171279Z"
        },
        "trusted": true
      },
      "execution_count": null,
      "outputs": []
    },
    {
      "cell_type": "markdown",
      "source": [
        "## Download data"
      ],
      "metadata": {
        "id": "e6Xls-h8m0Lu"
      }
    },
    {
      "cell_type": "code",
      "source": [
        "url = \"https://codalab.lisn.upsaclay.fr/my/datasets/download/2be26d3f-9630-46d5-8a68-414034ba4bdc\"\n",
        "\n",
        "r = requests.get(url)\n",
        "if r.ok:\n",
        "    z = zipfile.ZipFile(io.BytesIO(r.content))\n",
        "    z.extractall(\".\")\n",
        "else:\n",
        "    print(\"Downloading error\")"
      ],
      "metadata": {
        "execution": {
          "iopub.status.busy": "2024-04-28T11:50:00.173562Z",
          "iopub.execute_input": "2024-04-28T11:50:00.173931Z",
          "iopub.status.idle": "2024-04-28T11:50:00.734598Z",
          "shell.execute_reply.started": "2024-04-28T11:50:00.173905Z",
          "shell.execute_reply": "2024-04-28T11:50:00.733813Z"
        },
        "trusted": true,
        "id": "YzIuR3Oume_8"
      },
      "execution_count": null,
      "outputs": []
    },
    {
      "cell_type": "code",
      "source": [
        "# Load data in pd df\n",
        "train_df = pd.read_json('train.jsonl', lines=True)\n",
        "dev_df = pd.read_json('dev.jsonl', lines=True)\n",
        "test_df = pd.read_json('test.jsonl', lines=True)"
      ],
      "metadata": {
        "id": "8W3JG6aYprbB",
        "execution": {
          "iopub.status.busy": "2024-04-28T11:50:51.608941Z",
          "iopub.execute_input": "2024-04-28T11:50:51.609286Z",
          "iopub.status.idle": "2024-04-28T11:50:51.697079Z",
          "shell.execute_reply.started": "2024-04-28T11:50:51.609258Z",
          "shell.execute_reply": "2024-04-28T11:50:51.696321Z"
        },
        "trusted": true
      },
      "execution_count": null,
      "outputs": []
    },
    {
      "cell_type": "code",
      "source": [
        "train_df.head(3)"
      ],
      "metadata": {
        "colab": {
          "base_uri": "https://localhost:8080/",
          "height": 143
        },
        "id": "iRI4BrikWAIi",
        "outputId": "d44baaf2-66c4-4f6f-fc5c-7bb9735b0500",
        "execution": {
          "iopub.status.busy": "2024-04-28T11:50:53.462282Z",
          "iopub.execute_input": "2024-04-28T11:50:53.463026Z",
          "iopub.status.idle": "2024-04-28T11:50:53.503023Z",
          "shell.execute_reply.started": "2024-04-28T11:50:53.462991Z",
          "shell.execute_reply": "2024-04-28T11:50:53.502107Z"
        },
        "trusted": true
      },
      "execution_count": null,
      "outputs": [
        {
          "output_type": "execute_result",
          "data": {
            "text/plain": [
              "                                                ners  \\\n",
              "0  [[0, 5, CITY], [16, 23, PERSON], [34, 41, PERS...   \n",
              "1  [[21, 28, PROFESSION], [53, 67, ORGANIZATION],...   \n",
              "2  [[0, 4, PERSON], [37, 42, COUNTRY], [47, 76, O...   \n",
              "\n",
              "                                           sentences  id  \n",
              "0  Бостон взорвали Тамерлан и Джохар Царнаевы из ...   0  \n",
              "1  Умер избитый до комы гитарист и сооснователь г...   1  \n",
              "2  Путин подписал распоряжение о выходе России из...   2  "
            ],
            "text/html": [
              "\n",
              "  <div id=\"df-60cc60ee-e478-455e-8cfb-216ec477530c\" class=\"colab-df-container\">\n",
              "    <div>\n",
              "<style scoped>\n",
              "    .dataframe tbody tr th:only-of-type {\n",
              "        vertical-align: middle;\n",
              "    }\n",
              "\n",
              "    .dataframe tbody tr th {\n",
              "        vertical-align: top;\n",
              "    }\n",
              "\n",
              "    .dataframe thead th {\n",
              "        text-align: right;\n",
              "    }\n",
              "</style>\n",
              "<table border=\"1\" class=\"dataframe\">\n",
              "  <thead>\n",
              "    <tr style=\"text-align: right;\">\n",
              "      <th></th>\n",
              "      <th>ners</th>\n",
              "      <th>sentences</th>\n",
              "      <th>id</th>\n",
              "    </tr>\n",
              "  </thead>\n",
              "  <tbody>\n",
              "    <tr>\n",
              "      <th>0</th>\n",
              "      <td>[[0, 5, CITY], [16, 23, PERSON], [34, 41, PERS...</td>\n",
              "      <td>Бостон взорвали Тамерлан и Джохар Царнаевы из ...</td>\n",
              "      <td>0</td>\n",
              "    </tr>\n",
              "    <tr>\n",
              "      <th>1</th>\n",
              "      <td>[[21, 28, PROFESSION], [53, 67, ORGANIZATION],...</td>\n",
              "      <td>Умер избитый до комы гитарист и сооснователь г...</td>\n",
              "      <td>1</td>\n",
              "    </tr>\n",
              "    <tr>\n",
              "      <th>2</th>\n",
              "      <td>[[0, 4, PERSON], [37, 42, COUNTRY], [47, 76, O...</td>\n",
              "      <td>Путин подписал распоряжение о выходе России из...</td>\n",
              "      <td>2</td>\n",
              "    </tr>\n",
              "  </tbody>\n",
              "</table>\n",
              "</div>\n",
              "    <div class=\"colab-df-buttons\">\n",
              "\n",
              "  <div class=\"colab-df-container\">\n",
              "    <button class=\"colab-df-convert\" onclick=\"convertToInteractive('df-60cc60ee-e478-455e-8cfb-216ec477530c')\"\n",
              "            title=\"Convert this dataframe to an interactive table.\"\n",
              "            style=\"display:none;\">\n",
              "\n",
              "  <svg xmlns=\"http://www.w3.org/2000/svg\" height=\"24px\" viewBox=\"0 -960 960 960\">\n",
              "    <path d=\"M120-120v-720h720v720H120Zm60-500h600v-160H180v160Zm220 220h160v-160H400v160Zm0 220h160v-160H400v160ZM180-400h160v-160H180v160Zm440 0h160v-160H620v160ZM180-180h160v-160H180v160Zm440 0h160v-160H620v160Z\"/>\n",
              "  </svg>\n",
              "    </button>\n",
              "\n",
              "  <style>\n",
              "    .colab-df-container {\n",
              "      display:flex;\n",
              "      gap: 12px;\n",
              "    }\n",
              "\n",
              "    .colab-df-convert {\n",
              "      background-color: #E8F0FE;\n",
              "      border: none;\n",
              "      border-radius: 50%;\n",
              "      cursor: pointer;\n",
              "      display: none;\n",
              "      fill: #1967D2;\n",
              "      height: 32px;\n",
              "      padding: 0 0 0 0;\n",
              "      width: 32px;\n",
              "    }\n",
              "\n",
              "    .colab-df-convert:hover {\n",
              "      background-color: #E2EBFA;\n",
              "      box-shadow: 0px 1px 2px rgba(60, 64, 67, 0.3), 0px 1px 3px 1px rgba(60, 64, 67, 0.15);\n",
              "      fill: #174EA6;\n",
              "    }\n",
              "\n",
              "    .colab-df-buttons div {\n",
              "      margin-bottom: 4px;\n",
              "    }\n",
              "\n",
              "    [theme=dark] .colab-df-convert {\n",
              "      background-color: #3B4455;\n",
              "      fill: #D2E3FC;\n",
              "    }\n",
              "\n",
              "    [theme=dark] .colab-df-convert:hover {\n",
              "      background-color: #434B5C;\n",
              "      box-shadow: 0px 1px 3px 1px rgba(0, 0, 0, 0.15);\n",
              "      filter: drop-shadow(0px 1px 2px rgba(0, 0, 0, 0.3));\n",
              "      fill: #FFFFFF;\n",
              "    }\n",
              "  </style>\n",
              "\n",
              "    <script>\n",
              "      const buttonEl =\n",
              "        document.querySelector('#df-60cc60ee-e478-455e-8cfb-216ec477530c button.colab-df-convert');\n",
              "      buttonEl.style.display =\n",
              "        google.colab.kernel.accessAllowed ? 'block' : 'none';\n",
              "\n",
              "      async function convertToInteractive(key) {\n",
              "        const element = document.querySelector('#df-60cc60ee-e478-455e-8cfb-216ec477530c');\n",
              "        const dataTable =\n",
              "          await google.colab.kernel.invokeFunction('convertToInteractive',\n",
              "                                                    [key], {});\n",
              "        if (!dataTable) return;\n",
              "\n",
              "        const docLinkHtml = 'Like what you see? Visit the ' +\n",
              "          '<a target=\"_blank\" href=https://colab.research.google.com/notebooks/data_table.ipynb>data table notebook</a>'\n",
              "          + ' to learn more about interactive tables.';\n",
              "        element.innerHTML = '';\n",
              "        dataTable['output_type'] = 'display_data';\n",
              "        await google.colab.output.renderOutput(dataTable, element);\n",
              "        const docLink = document.createElement('div');\n",
              "        docLink.innerHTML = docLinkHtml;\n",
              "        element.appendChild(docLink);\n",
              "      }\n",
              "    </script>\n",
              "  </div>\n",
              "\n",
              "\n",
              "<div id=\"df-1d41ebcc-6b69-4df1-95ba-81c947eb46f7\">\n",
              "  <button class=\"colab-df-quickchart\" onclick=\"quickchart('df-1d41ebcc-6b69-4df1-95ba-81c947eb46f7')\"\n",
              "            title=\"Suggest charts\"\n",
              "            style=\"display:none;\">\n",
              "\n",
              "<svg xmlns=\"http://www.w3.org/2000/svg\" height=\"24px\"viewBox=\"0 0 24 24\"\n",
              "     width=\"24px\">\n",
              "    <g>\n",
              "        <path d=\"M19 3H5c-1.1 0-2 .9-2 2v14c0 1.1.9 2 2 2h14c1.1 0 2-.9 2-2V5c0-1.1-.9-2-2-2zM9 17H7v-7h2v7zm4 0h-2V7h2v10zm4 0h-2v-4h2v4z\"/>\n",
              "    </g>\n",
              "</svg>\n",
              "  </button>\n",
              "\n",
              "<style>\n",
              "  .colab-df-quickchart {\n",
              "      --bg-color: #E8F0FE;\n",
              "      --fill-color: #1967D2;\n",
              "      --hover-bg-color: #E2EBFA;\n",
              "      --hover-fill-color: #174EA6;\n",
              "      --disabled-fill-color: #AAA;\n",
              "      --disabled-bg-color: #DDD;\n",
              "  }\n",
              "\n",
              "  [theme=dark] .colab-df-quickchart {\n",
              "      --bg-color: #3B4455;\n",
              "      --fill-color: #D2E3FC;\n",
              "      --hover-bg-color: #434B5C;\n",
              "      --hover-fill-color: #FFFFFF;\n",
              "      --disabled-bg-color: #3B4455;\n",
              "      --disabled-fill-color: #666;\n",
              "  }\n",
              "\n",
              "  .colab-df-quickchart {\n",
              "    background-color: var(--bg-color);\n",
              "    border: none;\n",
              "    border-radius: 50%;\n",
              "    cursor: pointer;\n",
              "    display: none;\n",
              "    fill: var(--fill-color);\n",
              "    height: 32px;\n",
              "    padding: 0;\n",
              "    width: 32px;\n",
              "  }\n",
              "\n",
              "  .colab-df-quickchart:hover {\n",
              "    background-color: var(--hover-bg-color);\n",
              "    box-shadow: 0 1px 2px rgba(60, 64, 67, 0.3), 0 1px 3px 1px rgba(60, 64, 67, 0.15);\n",
              "    fill: var(--button-hover-fill-color);\n",
              "  }\n",
              "\n",
              "  .colab-df-quickchart-complete:disabled,\n",
              "  .colab-df-quickchart-complete:disabled:hover {\n",
              "    background-color: var(--disabled-bg-color);\n",
              "    fill: var(--disabled-fill-color);\n",
              "    box-shadow: none;\n",
              "  }\n",
              "\n",
              "  .colab-df-spinner {\n",
              "    border: 2px solid var(--fill-color);\n",
              "    border-color: transparent;\n",
              "    border-bottom-color: var(--fill-color);\n",
              "    animation:\n",
              "      spin 1s steps(1) infinite;\n",
              "  }\n",
              "\n",
              "  @keyframes spin {\n",
              "    0% {\n",
              "      border-color: transparent;\n",
              "      border-bottom-color: var(--fill-color);\n",
              "      border-left-color: var(--fill-color);\n",
              "    }\n",
              "    20% {\n",
              "      border-color: transparent;\n",
              "      border-left-color: var(--fill-color);\n",
              "      border-top-color: var(--fill-color);\n",
              "    }\n",
              "    30% {\n",
              "      border-color: transparent;\n",
              "      border-left-color: var(--fill-color);\n",
              "      border-top-color: var(--fill-color);\n",
              "      border-right-color: var(--fill-color);\n",
              "    }\n",
              "    40% {\n",
              "      border-color: transparent;\n",
              "      border-right-color: var(--fill-color);\n",
              "      border-top-color: var(--fill-color);\n",
              "    }\n",
              "    60% {\n",
              "      border-color: transparent;\n",
              "      border-right-color: var(--fill-color);\n",
              "    }\n",
              "    80% {\n",
              "      border-color: transparent;\n",
              "      border-right-color: var(--fill-color);\n",
              "      border-bottom-color: var(--fill-color);\n",
              "    }\n",
              "    90% {\n",
              "      border-color: transparent;\n",
              "      border-bottom-color: var(--fill-color);\n",
              "    }\n",
              "  }\n",
              "</style>\n",
              "\n",
              "  <script>\n",
              "    async function quickchart(key) {\n",
              "      const quickchartButtonEl =\n",
              "        document.querySelector('#' + key + ' button');\n",
              "      quickchartButtonEl.disabled = true;  // To prevent multiple clicks.\n",
              "      quickchartButtonEl.classList.add('colab-df-spinner');\n",
              "      try {\n",
              "        const charts = await google.colab.kernel.invokeFunction(\n",
              "            'suggestCharts', [key], {});\n",
              "      } catch (error) {\n",
              "        console.error('Error during call to suggestCharts:', error);\n",
              "      }\n",
              "      quickchartButtonEl.classList.remove('colab-df-spinner');\n",
              "      quickchartButtonEl.classList.add('colab-df-quickchart-complete');\n",
              "    }\n",
              "    (() => {\n",
              "      let quickchartButtonEl =\n",
              "        document.querySelector('#df-1d41ebcc-6b69-4df1-95ba-81c947eb46f7 button');\n",
              "      quickchartButtonEl.style.display =\n",
              "        google.colab.kernel.accessAllowed ? 'block' : 'none';\n",
              "    })();\n",
              "  </script>\n",
              "</div>\n",
              "    </div>\n",
              "  </div>\n"
            ],
            "application/vnd.google.colaboratory.intrinsic+json": {
              "type": "dataframe",
              "variable_name": "train_df",
              "summary": "{\n  \"name\": \"train_df\",\n  \"rows\": 519,\n  \"fields\": [\n    {\n      \"column\": \"ners\",\n      \"properties\": {\n        \"dtype\": \"object\",\n        \"semantic_type\": \"\",\n        \"description\": \"\"\n      }\n    },\n    {\n      \"column\": \"sentences\",\n      \"properties\": {\n        \"dtype\": \"string\",\n        \"num_unique_values\": 519,\n        \"samples\": [\n          \"\\u0421\\u043e\\u0441\\u0442\\u043e\\u044f\\u043b\\u043e\\u0441\\u044c \\u043e\\u0442\\u043a\\u0440\\u044b\\u0442\\u0438\\u0435 \\u0432\\u044b\\u0441\\u0442\\u0430\\u0432\\u043a\\u0438 \\u00ab\\u201e\\u041f\\u0435\\u0441\\u043e\\u0447\\u043d\\u044b\\u0435 \\u0447\\u0430\\u0441\\u044b\\u201c: \\u0420\\u0438\\u0441\\u0443\\u043d\\u043a\\u0438 \\u0418\\u043e\\u0441\\u0438\\u0444\\u0430 \\u0411\\u0440\\u043e\\u0434\\u0441\\u043a\\u043e\\u0433\\u043e\\u00bb\\n\\u041d\\u0430\\u043a\\u0430\\u043d\\u0443\\u043d\\u0435 \\u0432 \\u0437\\u0430\\u043b\\u0435 \\u041a\\u043e\\u0440\\u0444\\u0430 \\u0432 \\u0413\\u043b\\u0430\\u0432\\u043d\\u043e\\u043c \\u0437\\u0434\\u0430\\u043d\\u0438\\u0438 \\u0420\\u043e\\u0441\\u0441\\u0438\\u0439\\u0441\\u043a\\u043e\\u0439 \\u043d\\u0430\\u0446\\u0438\\u043e\\u043d\\u0430\\u043b\\u044c\\u043d\\u043e\\u0439 \\u0431\\u0438\\u0431\\u043b\\u0438\\u043e\\u0442\\u0435\\u043a\\u0438 \\u0432 \\u0440\\u0430\\u043c\\u043a\\u0430\\u0445 \\u0413\\u043e\\u0434\\u0430 \\u0418\\u043e\\u0441\\u0438\\u0444\\u0430 \\u0411\\u0440\\u043e\\u0434\\u0441\\u043a\\u043e\\u0433\\u043e \\u0432 \\u0420\\u043e\\u0441\\u0441\\u0438\\u0438 \\u0441\\u043e\\u0441\\u0442\\u043e\\u044f\\u043b\\u043e\\u0441\\u044c \\u043e\\u0442\\u043a\\u0440\\u044b\\u0442\\u0438\\u0435 \\u0443\\u043d\\u0438\\u043a\\u0430\\u043b\\u044c\\u043d\\u043e\\u0439 \\u0432\\u044b\\u0441\\u0442\\u0430\\u0432\\u043a\\u0438 \\u00ab\\u041f\\u0435\\u0441\\u043e\\u0447\\u043d\\u044b\\u0435 \\u0447\\u0430\\u0441\\u044b\\u00bb: \\u0420\\u0438\\u0441\\u0443\\u043d\\u043a\\u0438 \\u0418\\u043e\\u0441\\u0438\\u0444\\u0430 \\u0411\\u0440\\u043e\\u0434\\u0441\\u043a\\u043e\\u0433\\u043e\\u00bb, \\u043f\\u0440\\u0438\\u0443\\u0440\\u043e\\u0447\\u0435\\u043d\\u043d\\u043e\\u0439 \\u043a 70-\\u043b\\u0435\\u0442\\u0438\\u044e \\u0441\\u043e \\u0434\\u043d\\u044f \\u0440\\u043e\\u0436\\u0434\\u0435\\u043d\\u0438\\u044f \\u043f\\u043e\\u044d\\u0442\\u0430. \\u041d\\u0430 \\u044d\\u043a\\u0441\\u043f\\u043e\\u0437\\u0438\\u0446\\u0438\\u0438 \\u043f\\u0440\\u0435\\u0434\\u0441\\u0442\\u0430\\u0432\\u043b\\u0435\\u043d\\u044b \\u043d\\u0435\\u043e\\u043f\\u0443\\u0431\\u043b\\u0438\\u043a\\u043e\\u0432\\u0430\\u043d\\u043d\\u044b\\u0435 \\u0440\\u0438\\u0441\\u0443\\u043d\\u043a\\u0438 \\u0411\\u0440\\u043e\\u0434\\u0441\\u043a\\u043e\\u0433\\u043e \\u0438\\u0437 \\u0435\\u0433\\u043e \\u0430\\u0440\\u0445\\u0438\\u0432\\u0430, \\u0445\\u0440\\u0430\\u043d\\u044f\\u0449\\u0435\\u0433\\u043e\\u0441\\u044f \\u0432 \\u041e\\u0442\\u0434\\u0435\\u043b\\u0435 \\u0440\\u0443\\u043a\\u043e\\u043f\\u0438\\u0441\\u0435\\u0439 \\u0420\\u041d\\u0411, \\u0438\\u0437 \\u0444\\u043e\\u043d\\u0434\\u043e\\u0432 \\u041c\\u0443\\u0437\\u0435\\u044f \\u0410\\u043d\\u043d\\u044b \\u0410\\u0445\\u043c\\u0430\\u0442\\u043e\\u0432\\u043e\\u0439 \\u0432 \\u0424\\u043e\\u043d\\u0442\\u0430\\u043d\\u043d\\u043e\\u043c \\u0434\\u043e\\u043c\\u0435, \\u0438\\u0437 \\u0447\\u0430\\u0441\\u0442\\u043d\\u044b\\u0445 \\u0430\\u0440\\u0445\\u0438\\u0432\\u043e\\u0432 \\u0438 \\u0441\\u043e\\u0431\\u0440\\u0430\\u043d\\u0438\\u0439.\\n\\n\\u0420\\u0438\\u0441\\u0443\\u043d\\u043a\\u0438 \\u043e\\u0442\\u0440\\u0430\\u0436\\u0430\\u044e\\u0442 \\u0435\\u0449\\u0451 \\u043e\\u0434\\u043d\\u0443 \\u0433\\u0440\\u0430\\u043d\\u044c \\u0442\\u0430\\u043b\\u0430\\u043d\\u0442\\u0430 \\u0418\\u043e\\u0441\\u0438\\u0444\\u0430 \\u0411\\u0440\\u043e\\u0434\\u0441\\u043a\\u043e\\u0433\\u043e \\u0438 \\u044f\\u0432\\u043b\\u044f\\u044e\\u0442\\u0441\\u044f \\u0432\\u0430\\u0436\\u043d\\u044b\\u043c \\u0438\\u0441\\u0442\\u043e\\u0447\\u043d\\u0438\\u043a\\u043e\\u043c \\u0434\\u043b\\u044f \\u0438\\u0437\\u0443\\u0447\\u0435\\u043d\\u0438\\u044f \\u0435\\u0433\\u043e \\u0436\\u0438\\u0437\\u043d\\u0438 \\u0438 \\u0442\\u0432\\u043e\\u0440\\u0447\\u0435\\u0441\\u0442\\u0432\\u0430. \\u041a\\u0440\\u043e\\u043c\\u0435 \\u0440\\u0438\\u0441\\u0443\\u043d\\u043a\\u043e\\u0432, \\u043d\\u0430 \\u044d\\u043a\\u0441\\u043f\\u043e\\u0437\\u0438\\u0446\\u0438\\u0438 \\u0432\\u044b\\u0441\\u0442\\u0430\\u0432\\u043b\\u0435\\u043d\\u044b \\u0430\\u0432\\u0442\\u043e\\u0433\\u0440\\u0430\\u0444\\u044b \\u0441\\u0442\\u0438\\u0445\\u043e\\u0442\\u0432\\u043e\\u0440\\u043d\\u044b\\u0445 \\u0438 \\u043f\\u0440\\u043e\\u0437\\u0430\\u0438\\u0447\\u0435\\u0441\\u043a\\u0438\\u0445 \\u043f\\u0440\\u043e\\u0438\\u0437\\u0432\\u0435\\u0434\\u0435\\u043d\\u0438\\u0439 \\u0411\\u0440\\u043e\\u0434\\u0441\\u043a\\u043e\\u0433\\u043e, \\u0441\\u0442\\u0440\\u0430\\u043d\\u0438\\u0446\\u044b \\u0434\\u043d\\u0435\\u0432\\u043d\\u0438\\u043a\\u043e\\u0432\\u044b\\u0445 \\u0437\\u0430\\u043f\\u0438\\u0441\\u0435\\u0439, \\u0444\\u0440\\u0430\\u0433\\u043c\\u0435\\u043d\\u0442\\u044b \\u043f\\u0438\\u0441\\u0435\\u043c, \\u0444\\u043e\\u0442\\u043e\\u0433\\u0440\\u0430\\u0444\\u0438\\u0438 \\u043f\\u043e\\u044d\\u0442\\u0430 \\u0438 \\u043f\\u0435\\u0447\\u0430\\u0442\\u043d\\u044b\\u0435 \\u0438\\u0437\\u0434\\u0430\\u043d\\u0438\\u044f \\u0435\\u0433\\u043e \\u043f\\u0440\\u043e\\u0438\\u0437\\u0432\\u0435\\u0434\\u0435\\u043d\\u0438\\u0439 \\u043d\\u0430 \\u0440\\u0443\\u0441\\u0441\\u043a\\u043e\\u043c, \\u0430\\u043d\\u0433\\u043b\\u0438\\u0439\\u0441\\u043a\\u043e\\u043c \\u0438 \\u0434\\u0440\\u0443\\u0433\\u0438\\u0445 \\u044f\\u0437\\u044b\\u043a\\u0430\\u0445.\\n\",\n          \"\\u0412\\u0430\\u0445\\u0442\\u0443 \\u043f\\u0440\\u0438\\u043d\\u044f\\u043b\\n\\n\\u0423\\u043e\\u0440\\u0440\\u0435\\u043d \\u0411\\u0430\\u0444\\u0444\\u0435\\u0442 \\u043d\\u0430\\u0437\\u0432\\u0430\\u043b \\u0441\\u0432\\u043e\\u0435\\u0433\\u043e \\u043f\\u043e\\u0442\\u0435\\u043d\\u0446\\u0438\\u0430\\u043b\\u044c\\u043d\\u043e\\u0433\\u043e \\u043f\\u0440\\u0435\\u0435\\u043c\\u043d\\u0438\\u043a\\u0430\\n\\n\\u041c\\u0438\\u043b\\u043b\\u0438\\u0430\\u0440\\u0434\\u0435\\u0440 \\u0423\\u043e\\u0440\\u0440\\u0435\\u043d \\u0411\\u0430\\u0444\\u0444\\u0435\\u0442, \\u043f\\u043e\\u0445\\u043e\\u0436\\u0435, \\u043d\\u0430\\u0447\\u0430\\u043b \\u0440\\u0430\\u0437\\u0434\\u0430\\u0432\\u0430\\u0442\\u044c \\u043f\\u043e\\u0441\\u0442\\u044b \\u0432 \\u043a\\u043e\\u043c\\u0430\\u043d\\u0434\\u0435, \\u043a\\u043e\\u0442\\u043e\\u0440\\u0430\\u044f \\u043f\\u0440\\u0438\\u043c\\u0435\\u0442 \\u0431\\u0440\\u0430\\u0437\\u0434\\u044b \\u043f\\u0440\\u0430\\u0432\\u043b\\u0435\\u043d\\u0438\\u044f \\u0432 \\u0441\\u043e\\u0437\\u0434\\u0430\\u043d\\u043d\\u043e\\u0439 \\u0438\\u043c \\u0434\\u0435\\u043b\\u043e\\u0432\\u043e\\u0439 \\u0438\\u043c\\u043f\\u0435\\u0440\\u0438\\u0438. 25 \\u043e\\u043a\\u0442\\u044f\\u0431\\u0440\\u044f \\u043e\\u043d \\u043e\\u0431\\u044a\\u044f\\u0432\\u0438\\u043b \\u043e \\u0442\\u043e\\u043c, \\u0447\\u0442\\u043e \\u0443\\u043f\\u0440\\u0430\\u0432\\u043b\\u044f\\u044e\\u0449\\u0438\\u0439 \\u043d\\u0435\\u0431\\u043e\\u043b\\u044c\\u0448\\u043e\\u0433\\u043e \\u0444\\u043e\\u043d\\u0434\\u0430 \\u0432 \\u041a\\u043e\\u043d\\u043d\\u0435\\u043a\\u0442\\u0438\\u043a\\u0443\\u0442\\u0435 \\u0422\\u043e\\u0434\\u0434 \\u041a\\u043e\\u0443\\u043c\\u0441 (Todd Combs) \\u0441\\u0442\\u0430\\u043d\\u0435\\u0442 \\u0438\\u043d\\u0432\\u0435\\u0441\\u0442\\u0438\\u0446\\u0438\\u043e\\u043d\\u043d\\u044b\\u043c \\u043c\\u0435\\u043d\\u0435\\u0434\\u0436\\u0435\\u0440\\u043e\\u043c \\u043a\\u043e\\u043c\\u043f\\u0430\\u043d\\u0438\\u0438 Berkshire Hathaway, \\u043f\\u0440\\u0438\\u0447\\u0435\\u043c \\u043f\\u043e\\u0434 \\u0435\\u0433\\u043e \\u0440\\u0443\\u043a\\u043e\\u0432\\u043e\\u0434\\u0441\\u0442\\u0432\\u043e \\u0431\\u0443\\u0434\\u0435\\u0442 \\u043e\\u0442\\u0434\\u0430\\u043d\\u0430 \\\"\\u0437\\u043d\\u0430\\u0447\\u0438\\u0442\\u0435\\u043b\\u044c\\u043d\\u0430\\u044f \\u0447\\u0430\\u0441\\u0442\\u044c\\\" \\u0430\\u043a\\u0442\\u0438\\u0432\\u043e\\u0432 \\u043a\\u043e\\u043c\\u043f\\u0430\\u043d\\u0438\\u0438.\\n\\n\\u041a\\u043e\\u043d\\u043a\\u0440\\u0435\\u0442\\u043d\\u044b\\u0435 \\u0446\\u0438\\u0444\\u0440\\u044b \\u0423\\u043e\\u0440\\u0440\\u0435\\u043d \\u0411\\u0430\\u0444\\u0444\\u0435\\u0442 \\u043d\\u0435 \\u043d\\u0430\\u0437\\u0432\\u0430\\u043b, \\u043e\\u0434\\u043d\\u0430\\u043a\\u043e \\u043d\\u0435 \\u0434\\u043e\\u0432\\u0435\\u0440\\u044f\\u0442\\u044c \\u0435\\u043c\\u0443, \\u043a\\u043e\\u0433\\u0434\\u0430 \\u0440\\u0435\\u0447\\u044c \\u0438\\u0434\\u0435\\u0442 \\u043e \\u0441\\u0442\\u043e\\u043b\\u044c \\u0437\\u043d\\u0430\\u0447\\u0438\\u043c\\u043e\\u043c \\u043d\\u0430\\u0437\\u043d\\u0430\\u0447\\u0435\\u043d\\u0438\\u0438, \\u043d\\u0435\\u0442 \\u043d\\u0438\\u043a\\u0430\\u043a\\u0438\\u0445 \\u043e\\u0441\\u043d\\u043e\\u0432\\u0430\\u043d\\u0438\\u0439. \\u0422\\u0435\\u043c \\u0431\\u043e\\u043b\\u0435\\u0435 \\u0443\\u0434\\u0438\\u0432\\u0438\\u0442\\u0435\\u043b\\u044c\\u043d\\u044b\\u043c \\u043a\\u0430\\u0436\\u0435\\u0442\\u0441\\u044f \\u044d\\u0442\\u0430 \\u043f\\u0435\\u0440\\u0435\\u0441\\u0442\\u0430\\u043d\\u043e\\u0432\\u043a\\u0430. \\u0414\\u0435\\u043b\\u043e \\u0432 \\u0442\\u043e\\u043c, \\u0447\\u0442\\u043e 39-\\u043b\\u0435\\u0442\\u043d\\u0438\\u0439 \\u041a\\u043e\\u0443\\u043c\\u0441 \\u0432\\u043e\\u0432\\u0441\\u0435 \\u043d\\u0435 \\u044f\\u0432\\u043b\\u044f\\u0435\\u0442\\u0441\\u044f \\\"\\u0430\\u043a\\u0443\\u043b\\u043e\\u0439\\\" \\u0423\\u043e\\u043b\\u043b-\\u0421\\u0442\\u0440\\u0438\\u0442. \\u0414\\u043e \\u0441\\u0435\\u0433\\u043e \\u043c\\u043e\\u043c\\u0435\\u043d\\u0442\\u0430 \\u043e\\u043d \\u0432\\u0441\\u0435\\u0433\\u043e \\u043b\\u0438\\u0448\\u044c \\u0443\\u043f\\u0440\\u0430\\u0432\\u043b\\u044f\\u043b \\u0444\\u043e\\u043d\\u0434\\u043e\\u043c Castle Point Capital \\u0432 \\u0433\\u043e\\u0440\\u043e\\u0434\\u043a\\u0435 \\u0413\\u0440\\u0438\\u043d\\u0432\\u0438\\u0447. \\u041f\\u043e\\u0434 \\u0435\\u0433\\u043e \\u043e\\u0442\\u0432\\u0435\\u0442\\u0441\\u0442\\u0432\\u0435\\u043d\\u043d\\u043e\\u0441\\u0442\\u044c\\u044e \\u043d\\u0430\\u0445\\u043e\\u0434\\u0438\\u043b\\u043e\\u0441\\u044c \\\"\\u0432\\u0441\\u0435\\u0433\\u043e\\\" 400 \\u043c\\u0438\\u043b\\u043b\\u0438\\u043e\\u043d\\u043e\\u0432 \\u0434\\u043e\\u043b\\u043b\\u0430\\u0440\\u043e\\u0432 - \\u043f\\u0440\\u0430\\u043a\\u0442\\u0438\\u0447\\u0435\\u0441\\u043a\\u0438 \\u043d\\u0438\\u0447\\u0442\\u043e \\u0432 \\u0441\\u0440\\u0430\\u0432\\u043d\\u0435\\u043d\\u0438\\u0438 \\u0441 \\u043c\\u043d\\u043e\\u0433\\u043e\\u043c\\u0438\\u043b\\u043b\\u0438\\u0430\\u0440\\u0434\\u043d\\u044b\\u043c\\u0438 \\u0438\\u043d\\u0432\\u0435\\u0441\\u0442\\u0438\\u0446\\u0438\\u044f\\u043c\\u0438 Berkshire Hathaway.\\n\\n\\u0422\\u0430\\u043a, \\u0431\\u0438\\u043e\\u0433\\u0440\\u0430\\u0444 \\u0411\\u0430\\u0444\\u0444\\u0435\\u0442\\u0430 \\u042d\\u043d\\u0434\\u0438 \\u041a\\u0438\\u043b\\u043f\\u0430\\u0442\\u0440\\u0438\\u043a \\u0437\\u0430\\u044f\\u0432\\u0438\\u043b, \\u0447\\u0442\\u043e \\u043d\\u0438\\u0447\\u0435\\u0433\\u043e \\u043d\\u0435 \\u0437\\u043d\\u0430\\u0435\\u0442 \\u043e\\u0431 \\u044d\\u0442\\u043e\\u043c \\u0447\\u0435\\u043b\\u043e\\u0432\\u0435\\u043a\\u0435. \\\"\\u042d\\u0442\\u043e, \\u043a\\u043e\\u043d\\u0435\\u0447\\u043d\\u043e, \\u043d\\u0435 \\u0437\\u043d\\u0430\\u0447\\u0438\\u0442, \\u0447\\u0442\\u043e \\u043e\\u043d \\u043d\\u0435 \\u0431\\u043b\\u0435\\u0441\\u0442\\u044f\\u0449\\\", - \\u0434\\u043e\\u0431\\u0430\\u0432\\u0438\\u043b \\u041a\\u0438\\u043b\\u043f\\u0430\\u0442\\u0440\\u0438\\u043a, \\u043d\\u043e \\u043d\\u0435\\u043e\\u0441\\u0432\\u0435\\u0434\\u043e\\u043c\\u043b\\u0435\\u043d\\u043d\\u043e\\u0441\\u0442\\u044c \\u0441\\u0442\\u043e\\u043b\\u044c \\u0441\\u0432\\u0435\\u0434\\u0443\\u0449\\u0435\\u0433\\u043e \\u043e \\u0434\\u0435\\u043b\\u0430\\u0445 \\u043c\\u0438\\u043b\\u043b\\u0438\\u0430\\u0440\\u0434\\u0435\\u0440\\u0430 \\u0441\\u043f\\u0435\\u0446\\u0438\\u0430\\u043b\\u0438\\u0441\\u0442\\u0430 \\u0433\\u043e\\u0432\\u043e\\u0440\\u0438\\u0442 \\u043e \\u0442\\u043e\\u043c, \\u0447\\u0442\\u043e \\u044d\\u0442\\u043e \\u0440\\u0435\\u0448\\u0435\\u043d\\u0438\\u0435 \\u0440\\u043e\\u0436\\u0434\\u0430\\u043b\\u043e\\u0441\\u044c \\u0432 \\u043e\\u0431\\u0441\\u0442\\u0430\\u043d\\u043e\\u0432\\u043a\\u0435 \\u043f\\u043e\\u043b\\u043d\\u043e\\u0439 \\u0441\\u0435\\u043a\\u0440\\u0435\\u0442\\u043d\\u043e\\u0441\\u0442\\u0438.\\n\\n\\u0421\\u0430\\u043c \\u0411\\u0430\\u0444\\u0444\\u0435\\u0442 \\u043d\\u0435 \\u0441\\u043a\\u0440\\u044b\\u0432\\u0430\\u0435\\u0442 \\u0441\\u0432\\u043e\\u0435\\u0433\\u043e \\u0443\\u0434\\u043e\\u0432\\u043e\\u043b\\u044c\\u0441\\u0442\\u0432\\u0438\\u044f \\u043e\\u0442 \\u043d\\u043e\\u0432\\u043e\\u0433\\u043e \\u043d\\u0430\\u0437\\u043d\\u0430\\u0447\\u0435\\u043d\\u0438\\u044f. \\\"\\u0421\\u043f\\u0435\\u0446\\u0438\\u0430\\u043b\\u0438\\u0441\\u0442\\u0430 \\u0442\\u0430\\u043a\\u043e\\u0433\\u043e \\u043a\\u0430\\u043b\\u0438\\u0431\\u0440\\u0430, \\u043a\\u0430\\u043a \\u0422\\u043e\\u0434\\u0434, \\u043c\\u044b \\u0438\\u0441\\u043a\\u0430\\u043b\\u0438 \\u0432 \\u0442\\u0435\\u0447\\u0435\\u043d\\u0438\\u0435 \\u0442\\u0440\\u0435\\u0445 \\u043b\\u0435\\u0442, - \\u0437\\u0430\\u044f\\u0432\\u0438\\u043b \\u043e\\u043d. - \\u041c\\u044b \\u0432 \\u0432\\u043e\\u0441\\u0442\\u043e\\u0440\\u0433\\u0435 \\u043e\\u0442 \\u0442\\u043e\\u0433\\u043e, \\u0447\\u0442\\u043e \\u043e\\u043d \\u043f\\u0440\\u0438\\u0441\\u043e\\u0435\\u0434\\u0438\\u043d\\u0438\\u043b\\u0441\\u044f \\u043a \\u043d\\u0430\\u043c\\\".\\n\\n\\u0422\\u043e\\u0434\\u0434 \\u041a\\u043e\\u0443\\u043c\\u0441 \\u0440\\u043e\\u0434\\u0438\\u043b\\u0441\\u044f \\u0438 \\u0432\\u044b\\u0440\\u043e\\u0441 \\u0432\\u043e \\u0424\\u043b\\u043e\\u0440\\u0438\\u0434\\u0435. \\u041e\\u0434\\u043d\\u0430\\u043a\\u043e \\u0441\\u0432\\u043e\\u044e \\u0441\\u043f\\u0435\\u0446\\u0438\\u0430\\u043b\\u0438\\u0437\\u0430\\u0446\\u0438\\u044e \\u043e\\u043d \\u043f\\u043e\\u043b\\u0443\\u0447\\u0438\\u043b \\u0432 \\u041a\\u043e\\u043b\\u0443\\u043c\\u0431\\u0438\\u0439\\u0441\\u043a\\u043e\\u0439 \\u0431\\u0438\\u0437\\u043d\\u0435\\u0441-\\u0448\\u043a\\u043e\\u043b\\u0435 \\u0432 \\u041d\\u044c\\u044e-\\u0419\\u043e\\u0440\\u043a\\u0435, \\u043a\\u043e\\u0442\\u043e\\u0440\\u0430\\u044f \\u043e\\u0434\\u043d\\u043e\\u0432\\u0440\\u0435\\u043c\\u0435\\u043d\\u043d\\u043e \\u044f\\u0432\\u043b\\u044f\\u0435\\u0442\\u0441\\u044f \\u0430\\u043b\\u044c\\u043c\\u0430-\\u043c\\u0430\\u0442\\u0435\\u0440 \\u0441\\u0430\\u043c\\u043e\\u0433\\u043e \\u0423\\u043e\\u0440\\u0440\\u0435\\u043d\\u0430 \\u0411\\u0430\\u0444\\u0444\\u0435\\u0442\\u0430. \\u0412 2006 \\u0433\\u043e\\u0434\\u0443 \\u041a\\u043e\\u0443\\u043c\\u0441 \\u043e\\u0441\\u043d\\u043e\\u0432\\u0430\\u043b \\u0444\\u043e\\u043d\\u0434 Castle Point, \\u0437\\u0430\\u0440\\u0443\\u0447\\u0438\\u0432\\u0448\\u0438\\u0441\\u044c \\u043f\\u043e\\u0434\\u0434\\u0435\\u0440\\u0436\\u043a\\u043e\\u0439 \\u0443 \\u0431\\u044b\\u0432\\u0448\\u0435\\u0433\\u043e \\u0442\\u043e\\u043f-\\u043c\\u0435\\u043d\\u0435\\u0434\\u0436\\u0435\\u0440\\u0430 \\u0431\\u0430\\u043d\\u043a\\u0430 Goldman Sachs \\u0421\\u0442\\u0438\\u0432\\u0435\\u043d\\u0430 \\u0424\\u0440\\u0438\\u0434\\u043c\\u0430\\u043d\\u0430.\\n\\n\\u0424\\u043e\\u043d\\u0434 \\u041a\\u043e\\u0443\\u043c\\u0441\\u0430 \\u0441\\u043f\\u0435\\u0446\\u0438\\u0430\\u043b\\u0438\\u0437\\u0438\\u0440\\u0443\\u0435\\u0442\\u0441\\u044f \\u043d\\u0430 \\u0432\\u043b\\u043e\\u0436\\u0435\\u043d\\u0438\\u044f\\u0445 \\u0432 \\u0430\\u043c\\u0435\\u0440\\u0438\\u043a\\u0430\\u043d\\u0441\\u043a\\u0438\\u0435 \\u0444\\u0438\\u043d\\u0430\\u043d\\u0441\\u043e\\u0432\\u044b\\u0435 \\u043e\\u0440\\u0433\\u0430\\u043d\\u0438\\u0437\\u0430\\u0446\\u0438\\u0438. \\u041d\\u0435\\u0441\\u043c\\u043e\\u0442\\u0440\\u044f \\u043d\\u0430 \\u0441\\u043e\\u043a\\u0440\\u0443\\u0448\\u0438\\u0442\\u0435\\u043b\\u044c\\u043d\\u044b\\u0439 \\u0434\\u043b\\u044f \\u0432\\u0441\\u0435\\u0433\\u043e \\u0444\\u0438\\u043d\\u0430\\u043d\\u0441\\u043e\\u0432\\u043e\\u0433\\u043e \\u0441\\u0435\\u043a\\u0442\\u043e\\u0440\\u0430 \\u0421\\u0428\\u0410 \\u043a\\u0440\\u0438\\u0437\\u0438\\u0441 2007-2009 \\u0433\\u043e\\u0434\\u043e\\u0432, \\u0444\\u043e\\u043d\\u0434 \\u043e\\u0441\\u0442\\u0430\\u043b\\u0441\\u044f \\u043d\\u0430 \\u043f\\u043b\\u0430\\u0432\\u0443, \\u0438\\u043d\\u0432\\u0435\\u0441\\u0442\\u0438\\u0440\\u0443\\u044f \\u0432 U.S. Bancorp, MasterCard, Western Union \\u0438 Chubb Corp. \\u042d\\u0442\\u0438 \\u043a\\u043e\\u043c\\u043f\\u0430\\u043d\\u0438\\u0438 \\u043f\\u0435\\u0440\\u0435\\u0436\\u0438\\u043b\\u0438 \\u043a\\u0440\\u0438\\u0437\\u0438\\u0441 \\u043b\\u0435\\u0433\\u0447\\u0435, \\u0447\\u0435\\u043c \\u0438\\u0445 \\u043a\\u043e\\u043d\\u043a\\u0443\\u0440\\u0435\\u043d\\u0442\\u044b \\u0438 \\u043f\\u0430\\u0440\\u0442\\u043d\\u0435\\u0440\\u044b.\\n\\n\\u0411\\u0430\\u0444\\u0444\\u0435\\u0442 \\u043f\\u043e\\u0437\\u043d\\u0430\\u043a\\u043e\\u043c\\u0438\\u043b\\u0441\\u044f \\u0441 \\u041a\\u043e\\u0443\\u043c\\u0441\\u043e\\u043c \\u043f\\u0440\\u0438 \\u043f\\u043e\\u043c\\u043e\\u0449\\u0438 \\u0441\\u0432\\u043e\\u0435\\u0433\\u043e \\u0437\\u0430\\u043c\\u0435\\u0441\\u0442\\u0438\\u0442\\u0435\\u043b\\u044f \\u0421\\u0442\\u0438\\u0432\\u0435\\u043d\\u0430 \\u041c\\u0430\\u043d\\u0433\\u0435\\u0440\\u0430. \\u0417\\u0430 \\u043c\\u043e\\u043b\\u043e\\u0434\\u044b\\u043c (\\u0441\\u0440\\u0430\\u0432\\u043d\\u0438\\u0442\\u0435\\u043b\\u044c\\u043d\\u043e) \\u0447\\u0435\\u043b\\u043e\\u0432\\u0435\\u043a\\u043e\\u043c \\u0441\\u043b\\u0435\\u0434\\u0438\\u043b\\u0438 \\u0432 \\u0442\\u0435\\u0447\\u0435\\u043d\\u0438\\u0435 \\u043d\\u0435\\u0441\\u043a\\u043e\\u043b\\u044c\\u043a\\u0438\\u0445 \\u043b\\u0435\\u0442 \\u0438 \\u0432 \\u043a\\u043e\\u043d\\u0446\\u0435 \\u043a\\u043e\\u043d\\u0446\\u043e\\u0432 \\u043f\\u0440\\u0438\\u0448\\u043b\\u0438 \\u043a \\u0432\\u044b\\u0432\\u043e\\u0434\\u0443, \\u0447\\u0442\\u043e \\u043b\\u0443\\u0447\\u0448\\u0435\\u0439 \\u043a\\u0430\\u043d\\u0434\\u0438\\u0434\\u0430\\u0442\\u0443\\u0440\\u044b \\u043d\\u0430 \\u043f\\u043e\\u0441\\u0442 \\u0443\\u043f\\u0440\\u0430\\u0432\\u043b\\u044f\\u044e\\u0449\\u0435\\u0433\\u043e \\u0430\\u043a\\u0442\\u0438\\u0432\\u0430\\u043c\\u0438 \\u043d\\u0435 \\u043d\\u0430\\u0439\\u0442\\u0438.\\n\\n\\u0424\\u0435\\u0440\\u043c\\u0435\\u0440 \\u0438 \\u0441\\u0442\\u0443\\u0434\\u0435\\u043d\\u0447\\u0435\\u0441\\u043a\\u0438\\u0439 \\u0432\\u043e\\u0436\\u0430\\u043a\\n\\n\\u0425\\u043e\\u0442\\u044f 80-\\u043b\\u0435\\u0442\\u043d\\u0438\\u0439 \\u0411\\u0430\\u0444\\u0444\\u0435\\u0442 \\u043f\\u043e\\u043a\\u0430 \\u043e\\u0442\\u0445\\u043e\\u0434\\u0438\\u0442\\u044c \\u043e\\u0442 \\u0434\\u0435\\u043b \\u043d\\u0435 \\u0441\\u043e\\u0431\\u0438\\u0440\\u0430\\u0435\\u0442\\u0441\\u044f (\\u043f\\u043e \\u0435\\u0433\\u043e \\u0441\\u043b\\u043e\\u0432\\u0430\\u043c, \\u043e\\u043d \\u043d\\u0435 \\u0436\\u0430\\u043b\\u0443\\u0435\\u0442\\u0441\\u044f \\u043d\\u0430 \\u0437\\u0434\\u043e\\u0440\\u043e\\u0432\\u044c\\u0435 \\u0438 \\u0432\\u0441\\u0435 \\u0435\\u0449\\u0435 \\u043e\\u0431\\u043e\\u0436\\u0430\\u0435\\u0442 \\u0441\\u0432\\u043e\\u044e \\u0440\\u0430\\u0431\\u043e\\u0442\\u0443), \\u0432 \\u0442\\u0430\\u043a\\u043e\\u043c \\u0432\\u043e\\u0437\\u0440\\u0430\\u0441\\u0442\\u0435 \\u043f\\u043e\\u0440\\u0430 \\u043f\\u043e\\u0434\\u0431\\u0438\\u0440\\u0430\\u0442\\u044c \\u0441\\u0435\\u0431\\u0435 \\u0434\\u043e\\u0441\\u0442\\u043e\\u0439\\u043d\\u044b\\u0445 \\u043f\\u0440\\u0435\\u0435\\u043c\\u043d\\u0438\\u043a\\u043e\\u0432, \\u0447\\u0442\\u043e \\u0411\\u0430\\u0444\\u0444\\u0435\\u0442 \\u0438 \\u043d\\u0430\\u0447\\u0430\\u043b \\u0434\\u0435\\u043b\\u0430\\u0442\\u044c \\u0441 2006 \\u0433\\u043e\\u0434\\u0430. \\u0422\\u0430\\u043a\\u043e\\u0439 \\u043e\\u0441\\u043d\\u043e\\u0432\\u0430\\u0442\\u0435\\u043b\\u044c\\u043d\\u044b\\u0439 \\u0447\\u0435\\u043b\\u043e\\u0432\\u0435\\u043a \\u0435\\u0434\\u0432\\u0430 \\u043b\\u0438 \\u0431\\u0443\\u0434\\u0435\\u0442 \\u043f\\u0438\\u0441\\u0430\\u0442\\u044c \\u0437\\u0430\\u0432\\u0435\\u0449\\u0430\\u043d\\u0438\\u0435 \\u0432 \\u043f\\u043e\\u0441\\u043b\\u0435\\u0434\\u043d\\u0438\\u0439 \\u043c\\u043e\\u043c\\u0435\\u043d\\u0442. \\u0422\\u043e\\u0434\\u0434 \\u041a\\u043e\\u0443\\u043c\\u0441 \\u0441\\u0442\\u0430\\u043b \\u043b\\u0438\\u0448\\u044c \\u043e\\u0447\\u0435\\u0440\\u0435\\u0434\\u043d\\u044b\\u043c \\u043a\\u0430\\u043d\\u0434\\u0438\\u0434\\u0430\\u0442\\u043e\\u043c \\u0432 \\u043a\\u043e\\u043c\\u0430\\u043d\\u0434\\u0443, \\u043a\\u043e\\u0442\\u043e\\u0440\\u0430\\u044f \\u0431\\u0443\\u0434\\u0435\\u0442 \\u0443\\u043f\\u0440\\u0430\\u0432\\u043b\\u044f\\u0442\\u044c \\u0434\\u0435\\u043b\\u0430\\u043c\\u0438 \\u043c\\u0438\\u043b\\u043b\\u0438\\u0430\\u0440\\u0434\\u0435\\u0440\\u0430 \\u043f\\u043e\\u0441\\u043b\\u0435 \\u0435\\u0433\\u043e \\u0443\\u0445\\u043e\\u0434\\u0430 \\u043d\\u0430 \\u043e\\u0442\\u0434\\u044b\\u0445 \\u0438\\u043b\\u0438 \\u043a\\u043e\\u043d\\u0447\\u0438\\u043d\\u044b.\\n\\n\\u0411\\u0430\\u0444\\u0444\\u0435\\u0442 \\u0441\\u043e\\u0431\\u0438\\u0440\\u0430\\u0435\\u0442\\u0441\\u044f \\u0440\\u0430\\u0437\\u0434\\u0435\\u043b\\u0438\\u0442\\u044c \\u043e\\u0442\\u0432\\u0435\\u0442\\u0441\\u0442\\u0432\\u0435\\u043d\\u043d\\u043e\\u0441\\u0442\\u044c \\u0437\\u0430 \\u0443\\u043f\\u0440\\u0430\\u0432\\u043b\\u0435\\u043d\\u0438\\u0435 \\u043a\\u043e\\u043c\\u043f\\u0430\\u043d\\u0438\\u0435\\u0439 \\u0441\\u0440\\u0435\\u0434\\u0438 \\u043d\\u0435\\u0441\\u043a\\u043e\\u043b\\u044c\\u043a\\u0438\\u0445 \\u0447\\u0435\\u043b\\u043e\\u0432\\u0435\\u043a, \\u043a\\u0430\\u0436\\u0434\\u044b\\u0439 \\u0438\\u0437 \\u043a\\u043e\\u0442\\u043e\\u0440\\u044b\\u0445 \\u0437\\u0430\\u0439\\u043c\\u0435\\u0442 \\u043e\\u0434\\u043d\\u0443 \\u0438\\u0437 \\u043a\\u043b\\u044e\\u0447\\u0435\\u0432\\u044b\\u0445 \\u043f\\u043e\\u0437\\u0438\\u0446\\u0438\\u0439. \\u0420\\u0435\\u0447\\u044c \\u0438\\u0434\\u0435\\u0442 \\u043e \\u043f\\u0440\\u0435\\u0437\\u0438\\u0434\\u0435\\u043d\\u0442\\u0435 Berkshire, \\u0434\\u0438\\u0440\\u0435\\u043a\\u0442\\u043e\\u0440\\u0435 \\u043f\\u043e \\u0443\\u043f\\u0440\\u0430\\u0432\\u043b\\u0435\\u043d\\u0438\\u044e \\u0431\\u043e\\u043b\\u0435\\u0435 \\u0447\\u0435\\u043c 70 \\u043a\\u043e\\u043c\\u043f\\u0430\\u043d\\u0438\\u044f\\u043c\\u0438, \\u0432\\u0445\\u043e\\u0434\\u044f\\u0449\\u0438\\u043c\\u0438 \\u0432 \\u0445\\u043e\\u043b\\u0434\\u0438\\u043d\\u0433, \\u0430 \\u0442\\u0430\\u043a\\u0436\\u0435 \\u043d\\u0435\\u0441\\u043a\\u043e\\u043b\\u044c\\u043a\\u0438\\u0445 \\u0438\\u043d\\u0432\\u0435\\u0441\\u0442\\u0438\\u0446\\u0438\\u043e\\u043d\\u043d\\u044b\\u0445 \\u043c\\u0435\\u043d\\u0435\\u0434\\u0436\\u0435\\u0440\\u0430\\u0445.\\n\\n\\u041f\\u0440\\u0435\\u0437\\u0438\\u0434\\u0435\\u043d\\u0442\\u043e\\u043c, \\u043f\\u043e \\u0432\\u0441\\u0435\\u0439 \\u0432\\u0435\\u0440\\u043e\\u044f\\u0442\\u043d\\u043e\\u0441\\u0442\\u0438, \\u0441\\u0442\\u0430\\u043d\\u0435\\u0442 \\u0441\\u0442\\u0430\\u0440\\u0448\\u0438\\u0439 \\u0441\\u044b\\u043d \\u0411\\u0430\\u0444\\u0444\\u0435\\u0442\\u0430 \\u0413\\u043e\\u0432\\u0430\\u0440\\u0434. \\u041e\\u043d \\u0438\\u0437\\u0432\\u0435\\u0441\\u0442\\u0435\\u043d \\u0432 \\u043f\\u0435\\u0440\\u0432\\u0443\\u044e \\u043e\\u0447\\u0435\\u0440\\u0435\\u0434\\u044c \\u0442\\u0435\\u043c, \\u0447\\u0442\\u043e \\u044f\\u0432\\u043b\\u044f\\u0435\\u0442\\u0441\\u044f \\u0441\\u043f\\u0435\\u0446\\u0438\\u0430\\u043b\\u0438\\u0441\\u0442\\u043e\\u043c \\u043f\\u043e \\u0441\\u0435\\u043b\\u044c\\u0441\\u043a\\u043e\\u043c\\u0443 \\u0445\\u043e\\u0437\\u044f\\u0439\\u0441\\u0442\\u0432\\u0443 \\u0438 \\u043b\\u0438\\u0447\\u043d\\u043e \\u0440\\u0443\\u043a\\u043e\\u0432\\u043e\\u0434\\u0438\\u0442 \\u0441\\u0432\\u043e\\u0435\\u0439 \\u043e\\u0433\\u0440\\u043e\\u043c\\u043d\\u043e\\u0439 \\u0444\\u0435\\u0440\\u043c\\u043e\\u0439 \\u0432 \\u0418\\u043b\\u043b\\u0438\\u043d\\u043e\\u0439\\u0441\\u0435. \\u041a\\u0440\\u043e\\u043c\\u0435 \\u0442\\u043e\\u0433\\u043e, \\u043d\\u0430 \\u043d\\u0435\\u043c \\u043b\\u0435\\u0436\\u0438\\u0442 \\u043e\\u0442\\u0432\\u0435\\u0442\\u0441\\u0442\\u0432\\u0435\\u043d\\u043d\\u043e\\u0441\\u0442\\u044c \\u043f\\u043e \\u0443\\u043f\\u0440\\u0430\\u0432\\u043b\\u0435\\u043d\\u0438\\u044e \\u0432\\u0441\\u0435\\u043c\\u0438 \\u0441\\u0435\\u043b\\u044c\\u0441\\u043a\\u043e\\u0445\\u043e\\u0437\\u044f\\u0439\\u0441\\u0442\\u0432\\u0435\\u043d\\u043d\\u044b\\u043c\\u0438 \\u0430\\u043a\\u0442\\u0438\\u0432\\u0430\\u043c\\u0438 Berkshire Hathaway, \\u043e\\u0431\\u044a\\u0435\\u0434\\u0438\\u043d\\u0435\\u043d\\u043d\\u044b\\u043c\\u0438 \\u0432 \\u043a\\u043e\\u043c\\u043f\\u0430\\u043d\\u0438\\u044e Buffett Farms. 56-\\u043b\\u0435\\u0442\\u043d\\u0438\\u0439 \\u0413\\u043e\\u0432\\u0430\\u0440\\u0434 \\u0411\\u0430\\u0444\\u0444\\u0435\\u0442 \\u043d\\u0430\\u043f\\u0438\\u0441\\u0430\\u043b \\u043f\\u043e\\u043b\\u0434\\u044e\\u0436\\u0438\\u043d\\u044b \\u043a\\u043d\\u0438\\u0433 \\u043f\\u043e \\u0441\\u0435\\u043b\\u044c\\u0441\\u043a\\u043e\\u043c\\u0443 \\u0445\\u043e\\u0437\\u044f\\u0439\\u0441\\u0442\\u0432\\u0443, \\u0430 \\u0442\\u0430\\u043a\\u0436\\u0435 \\u0436\\u0438\\u0432\\u043e\\u0442\\u043d\\u043e\\u043c\\u0443 \\u043c\\u0438\\u0440\\u0443.\\n\\n\\u0412 \\u0441\\u0432\\u043e\\u044e \\u043e\\u0447\\u0435\\u0440\\u0435\\u0434\\u044c, \\u0433\\u043b\\u0430\\u0432\\u043d\\u044b\\u043c \\u043f\\u0440\\u0435\\u0442\\u0435\\u043d\\u0434\\u0435\\u043d\\u0442\\u043e\\u043c \\u043d\\u0430 \\u043f\\u043e\\u0441\\u0442 \\u0434\\u0438\\u0440\\u0435\\u043a\\u0442\\u043e\\u0440\\u0430 \\u043f\\u043e \\u043f\\u0440\\u043e\\u0438\\u0437\\u0432\\u043e\\u0434\\u0441\\u0442\\u0432\\u0435\\u043d\\u043d\\u044b\\u043c \\u0430\\u043a\\u0442\\u0438\\u0432\\u0430\\u043c \\u044f\\u0432\\u043b\\u044f\\u0435\\u0442\\u0441\\u044f \\u0437\\u0435\\u043c\\u043b\\u044f\\u043a \\u0411\\u0430\\u0444\\u0444\\u0435\\u0442\\u0430 \\u0414\\u044d\\u0432\\u0438\\u0434 \\u0421\\u043e\\u043a\\u043e\\u043b. \\u0422\\u0430\\u043a\\u0436\\u0435 \\u043a\\u0430\\u043a \\u0438 \\u0441\\u0430\\u043c \\u043c\\u0438\\u043b\\u043b\\u0438\\u0430\\u0440\\u0434\\u0435\\u0440, \\u0421\\u043e\\u043a\\u043e\\u043b \\u0440\\u043e\\u0434\\u0438\\u043b\\u0441\\u044f \\u0432 \\u041e\\u043c\\u0430\\u0445\\u0435 (\\u0448\\u0442\\u0430\\u0442 \\u041d\\u0435\\u0431\\u0440\\u0430\\u0441\\u043a\\u0430). \\u0421\\u0435\\u0439\\u0447\\u0430\\u0441 \\u043e\\u043d \\u044f\\u0432\\u043b\\u044f\\u0435\\u0442\\u0441\\u044f \\u0433\\u043b\\u0430\\u0432\\u043e\\u0439 \\u043a\\u043e\\u043c\\u043f\\u0430\\u043d\\u0438\\u0438 \\u0431\\u0438\\u0437\\u043d\\u0435\\u0441-\\u0430\\u0432\\u0438\\u0430\\u0446\\u0438\\u0438 NetJets, \\u0430 \\u0442\\u0430\\u043a\\u0436\\u0435 \\u044d\\u043d\\u0435\\u0440\\u0433\\u043e\\u0445\\u043e\\u043b\\u0434\\u0438\\u043d\\u0433\\u0430 MidAmerican Energy. \\u041e\\u0431\\u0435 \\u0441\\u0442\\u0440\\u0443\\u043a\\u0442\\u0443\\u0440\\u044b \\u043f\\u043e\\u043b\\u043d\\u043e\\u0441\\u0442\\u044c\\u044e \\u043d\\u0430\\u0445\\u043e\\u0434\\u044f\\u0442\\u0441\\u044f \\u0432 \\u0441\\u043e\\u0431\\u0441\\u0442\\u0432\\u0435\\u043d\\u043d\\u043e\\u0441\\u0442\\u0438 Berkshire.\\n\\n\\u041d\\u0430\\u043a\\u043e\\u043d\\u0435\\u0446, \\u043a\\u043e\\u043c\\u043f\\u0430\\u043d\\u0438\\u044e \\u041a\\u043e\\u0443\\u043c\\u0441\\u0443 \\u0432 \\u043a\\u0430\\u0447\\u0435\\u0441\\u0442\\u0432\\u0435 \\u0438\\u043d\\u0432\\u0435\\u0441\\u0442\\u0438\\u0446\\u0438\\u043e\\u043d\\u043d\\u043e\\u0433\\u043e \\u043c\\u0435\\u043d\\u0435\\u0434\\u0436\\u0435\\u0440\\u0430 \\u0434\\u043e\\u043b\\u0436\\u0435\\u043d \\u0441\\u043e\\u0441\\u0442\\u0430\\u0432\\u0438\\u0442\\u044c \\u043a\\u0438\\u0442\\u0430\\u0435\\u0446 \\u041b\\u0438 \\u041b\\u0443. \\u041b\\u0438 - \\u043e\\u0441\\u043e\\u0431\\u043e \\u043f\\u0440\\u0438\\u043c\\u0435\\u0447\\u0430\\u0442\\u0435\\u043b\\u044c\\u043d\\u0430\\u044f \\u043b\\u0438\\u0447\\u043d\\u043e\\u0441\\u0442\\u044c. \\u0412 23 \\u0433\\u043e\\u0434\\u0430 \\u043e\\u043d \\u0441\\u0442\\u0430\\u043b \\u043e\\u0434\\u043d\\u0438\\u043c \\u0438\\u0437 \\u043e\\u0440\\u0433\\u0430\\u043d\\u0438\\u0437\\u0430\\u0442\\u043e\\u0440\\u043e\\u0432 \\u0441\\u0442\\u0443\\u0434\\u0435\\u043d\\u0447\\u0435\\u0441\\u043a\\u0438\\u0445 \\u043f\\u0440\\u043e\\u0442\\u0435\\u0441\\u0442\\u043e\\u0432 \\u043d\\u0430 \\u043f\\u043b\\u043e\\u0449\\u0430\\u0434\\u0438 \\u0422\\u044f\\u043d\\u044c\\u0430\\u043d\\u044c\\u043c\\u044d\\u043d\\u044c, \\u043a\\u043e\\u0442\\u043e\\u0440\\u044b\\u0435 \\u0431\\u044b\\u043b\\u0438 \\u043f\\u043e\\u0434\\u0430\\u0432\\u043b\\u0435\\u043d\\u044b \\u043a\\u0438\\u0442\\u0430\\u0439\\u0441\\u043a\\u0438\\u043c\\u0438 \\u0432\\u043b\\u0430\\u0441\\u0442\\u044f\\u043c\\u0438. \\u041f\\u043e\\u0441\\u043b\\u0435 \\u043d\\u0435\\u0443\\u0434\\u0430\\u0447\\u0438 \\u0434\\u0432\\u0438\\u0436\\u0435\\u043d\\u0438\\u044f \\u041b\\u0438 \\u0431\\u0435\\u0436\\u0430\\u043b \\u0432 \\u0421\\u0428\\u0410, \\u0433\\u0434\\u0435 \\u0442\\u0430\\u043a\\u0436\\u0435 \\u043f\\u043e\\u0441\\u0442\\u0443\\u043f\\u0438\\u043b \\u0432 \\u041a\\u043e\\u043b\\u0443\\u043c\\u0431\\u0438\\u0439\\u0441\\u043a\\u0443\\u044e \\u0431\\u0438\\u0437\\u043d\\u0435\\u0441-\\u0448\\u043a\\u043e\\u043b\\u0443. \\u041f\\u043e \\u0435\\u0433\\u043e \\u0441\\u043e\\u0431\\u0441\\u0442\\u0432\\u0435\\u043d\\u043d\\u044b\\u043c \\u0441\\u043b\\u043e\\u0432\\u0430\\u043c, \\u043e\\u043d \\u0440\\u0435\\u0448\\u0438\\u043b \\u043f\\u043e\\u0439\\u0442\\u0438 \\u0432 \\u0444\\u0438\\u043d\\u0430\\u043d\\u0441\\u043e\\u0432\\u044b\\u0439 \\u0441\\u0435\\u043a\\u0442\\u043e\\u0440 \\u043f\\u043e\\u0441\\u043b\\u0435 \\u043b\\u0435\\u043a\\u0446\\u0438\\u0438, \\u043a\\u043e\\u0442\\u043e\\u0440\\u0443\\u044e \\u043f\\u0440\\u043e\\u0432\\u0435\\u043b \\u0434\\u043b\\u044f \\u0441\\u0442\\u0443\\u0434\\u0435\\u043d\\u0442\\u043e\\u0432 \\u0432 1993 \\u0433\\u043e\\u0434\\u0443 \\u0411\\u0430\\u0444\\u0444\\u0435\\u0442.\\n\\n\\u0412 1997 \\u0433\\u043e\\u0434\\u0443 \\u041b\\u0438 \\u041b\\u0443 \\u0443\\u0441\\u0442\\u0440\\u043e\\u0438\\u043b\\u0441\\u044f \\u0432 \\u043e\\u0434\\u0438\\u043d \\u0438\\u0437 \\u0438\\u043d\\u0432\\u0435\\u0441\\u0442\\u0438\\u0446\\u0438\\u043e\\u043d\\u043d\\u044b\\u0445 \\u0431\\u0430\\u043d\\u043a\\u043e\\u0432, \\u0430 \\u0437\\u0430\\u0442\\u0435\\u043c \\u0441\\u043e\\u0437\\u0434\\u0430\\u043b \\u0441\\u0432\\u043e\\u0439 \\u0441\\u043e\\u0431\\u0441\\u0442\\u0432\\u0435\\u043d\\u043d\\u044b\\u0439 \\u0444\\u043e\\u043d\\u0434 - Himalaya Capital Management. \\u0424\\u043e\\u043d\\u0434 \\u043f\\u043e\\u043d\\u0435\\u0441 \\u043f\\u043e\\u0442\\u0435\\u0440\\u0438 \\u0432 \\u0445\\u043e\\u0434\\u0435 \\u0430\\u0437\\u0438\\u0430\\u0442\\u0441\\u043a\\u043e\\u0433\\u043e \\u043a\\u0440\\u0438\\u0437\\u0438\\u0441\\u0430 \\u043a\\u043e\\u043d\\u0446\\u0430 90-\\u0445, \\u043d\\u043e \\u0432\\u044b\\u0436\\u0438\\u043b. \\u041a \\u0441\\u0435\\u0440\\u0435\\u0434\\u0438\\u043d\\u0435 2000-\\u0445 \\u041b\\u0438 \\u0442\\u0440\\u0430\\u043d\\u0441\\u0444\\u043e\\u0440\\u043c\\u0438\\u0440\\u043e\\u0432\\u0430\\u043b \\u0435\\u0433\\u043e \\u0432 LL Investment Partners, \\u0440\\u0430\\u0431\\u043e\\u0442\\u0430\\u044e\\u0449\\u0438\\u0439 \\u043d\\u0430 \\u0433\\u043b\\u043e\\u0431\\u0430\\u043b\\u044c\\u043d\\u043e\\u043c \\u0440\\u044b\\u043d\\u043a\\u0435 \\u0438\\u043d\\u0432\\u0435\\u0441\\u0442\\u0438\\u0446\\u0438\\u0439. \\u041e\\u0434\\u043d\\u0438\\u043c \\u0438\\u0437 \\u043f\\u0430\\u0440\\u0442\\u043d\\u0435\\u0440\\u043e\\u0432 \\u0444\\u043e\\u043d\\u0434\\u0430 \\u0441\\u0442\\u0430\\u043b \\u0432\\u0435\\u0440\\u043d\\u044b\\u0439 \\u0441\\u043e\\u0440\\u0430\\u0442\\u043d\\u0438\\u043a \\u0411\\u0430\\u0444\\u0444\\u0435\\u0442\\u0430 \\u0427\\u0430\\u0440\\u043b\\u0438 \\u041c\\u0430\\u043d\\u0433\\u0435\\u0440. \\u041d\\u0435\\u0443\\u0434\\u0438\\u0432\\u0438\\u0442\\u0435\\u043b\\u044c\\u043d\\u043e, \\u0447\\u0442\\u043e \\u0441 \\u0442\\u0430\\u043a\\u0438\\u043c\\u0438 \\u0437\\u043d\\u0430\\u043a\\u043e\\u043c\\u0441\\u0442\\u0432\\u0430\\u043c\\u0438 \\u041b\\u0438 \\u041b\\u0443 \\u0432\\u043e\\u0448\\u0435\\u043b \\u0432 \\u0448\\u043e\\u0440\\u0442-\\u043b\\u0438\\u0441\\u0442 \\u043f\\u043e\\u0442\\u0435\\u043d\\u0446\\u0438\\u0430\\u043b\\u044c\\u043d\\u044b\\u0445 \\u043d\\u0430\\u0441\\u043b\\u0435\\u0434\\u043d\\u0438\\u043a\\u043e\\u0432 \\u0432\\u0442\\u043e\\u0440\\u043e\\u0433\\u043e \\u0441\\u0440\\u0435\\u0434\\u0438 \\u043d\\u0430\\u0438\\u0431\\u043e\\u043b\\u0435\\u0435 \\u0431\\u043e\\u0433\\u0430\\u0442\\u044b\\u0445 \\u043b\\u044e\\u0434\\u0435\\u0439 \\u0432 \\u043c\\u0438\\u0440\\u0435.\\n\\n\\u0422\\u0435\\u043c \\u043d\\u0435 \\u043c\\u0435\\u043d\\u0435\\u0435, \\u0433\\u043e\\u0432\\u043e\\u0440\\u0438\\u0442\\u044c \\u043e \\u0442\\u043e\\u043c, \\u0447\\u0442\\u043e \\u043a\\u043e\\u043c\\u0430\\u043d\\u0434\\u0430 \\u043f\\u0440\\u0435\\u0435\\u043c\\u043d\\u0438\\u043a\\u043e\\u0432 \\u0411\\u0430\\u0444\\u0444\\u0435\\u0442\\u0430 \\u0441\\u0444\\u043e\\u0440\\u043c\\u0438\\u0440\\u043e\\u0432\\u0430\\u043d\\u0430, \\u0440\\u0430\\u043d\\u043e. \\u0412\\u043f\\u043e\\u043b\\u043d\\u0435 \\u0432\\u043e\\u0437\\u043c\\u043e\\u0436\\u043d\\u043e, \\u0447\\u0442\\u043e \\u0441\\u0443\\u0449\\u0435\\u0441\\u0442\\u0432\\u0443\\u0435\\u0442 \\u0441\\u043f\\u0438\\u0441\\u043e\\u043a \\u0438 \\u0434\\u0440\\u0443\\u0433\\u0438\\u0445 \\u0434\\u043e\\u0441\\u0442\\u043e\\u0439\\u043d\\u044b\\u0445 \\u043a\\u0430\\u043d\\u0434\\u0438\\u0434\\u0430\\u0442\\u043e\\u0432 \\u0432 \\u0440\\u0443\\u043a\\u043e\\u0432\\u043e\\u0434\\u0441\\u0442\\u0432\\u043e \\u043e\\u0434\\u043d\\u043e\\u0439 \\u0438\\u0437 \\u0441\\u0430\\u043c\\u044b\\u0445 \\u0443\\u0441\\u043f\\u0435\\u0448\\u043d\\u044b\\u0445 \\u0438\\u043d\\u0432\\u0435\\u0441\\u0442\\u043a\\u043e\\u043c\\u043f\\u0430\\u043d\\u0438\\u0439 \\u0432 \\u043c\\u0438\\u0440\\u0435. \\u0422\\u0435\\u043c \\u0431\\u043e\\u043b\\u0435\\u0435, \\u0447\\u0442\\u043e \\u0441\\u0442\\u0430\\u0440\\u0438\\u043d\\u0430 \\u0423\\u043e\\u0440\\u0440\\u0435\\u043d, \\u043a\\u0430\\u043a \\u043f\\u043e\\u043a\\u0430\\u0437\\u0430\\u043b\\u043e \\u043d\\u0430\\u0437\\u043d\\u0430\\u0447\\u0435\\u043d\\u0438\\u0435 \\u041a\\u043e\\u0443\\u043c\\u0441\\u0430, \\u043b\\u044e\\u0431\\u0438\\u0442 \\u0441\\u044e\\u0440\\u043f\\u0440\\u0438\\u0437\\u044b. \",\n          \"\\u0414\\u0435\\u043f\\u0443\\u0442\\u0430\\u0442 \\u041f\\u0430\\u0440\\u0442\\u0438\\u0438 \\u0440\\u0435\\u0433\\u0438\\u043e\\u043d\\u043e\\u0432 \\u0421\\u0432\\u044f\\u0442\\u0430\\u0448 \\u0441\\u043f\\u0435\\u043b \\u0441 \\u0434\\u0436\\u0430\\u0437\\u043e\\u0432\\u044b\\u043c \\u043e\\u0440\\u043a\\u0435\\u0441\\u0442\\u0440\\u043e\\u043c\\n\\n8 \\u043e\\u043a\\u0442\\u044f\\u0431\\u0440\\u044f 2012 \\u0433\\u043e\\u0434\\u0430 \\u0432 \\u0425\\u0430\\u0440\\u044c\\u043a\\u043e\\u0432\\u0441\\u043a\\u043e\\u043c \\u043d\\u0430\\u0446\\u0438\\u043e\\u043d\\u0430\\u043b\\u044c\\u043d\\u043e\\u043c \\u0430\\u043a\\u0430\\u0434\\u0435\\u043c\\u0438\\u0447\\u0435\\u0441\\u043a\\u043e\\u043c \\u0442\\u0435\\u0430\\u0442\\u0440\\u0435 \\u043e\\u043f\\u0435\\u0440\\u044b \\u0438 \\u0431\\u0430\\u043b\\u0435\\u0442\\u0430 \\u0441\\u043e\\u0441\\u0442\\u043e\\u044f\\u043b\\u0441\\u044f \\u043a\\u043e\\u043d\\u0446\\u0435\\u0440\\u0442, \\u043f\\u043e\\u0441\\u0432\\u044f\\u0449\\u0435\\u043d\\u043d\\u044b\\u0439 \\u0414\\u043d\\u044e \\u0443\\u0447\\u0438\\u0442\\u0435\\u043b\\u044f.\\n\\u041a\\u043e\\u043d\\u0446\\u0435\\u0440\\u0442 \\u043e\\u0440\\u0433\\u0430\\u043d\\u0438\\u0437\\u043e\\u0432\\u0430\\u043d \\u0444\\u043e\\u043d\\u0434\\u043e\\u043c \\u00ab\\u041f\\u0435\\u0440\\u0435\\u0441\\u0432\\u0435\\u0442\\u00bb \\u0434\\u043b\\u044f \\u043f\\u0440\\u0435\\u043f\\u043e\\u0434\\u0430\\u0432\\u0430\\u0442\\u0435\\u043b\\u0435\\u0439 \\u0448\\u043a\\u043e\\u043b \\u041c\\u043e\\u0441\\u043a\\u043e\\u0432\\u0441\\u043a\\u043e\\u0433\\u043e \\u0440\\u0430\\u0439\\u043e\\u043d\\u0430.\\n\\n\\n\\u041a\\u043e\\u043d\\u0446\\u0435\\u0440\\u0442\\u043d\\u044b\\u0439 \\u0437\\u0430\\u043b \\u043a\\u043e\\u0442\\u043e\\u0440\\u044b\\u0439 \\u0432\\u043c\\u0435\\u0449\\u0430\\u0435\\u0442 \\u043e\\u043a\\u043e\\u043b\\u043e \\u043f\\u043e\\u043b\\u0443\\u0442\\u043e\\u0440\\u0430 \\u0442\\u044b\\u0441\\u044f\\u0447 \\u0447\\u0435\\u043b\\u043e\\u0432\\u0435\\u043a 5 \\u043e\\u043a\\u0442\\u044f\\u0431\\u0440\\u044f \\u0431\\u044b\\u043b \\u0437\\u0430\\u043f\\u043e\\u043b\\u043d\\u0435\\u043d \\u043f\\u043e\\u043b\\u043d\\u043e\\u0441\\u0442\\u044c\\u044e.\\n\\n\\u0421 \\u043f\\u0440\\u043e\\u0444\\u0435\\u0441\\u0441\\u0438\\u043e\\u043d\\u0430\\u043b\\u044c\\u043d\\u044b\\u043c \\u043f\\u0440\\u0430\\u0437\\u0434\\u043d\\u0438\\u043a\\u043e\\u043c \\u0443\\u0447\\u0438\\u0442\\u0435\\u043b\\u0435\\u0439 \\u043f\\u043e\\u0437\\u0434\\u0440\\u0430\\u0432\\u0438\\u043b\\u0438 \\u0433\\u043e\\u0440\\u043e\\u0434\\u0441\\u043a\\u043e\\u0439 \\u0433\\u043e\\u043b\\u043e\\u0432\\u0430 \\u0413\\u0435\\u043d\\u043d\\u0430\\u0434\\u0438\\u0439 \\u041a\\u0435\\u0440\\u043d\\u0435\\u0441 \\u0438 \\u043d\\u0430\\u0440\\u043e\\u0434\\u043d\\u044b\\u0439 \\u0434\\u0435\\u043f\\u0443\\u0442\\u0430\\u0442 \\u0423\\u043a\\u0440\\u0430\\u0438\\u043d\\u044b \\u0414\\u043c\\u0438\\u0442\\u0440\\u0438\\u0439 \\u0421\\u0432\\u044f\\u0442\\u0430\\u0448.\\n\\n\\u041f\\u0430\\u0440\\u043b\\u0430\\u043c\\u0435\\u043d\\u0442\\u0430\\u0440\\u0438\\u0439 \\u0438 \\u0433\\u043b\\u0430\\u0432\\u0430 \\u0433\\u043e\\u0440\\u043e\\u0434\\u0430 \\u043d\\u0430\\u0433\\u0440\\u0430\\u0434\\u0438\\u043b\\u0438 \\u043b\\u0443\\u0447\\u0448\\u0438\\u0445 \\u0440\\u0430\\u0431\\u043e\\u0442\\u043d\\u0438\\u043a\\u043e\\u0432 \\u043e\\u0431\\u0440\\u0430\\u0437\\u043e\\u0432\\u0430\\u0442\\u0435\\u043b\\u044c\\u043d\\u043e\\u0439 \\u0441\\u0444\\u0435\\u0440\\u044b \\u041c\\u043e\\u0441\\u043a\\u043e\\u0432\\u0441\\u043a\\u043e\\u0433\\u043e \\u0440\\u0430\\u0439\\u043e\\u043d\\u0430 \\u043f\\u043e\\u0447\\u0435\\u0442\\u043d\\u044b\\u043c\\u0438 \\u0433\\u0440\\u0430\\u043c\\u043e\\u0442\\u0430\\u043c\\u0438 \\u041c\\u0438\\u043d\\u043e\\u0431\\u0440\\u0430\\u0437\\u043e\\u0432\\u0430\\u043d\\u0438\\u044f.\\n\\n\\u0414\\u043e\\u043b\\u0433\\u0438\\u0435 \\u0430\\u043f\\u043b\\u043e\\u0434\\u0438\\u0441\\u043c\\u0435\\u043d\\u0442\\u044b \\u0432\\u043e\\u0441\\u0445\\u0438\\u0449\\u0435\\u043d\\u043d\\u044b\\u0445 \\u0437\\u0440\\u0438\\u0442\\u0435\\u043b\\u0435\\u0439 \\u0441\\u043e\\u043f\\u0443\\u0442\\u0441\\u0442\\u0432\\u043e\\u0432\\u0430\\u043b\\u0438 \\u043b\\u0430\\u0437\\u0435\\u0440\\u043d\\u043e\\u043c\\u0443 \\u0448\\u043e\\u0443,  \\u0432\\u044b\\u0441\\u0442\\u0443\\u043f\\u043b\\u0435\\u043d\\u0438\\u044f\\u043c \\u043d\\u0430 \\u0441\\u0446\\u0435\\u043d\\u0435 \\u0432\\u043e\\u0437\\u0434\\u0443\\u0448\\u043d\\u044b\\u0445 \\u0433\\u0438\\u043c\\u043d\\u0430\\u0441\\u0442\\u043e\\u0432, \\u0432\\u043e\\u043a\\u0430\\u043b\\u0438\\u0441\\u0442\\u043e\\u0432 \\u0438 \\u0445\\u043e\\u0440\\u0435\\u043e\\u0433\\u0440\\u0430\\u0444\\u0438\\u0447\\u0435\\u0441\\u043a\\u0438\\u0445 \\u043a\\u043e\\u043b\\u043b\\u0435\\u043a\\u0442\\u0438\\u0432\\u043e\\u0432.\\n\\n\\u041d\\u0430\\u0440\\u0430\\u0432\\u043d\\u0435 \\u0441 \\u0438\\u043c\\u0435\\u043d\\u0438\\u0442\\u044b\\u043c\\u0438 \\u0430\\u0440\\u0442\\u0438\\u0441\\u0442\\u0430\\u043c\\u0438 \\u043f\\u0435\\u0440\\u0435\\u0434 \\u043f\\u0435\\u0434\\u0430\\u0433\\u043e\\u0433\\u0430\\u043c\\u0438 \\u0432\\u044b\\u0441\\u0442\\u0443\\u043f\\u0438\\u043b\\u0438 \\u043c\\u043e\\u043b\\u043e\\u0434\\u044b\\u0435 \\u0442\\u0430\\u043b\\u0430\\u043d\\u0442\\u044b, \\u043c\\u043d\\u043e\\u0433\\u0438\\u0435 \\u0438\\u0437 \\u043a\\u043e\\u0442\\u043e\\u0440\\u044b\\u0445 \\u0431\\u044b\\u043b\\u0438 \\u043e\\u0442\\u043a\\u0440\\u044b\\u0442\\u044b \\u0434\\u043b\\u044f \\u0448\\u0438\\u0440\\u043e\\u043a\\u043e\\u0439 \\u043f\\u0443\\u0431\\u043b\\u0438\\u043a\\u0438 \\u0438\\u043c\\u0435\\u043d\\u043d\\u043e \\u0431\\u043b\\u0430\\u0433\\u043e\\u0434\\u0430\\u0440\\u044f \\u0442\\u0432\\u043e\\u0440\\u0447\\u0435\\u0441\\u043a\\u0438\\u043c \\u043a\\u043e\\u043d\\u043a\\u0443\\u0440\\u0441\\u0430\\u043c, \\u043f\\u0440\\u043e\\u0432\\u043e\\u0434\\u0438\\u043c\\u044b\\u043c \\u0444\\u043e\\u043d\\u0434\\u043e\\u043c \\u00ab\\u041f\\u0435\\u0440\\u0435\\u0441\\u0432\\u0435\\u0442\\u00bb.  \\u041a\\u043e\\u043d\\u0446\\u0435\\u0440\\u0442\\u043d\\u0443\\u044e \\u0430\\u0442\\u043c\\u043e\\u0441\\u0444\\u0435\\u0440\\u0443 \\u043f\\u0440\\u0430\\u0437\\u0434\\u043d\\u0438\\u043a\\u0430 \\u0442\\u0430\\u043a\\u0436\\u0435 \\u043f\\u043e\\u0434\\u0434\\u0435\\u0440\\u0436\\u0430\\u043b\\u0438 \\u0448\\u0443\\u0442\\u043a\\u0438 \\u043e\\u0442 \\u0418\\u043b\\u044c\\u0438  \\u041d\\u043e\\u044f\\u0431\\u0440\\u0435\\u0432\\u0430 \\u0438 \\u0441\\u043e\\u0432\\u0440\\u0435\\u043c\\u0435\\u043d\\u043d\\u044b\\u0439 \\u0431\\u0430\\u043b\\u0435\\u0442.\\n\\n\\u041d\\u043e \\u043d\\u0430\\u0441\\u0442\\u043e\\u044f\\u0449\\u0435\\u0439 \\u043d\\u0435\\u043e\\u0436\\u0438\\u0434\\u0430\\u043d\\u043d\\u043e\\u0441\\u0442\\u044c\\u044e \\u0434\\u043b\\u044f \\u043f\\u0443\\u0431\\u043b\\u0438\\u043a\\u0438 \\u0441\\u0442\\u0430\\u043b\\u043e \\u0434\\u0436\\u0430\\u0437\\u043e\\u0432\\u043e\\u0435 \\u0432\\u044b\\u0441\\u0442\\u0443\\u043f\\u043b\\u0435\\u043d\\u0438\\u0435 \\u0414\\u043c\\u0438\\u0442\\u0440\\u0438\\u044f \\u0421\\u0432\\u044f\\u0442\\u0430\\u0448\\u0430, \\u0437\\u0430\\u0432\\u0435\\u0440\\u0448\\u0430\\u044e\\u0449\\u0435\\u0435 \\u043a\\u043e\\u043d\\u0446\\u0435\\u0440\\u0442. \\u0414\\u0435\\u043f\\u0443\\u0442\\u0430\\u0442 \\u043d\\u0435 \\u0440\\u0430\\u0437 \\u0437\\u0430\\u044f\\u0432\\u043b\\u044f\\u043b, \\u0447\\u0442\\u043e \\u043b\\u044e\\u0431\\u0438\\u0442 \\u0438 \\u0437\\u043d\\u0430\\u0435\\u0442 \\u0434\\u0436\\u0430\\u0437, \\u043d\\u043e \\u0432 \\u0442\\u0430\\u043a\\u043e\\u043c \\u0430\\u043c\\u043f\\u043b\\u0443\\u0430 \\u043f\\u0435\\u0440\\u0435\\u0434 \\u0448\\u0438\\u0440\\u043e\\u043a\\u043e\\u0439 \\u043f\\u0443\\u0431\\u043b\\u0438\\u043a\\u043e\\u0439 \\u043e\\u043d \\u043f\\u0440\\u0435\\u0434\\u0441\\u0442\\u0430\\u043b \\u0432\\u043f\\u0435\\u0440\\u0432\\u044b\\u0435. \\u0412 \\u0441\\u043e\\u043f\\u0440\\u043e\\u0432\\u043e\\u0436\\u0434\\u0435\\u043d\\u0438\\u0438 \\u0438\\u0437\\u0432\\u0435\\u0441\\u0442\\u043d\\u043e\\u0433\\u043e \\u0434\\u0436\\u0430\\u0437\\u043e\\u0432\\u043e\\u0433\\u043e \\u043e\\u0440\\u043a\\u0435\\u0441\\u0442\\u0440\\u0430 \\u00abKievBigBand\\u00bb, \\u0430 \\u0442\\u0430\\u043a\\u0436\\u0435 \\u0441\\u0430\\u043c\\u043e\\u0441\\u0442\\u043e\\u044f\\u0442\\u0435\\u043b\\u044c\\u043d\\u043e \\u0430\\u043a\\u043a\\u043e\\u043c\\u043f\\u0430\\u043d\\u0438\\u0440\\u0443\\u044f \\u043d\\u0430 \\u0433\\u0438\\u0442\\u0430\\u0440\\u0435, \\u043e\\u043d \\u0438\\u0441\\u043f\\u043e\\u043b\\u043d\\u0438\\u043b \\u043d\\u0435\\u0441\\u043a\\u043e\\u043b\\u044c\\u043a\\u043e \\u043f\\u0435\\u0441\\u0435\\u043d, \\u0432 \\u0442\\u043e\\u043c \\u0447\\u0438\\u0441\\u043b\\u0435 \\u0438 \\u043d\\u0430 \\u0431\\u0438\\u0441. \\u0412\\u0438\\u0434\\u0435\\u043e \\u0441 \\u043a\\u043e\\u043d\\u0446\\u0435\\u0440\\u0442\\u0430 \\u043d\\u0435\\u0437\\u0430\\u043c\\u0435\\u0434\\u043b\\u0438\\u0442\\u0435\\u043b\\u044c\\u043d\\u043e \\u043f\\u043e\\u043f\\u0430\\u043b\\u043e \\u043d\\u0430 \\u0432\\u0438\\u0434\\u0435\\u043e\\u0441\\u0435\\u0440\\u0432\\u0438\\u0441 YouTube.\\n\\n''\\u00ab\\u0414\\u0435\\u043d\\u044c \\u0443\\u0447\\u0438\\u0442\\u0435\\u043b\\u044f \\u2014 \\u043e\\u0434\\u0438\\u043d \\u0438\\u0437 \\u0441\\u0430\\u043c\\u044b\\u0445 \\u0442\\u0435\\u043f\\u043b\\u044b\\u0445 \\u043f\\u0440\\u0430\\u0437\\u0434\\u043d\\u0438\\u043a\\u043e\\u0432 \\u0434\\u043b\\u044f \\u043a\\u0430\\u0436\\u0434\\u043e\\u0433\\u043e \\u0438\\u0437 \\u043d\\u0430\\u0441, \\u0432\\u0435\\u0434\\u044c \\u0432 \\u0423\\u043a\\u0440\\u0430\\u0438\\u043d\\u0435 \\u043d\\u0435\\u0442, \\u043f\\u043e\\u0436\\u0430\\u043b\\u0443\\u0439, \\u043d\\u0438 \\u043e\\u0434\\u043d\\u043e\\u0433\\u043e \\u0447\\u0435\\u043b\\u043e\\u0432\\u0435\\u043a\\u0430, \\u043a\\u043e\\u0442\\u043e\\u0440\\u044b\\u0439 \\u043d\\u0435 \\u043e\\u0431\\u0449\\u0430\\u043b\\u0441\\u044f \\u0431\\u044b \\u0441 \\u0443\\u0447\\u0438\\u0442\\u0435\\u043b\\u0435\\u043c,'' \\u2014 \\u043f\\u043e\\u0434\\u0435\\u043b\\u0438\\u043b\\u0441\\u044f \\u0441\\u0432\\u043e\\u0438\\u043c \\u043c\\u043d\\u0435\\u043d\\u0438\\u0435\\u043c \\u0414\\u043c\\u0438\\u0442\\u0440\\u0438\\u0439 \\u0421\\u0432\\u044f\\u0442\\u0430\\u0448. \\u2014 ''\\u0423\\u0447\\u0438\\u0442\\u0435\\u043b\\u044f \\u0444\\u043e\\u0440\\u043c\\u0438\\u0440\\u0443\\u044e\\u0442 \\u0441\\u0430\\u043c\\u043e\\u0435 \\u0433\\u043b\\u0430\\u0432\\u043d\\u043e\\u0435 \\u2014 \\u0431\\u0443\\u0434\\u0443\\u0449\\u0435\\u0435 \\u043d\\u0430\\u0448\\u0435\\u0439 \\u0441\\u0442\\u0440\\u0430\\u043d\\u044b, \\u043f\\u0435\\u0440\\u0435\\u0434\\u0430\\u0432\\u0430\\u044f \\u0434\\u0435\\u0442\\u044f\\u043c \\u0441\\u0432\\u043e\\u0438 \\u0437\\u043d\\u0430\\u043d\\u0438\\u044f \\u0438 \\u0441\\u0432\\u043e\\u0439 \\u043e\\u043f\\u044b\\u0442. \\u041f\\u043e\\u044d\\u0442\\u043e\\u043c\\u0443 \\u0414\\u0435\\u043d\\u044c \\u0443\\u0447\\u0438\\u0442\\u0435\\u043b\\u044f \\u044d\\u0442\\u043e \\u043f\\u0440\\u0430\\u0437\\u0434\\u043d\\u0438\\u043a \\u043a\\u0430\\u0436\\u0434\\u043e\\u0433\\u043e \\u0438\\u0437 \\u043d\\u0430\\u0441. \\u0425\\u043e\\u0447\\u0443 \\u043f\\u043e\\u0436\\u0435\\u043b\\u0430\\u0442\\u044c \\u0443\\u0447\\u0438\\u0442\\u0435\\u043b\\u044f\\u043c \\u0437\\u0434\\u043e\\u0440\\u043e\\u0432\\u044c\\u044f, \\u0441\\u0447\\u0430\\u0441\\u0442\\u044c\\u044f, \\u0430 \\u0435\\u0449\\u0435 \\u2014 \\u0447\\u0442\\u043e\\u0431\\u044b \\u0438\\u0445 \\u043d\\u0435 \\u0437\\u0430\\u0431\\u044b\\u0432\\u0430\\u043b\\u0438 \\u0432\\u043e\\u0441\\u043f\\u0438\\u0442\\u0430\\u043d\\u043d\\u0438\\u043a\\u0438 \\u0438 \\u0443\\u0447\\u0435\\u043d\\u0438\\u043a\\u0438. \\u042f, \\u043d\\u0430\\u043f\\u0440\\u0438\\u043c\\u0435\\u0440, \\u0437\\u0430\\u043a\\u043e\\u043d\\u0447\\u0438\\u043b \\u0441\\u0440\\u0435\\u0434\\u043d\\u044e\\u044e \\u0448\\u043a\\u043e\\u043b\\u0443 \\u21161, \\u0438 \\u0443 \\u043d\\u0430\\u0441 \\u0435\\u0441\\u0442\\u044c \\u0445\\u043e\\u0440\\u043e\\u0448\\u0430\\u044f \\u0442\\u0440\\u0430\\u0434\\u0438\\u0446\\u0438\\u044f \\u2014 \\u0441\\u043e\\u0431\\u0438\\u0440\\u0430\\u0442\\u044c\\u0441\\u044f \\u043a\\u0430\\u0436\\u0434\\u044b\\u0439 \\u0433\\u043e\\u0434 22 \\u0430\\u043f\\u0440\\u0435\\u043b\\u044f. \\u0412 \\u0441\\u043b\\u0435\\u0434\\u0443\\u044e\\u0449\\u0435\\u043c \\u0433\\u043e\\u0434\\u0443 \\u0431\\u0443\\u0434\\u0435\\u0442 25 \\u043b\\u0435\\u0442 \\u043a\\u0430\\u043a \\u044f \\u043e\\u043a\\u043e\\u043d\\u0447\\u0438\\u043b \\u0448\\u043a\\u043e\\u043b\\u0443, \\u043d\\u043e \\u0432\\u0441\\u0442\\u0440\\u0435\\u0447\\u0430\\u044e\\u0441\\u044c \\u0441\\u043e \\u0441\\u0432\\u043e\\u0438\\u043c\\u0438 \\u0443\\u0447\\u0438\\u0442\\u0435\\u043b\\u044f\\u043c\\u0438 \\u043f\\u0440\\u0430\\u043a\\u0442\\u0438\\u0447\\u0435\\u0441\\u043a\\u0438 \\u043a\\u0430\\u0436\\u0434\\u044b\\u0439 \\u0433\\u043e\\u0434. \\u041a \\u0441\\u043e\\u0436\\u0430\\u043b\\u0435\\u043d\\u0438\\u044e, \\u043d\\u0435\\u043a\\u043e\\u0442\\u043e\\u0440\\u044b\\u0445 \\u0443\\u0436\\u0435 \\u043d\\u0435\\u0442 \\u0441 \\u043d\\u0430\\u043c\\u0438, \\u043d\\u043e \\u043e\\u043d\\u0438 \\u043d\\u0430\\u0432\\u0441\\u0435\\u0433\\u0434\\u0430 \\u043e\\u0441\\u0442\\u0430\\u043b\\u0438\\u0441\\u044c \\u0432 \\u043d\\u0430\\u0448\\u0435\\u0439 \\u043f\\u0430\\u043c\\u044f\\u0442\\u0438\\u00bb''.\\n\\n== \\u0421\\u0441\\u044b\\u043b\\u043a\\u0430 ==\\n\\u0412\\u0438\\u0434\\u0435\\u043e\\u0437\\u0430\\u043f\\u0438\\u0441\\u044c \\u0432\\u044b\\u0441\\u0442\\u0443\\u043f\\u043b\\u0435\\u043d\\u0438\\u044f.\\n\"\n        ],\n        \"semantic_type\": \"\",\n        \"description\": \"\"\n      }\n    },\n    {\n      \"column\": \"id\",\n      \"properties\": {\n        \"dtype\": \"number\",\n        \"std\": 149,\n        \"min\": 0,\n        \"max\": 518,\n        \"num_unique_values\": 519,\n        \"samples\": [\n          275,\n          93,\n          6\n        ],\n        \"semantic_type\": \"\",\n        \"description\": \"\"\n      }\n    }\n  ]\n}"
            }
          },
          "metadata": {},
          "execution_count": 5
        }
      ]
    },
    {
      "cell_type": "markdown",
      "source": [
        "## Explore entities"
      ],
      "metadata": {
        "id": "eZIQ4h8vm3Ed"
      }
    },
    {
      "cell_type": "code",
      "source": [
        "# Count entities frequency\n",
        "entities_count = {}\n",
        "for ind, row in train_df.iterrows():\n",
        "    for st, end, lab in row[\"ners\"]:\n",
        "        if lab not in entities_count.keys():\n",
        "            entities_count[lab] = 0\n",
        "        entities_count[lab] += 1\n",
        "print(entities_count)"
      ],
      "metadata": {
        "colab": {
          "base_uri": "https://localhost:8080/"
        },
        "id": "D1uVERvpp3ZX",
        "outputId": "eb1bc8cf-c8ef-46d5-8cdd-3ba6279d5675",
        "execution": {
          "iopub.status.busy": "2024-04-28T11:50:52.078009Z",
          "iopub.execute_input": "2024-04-28T11:50:52.078359Z",
          "iopub.status.idle": "2024-04-28T11:50:52.130249Z",
          "shell.execute_reply.started": "2024-04-28T11:50:52.078333Z",
          "shell.execute_reply": "2024-04-28T11:50:52.129359Z"
        },
        "trusted": true
      },
      "execution_count": null,
      "outputs": [
        {
          "output_type": "stream",
          "name": "stdout",
          "text": [
            "{'CITY': 1261, 'PERSON': 5119, 'LOCATION': 314, 'EVENT': 3335, 'AGE': 657, 'DATE': 2689, 'ORGANIZATION': 4088, 'ORDINAL': 614, 'PROFESSION': 5039, 'COUNTRY': 2510, 'NUMBER': 1107, 'CRIME': 221, 'STATE_OR_PROVINCE': 412, 'DISTRICT': 103, 'FAMILY': 24, 'AWARD': 404, 'TIME': 182, 'FACILITY': 424, 'DISEASE': 220, 'WORK_OF_ART': 270, 'LAW': 405, 'MONEY': 179, 'RELIGION': 89, 'NATIONALITY': 437, 'IDEOLOGY': 273, 'PRODUCT': 245, 'PERCENT': 68, 'LANGUAGE': 54, 'PENALTY': 92}\n"
          ]
        }
      ]
    },
    {
      "cell_type": "code",
      "source": [
        "# Print top-10 frequent entities\n",
        "chosen_entities = [x[0] for x in sorted(entities_count.items(), key=lambda x: -x[1])[:10]]\n",
        "print(chosen_entities)"
      ],
      "metadata": {
        "colab": {
          "base_uri": "https://localhost:8080/"
        },
        "id": "f6eI5PqmaLB3",
        "outputId": "2c83fdc6-dabd-489d-a643-c29a1e853069",
        "execution": {
          "iopub.status.busy": "2024-04-28T11:50:52.398214Z",
          "iopub.execute_input": "2024-04-28T11:50:52.398603Z",
          "iopub.status.idle": "2024-04-28T11:50:52.405628Z",
          "shell.execute_reply.started": "2024-04-28T11:50:52.398574Z",
          "shell.execute_reply": "2024-04-28T11:50:52.404671Z"
        },
        "trusted": true
      },
      "execution_count": null,
      "outputs": [
        {
          "output_type": "stream",
          "name": "stdout",
          "text": [
            "['PERSON', 'PROFESSION', 'ORGANIZATION', 'EVENT', 'DATE', 'COUNTRY', 'CITY', 'NUMBER', 'AGE', 'ORDINAL']\n"
          ]
        }
      ]
    },
    {
      "cell_type": "code",
      "source": [
        "# Replace new line with space (the indexing is still the same)\n",
        "train_df[\"sentences\"] = train_df[\"sentences\"].apply(lambda x: x.replace(\"\\n\", \" \"))\n",
        "test_df[\"senences\"] = test_df[\"senences\"].apply(lambda x: x.replace(\"\\n\", \" \"))"
      ],
      "metadata": {
        "id": "6vBYaoWbnkts"
      },
      "execution_count": null,
      "outputs": []
    },
    {
      "cell_type": "code",
      "source": [
        "# Check whether multispace is in entities\n",
        "for id, row in train_df.iterrows():\n",
        "    for st, end, lab in row[\"ners\"]:\n",
        "        if row[\"sentences\"][st].isspace() | row[\"sentences\"][end].isspace() | (\"  \" in row[\"sentences\"][st:end+1]) | (\"\\n\" in row[\"sentences\"][st:end+1]):\n",
        "            print(id, lab, row[\"sentences\"][st:end+1])\n",
        "\n",
        "# Drop training entity with space inside\n",
        "train_df = train_df.drop(6)"
      ],
      "metadata": {
        "colab": {
          "base_uri": "https://localhost:8080/"
        },
        "id": "yti74PQiV2pL",
        "outputId": "5cef0a35-3c1b-4370-bc34-9f3873af6794",
        "execution": {
          "iopub.status.busy": "2024-04-28T11:50:54.018380Z",
          "iopub.execute_input": "2024-04-28T11:50:54.019206Z",
          "iopub.status.idle": "2024-04-28T11:50:54.654463Z",
          "shell.execute_reply.started": "2024-04-28T11:50:54.019175Z",
          "shell.execute_reply": "2024-04-28T11:50:54.653674Z"
        },
        "trusted": true
      },
      "execution_count": null,
      "outputs": [
        {
          "output_type": "stream",
          "name": "stdout",
          "text": [
            "6 PERSON Ильи  Ноябрева\n"
          ]
        }
      ]
    },
    {
      "cell_type": "markdown",
      "source": [
        "## Build dataset\n",
        "\n",
        "To train a custom named entity recognition model, one should have a dataset in a relevant format with the proper annotations. SpaCy uses DocBin class for annotated data, so I had to create the DocBin objects for the training data. The DocBin file contains documents with text and a list of entities, including label, start and end index. DocBin class efficiently serializes the information from a collection of Doc objects. It is faster and produces smaller data sizes than pickle, and allows the user to deserialize without executing arbitrary Python code. Note that the end of the entity in our dataset is the index of the last element plus 1."
      ],
      "metadata": {
        "id": "n2bwLxY61ccr"
      }
    },
    {
      "cell_type": "code",
      "source": [
        "# Train test split\n",
        "from sklearn.model_selection import train_test_split\n",
        "train_data, dev_data = train_test_split(train_df, test_size=0.2, random_state=42, shuffle=True)"
      ],
      "metadata": {
        "id": "yDjcwJLE3L6R"
      },
      "execution_count": null,
      "outputs": []
    },
    {
      "cell_type": "code",
      "source": [
        "import spacy\n",
        "from spacy.tokens import DocBin\n",
        "from tqdm import tqdm\n",
        "from spacy.util import filter_spans\n",
        "\n",
        "def make_dataset(df, save_path):\n",
        "    \"\"\"\n",
        "    Save dataset in data.spacy file\n",
        "    :param df: dataframe\n",
        "    :param save_path: where to store file\n",
        "    :return: skipped numbered entities\n",
        "    \"\"\"\n",
        "    # Load new spacy model\n",
        "    nlp = spacy.blank(\"ru\")\n",
        "    doc_bin = DocBin()\n",
        "    used_entities = []\n",
        "    skipped_ents = []\n",
        "\n",
        "    for id, row in df.iterrows():\n",
        "        text = row[\"sentences\"]\n",
        "        doc = nlp.make_doc(text)\n",
        "        ents = []\n",
        "\n",
        "        # Process ners\n",
        "        for start, end, label in row[\"ners\"]:\n",
        "            if (label in [\"NUMBER\"]) or text[start:end+1].isdigit():\n",
        "                # Numeric values are illegal in spans\n",
        "                skipped_ents.append([id, start, end, label])\n",
        "            else:\n",
        "                # Load spans\n",
        "                span = doc.char_span(start, end+1, label=label, alignment_mode=\"contract\")\n",
        "\n",
        "                if span is None:\n",
        "                    print(\"Skipping entity\", label, text[start: end+1])\n",
        "                else:\n",
        "                    ents.append(span)\n",
        "        # Add to spans\n",
        "        doc.spans[\"sc\"] = ents\n",
        "        doc_bin.add(doc)\n",
        "\n",
        "    doc_bin.to_disk(save_path) # save the docbin object\n",
        "    return skipped_ents\n",
        "\n",
        "skipped_nums = make_dataset(train_data, \"models/training_data.spacy\")\n",
        "_ = make_dataset(dev_data, \"models/dev_data.spacy\")"
      ],
      "metadata": {
        "colab": {
          "base_uri": "https://localhost:8080/"
        },
        "id": "dnIO9dOk65e4",
        "outputId": "0bb3d033-5188-4bac-e92b-1ca75ae6ef5d",
        "execution": {
          "iopub.status.busy": "2024-04-27T19:03:51.229460Z",
          "iopub.execute_input": "2024-04-27T19:03:51.229811Z",
          "iopub.status.idle": "2024-04-27T19:03:58.577925Z",
          "shell.execute_reply.started": "2024-04-27T19:03:51.229783Z",
          "shell.execute_reply": "2024-04-27T19:03:58.576851Z"
        },
        "trusted": true
      },
      "execution_count": null,
      "outputs": [
        {
          "output_type": "stream",
          "name": "stderr",
          "text": [
            "/usr/local/lib/python3.10/dist-packages/spacy/util.py:1740: UserWarning: [W111] Jupyter notebook detected: if using `prefer_gpu()` or `require_gpu()`, include it in the same cell right before `spacy.load()` to ensure that the model is loaded on the correct device. More information: http://spacy.io/usage/v3#jupyter-notebook-gpu\n",
            "  warnings.warn(Warnings.W111)\n"
          ]
        },
        {
          "output_type": "stream",
          "name": "stdout",
          "text": [
            "Skipping entity COUNTRY Египет\n",
            "Skipping entity COUNTRY Египет\n",
            "Skipping entity ORGANIZATION Роскомнадзора\n",
            "Skipping entity COUNTRY Mal\n",
            "Skipping entity EVENT ЧМ\n",
            "Skipping entity EVENT ЧМ\n",
            "Skipping entity EVENT ЧМ\n",
            "Skipping entity EVENT ЧМ\n",
            "Skipping entity EVENT ЧМ\n",
            "Skipping entity LOCATION Енисей\n",
            "Skipping entity PERSON Нобелевскую\n",
            "Skipping entity ORGANIZATION Спортинг\n",
            "Skipping entity ORDINAL V\n",
            "Skipping entity PROFESSION ведущая\n",
            "Skipping entity PROFESSION теле\n",
            "Skipping entity DISEASE коронавирусом\n",
            "Skipping entity PROFESSION Патриарх\n",
            "Skipping entity EVENT Покушение\n",
            "Skipping entity AWARD Радиомания\n",
            "Skipping entity COUNTRY Белорусси\n",
            "Skipping entity EVENT аварии\n",
            "Skipping entity ORDINAL I\n",
            "Skipping entity EVENT Олимпиады\n",
            "Skipping entity EVENT Похороны\n",
            "Skipping entity EVENT похороны\n",
            "Skipping entity EVENT драфте\n",
            "Skipping entity COUNTRY Грузия\n",
            "Skipping entity EVENT ЧМ\n",
            "Skipping entity EVENT ЧМ\n",
            "Skipping entity EVENT ЧМ\n",
            "Skipping entity EVENT ЧМ\n",
            "Skipping entity ORGANIZATION BSkyB\n",
            "Skipping entity ORGANIZATION BSkyB\n"
          ]
        }
      ]
    },
    {
      "cell_type": "markdown",
      "source": [
        "# Spacy model train\n",
        "\n",
        "A SpaCy component called SpanCategorizer provides structured annotation for a wide range of labeled spans, such as extended phrases, non-named entities, or overlapping annotations. Analyzing the materials and the spacy documentation [1], I decided to use the spancat model for the current task.\n",
        "\n",
        "The next step is to build a configuration. SpaCy provides a training quickstart page to easily create a config file [5]. I make a config file [1] (named base_config.cfg) with a choice of spancat model and fill it with “fill-config”. After I checked the correctness of datasets, configs and looked through the balance of entities, I trained the model on 10 000 iterations.\n"
      ],
      "metadata": {
        "id": "GiM04xQly-HO"
      }
    },
    {
      "cell_type": "code",
      "source": [
        "# Configuration file\n",
        "!python -m spacy init fill-config models/base_config.cfg models/config.cfg"
      ],
      "metadata": {
        "colab": {
          "base_uri": "https://localhost:8080/"
        },
        "id": "vYLStXhvBL-G",
        "outputId": "bf094b1d-662b-4516-a7f0-26776021a174",
        "execution": {
          "iopub.status.busy": "2024-04-27T11:07:04.244520Z",
          "iopub.execute_input": "2024-04-27T11:07:04.244912Z",
          "iopub.status.idle": "2024-04-27T11:07:12.639232Z",
          "shell.execute_reply.started": "2024-04-27T11:07:04.244878Z",
          "shell.execute_reply": "2024-04-27T11:07:12.638110Z"
        },
        "trusted": true
      },
      "execution_count": null,
      "outputs": [
        {
          "output_type": "stream",
          "name": "stdout",
          "text": [
            "/usr/local/lib/python3.10/dist-packages/transformers/utils/generic.py:441: UserWarning: torch.utils._pytree._register_pytree_node is deprecated. Please use torch.utils._pytree.register_pytree_node instead.\n",
            "  _torch_pytree._register_pytree_node(\n",
            "/usr/local/lib/python3.10/dist-packages/transformers/utils/generic.py:309: UserWarning: torch.utils._pytree._register_pytree_node is deprecated. Please use torch.utils._pytree.register_pytree_node instead.\n",
            "  _torch_pytree._register_pytree_node(\n",
            "\u001b[38;5;2m✔ Auto-filled config with all values\u001b[0m\n",
            "\u001b[38;5;2m✔ Saved config\u001b[0m\n",
            "models/config.cfg\n",
            "You can now add your data and train your pipeline:\n",
            "python -m spacy train config.cfg --paths.train ./train.spacy --paths.dev ./dev.spacy\n"
          ]
        }
      ]
    },
    {
      "cell_type": "code",
      "source": [
        "# Check the data balance and ready to train\n",
        "!python -m spacy debug data models/config.cfg"
      ],
      "metadata": {
        "colab": {
          "base_uri": "https://localhost:8080/"
        },
        "id": "PYMuYomxcLOQ",
        "outputId": "d5ac7382-9182-48cf-dc72-ec50f4f10bee",
        "execution": {
          "iopub.status.busy": "2024-04-27T11:08:59.943365Z",
          "iopub.execute_input": "2024-04-27T11:08:59.944313Z",
          "iopub.status.idle": "2024-04-27T11:09:37.382771Z",
          "shell.execute_reply.started": "2024-04-27T11:08:59.944271Z",
          "shell.execute_reply": "2024-04-27T11:09:37.381693Z"
        },
        "trusted": true
      },
      "execution_count": null,
      "outputs": [
        {
          "output_type": "stream",
          "name": "stdout",
          "text": [
            "/usr/local/lib/python3.10/dist-packages/transformers/utils/generic.py:441: UserWarning: torch.utils._pytree._register_pytree_node is deprecated. Please use torch.utils._pytree.register_pytree_node instead.\n",
            "  _torch_pytree._register_pytree_node(\n",
            "/usr/local/lib/python3.10/dist-packages/transformers/utils/generic.py:309: UserWarning: torch.utils._pytree._register_pytree_node is deprecated. Please use torch.utils._pytree.register_pytree_node instead.\n",
            "  _torch_pytree._register_pytree_node(\n",
            "\u001b[1m\n",
            "============================ Data file validation ============================\u001b[0m\n",
            "\u001b[38;5;2m✔ Pipeline can be initialized with data\u001b[0m\n",
            "\u001b[38;5;2m✔ Corpus is loadable\u001b[0m\n",
            "\u001b[1m\n",
            "=============================== Training stats ===============================\u001b[0m\n",
            "Language: ru\n",
            "Training pipeline: tok2vec, spancat\n",
            "414 training docs\n",
            "104 evaluation docs\n",
            "\u001b[38;5;2m✔ No overlap between training and evaluation data\u001b[0m\n",
            "\u001b[38;5;3m⚠ Low number of examples to train a new pipeline (414)\u001b[0m\n",
            "\u001b[1m\n",
            "============================== Vocab & Vectors ==============================\u001b[0m\n",
            "\u001b[38;5;4mℹ 110192 total word(s) in the data (25087 unique)\u001b[0m\n",
            "\u001b[38;5;4mℹ No word vectors present in the package\u001b[0m\n",
            "\u001b[1m\n",
            "============================ Span Categorization ============================\u001b[0m\n",
            "\n",
            "Spans Key   Labels                        \n",
            "---------   ------------------------------\n",
            "sc          {'COUNTRY', 'PROFESSION', 'FAMILY', 'WORK_OF_ART', 'ORDINAL', 'LAW', 'FACILITY', 'PERCENT', 'TIME', 'IDEOLOGY', 'RELIGION', 'PERSON', 'MONEY', 'ORGANIZATION', 'DISTRICT', 'AWARD', 'NATIONALITY', 'PRODUCT', 'CRIME', 'LOCATION', 'EVENT', 'PENALTY', 'DISEASE', 'DATE', 'CITY', 'LANGUAGE', 'AGE', 'STATE_OR_PROVINCE'}\n",
            "\n",
            "/usr/lib/python3.10/multiprocessing/popen_fork.py:66: RuntimeWarning: os.fork() was called. os.fork() is incompatible with multithreaded code, and JAX is multithreaded, so this will likely lead to a deadlock.\n",
            "  self.pid = os.fork()\n",
            "\u001b[2K\u001b[38;5;3m⚠ Low number of examples for label 'LANGUAGE' in key 'sc' (38)\u001b[0m\n",
            "\u001b[2K\u001b[38;5;3m⚠ Low number of examples for label 'FAMILY' in key 'sc' (20)\u001b[0m\n",
            "\u001b[2K\u001b[38;5;4mℹ Span characteristics for spans_key 'sc'\u001b[0m\n",
            "\u001b[38;5;4mℹ SD = Span Distinctiveness, BD = Boundary Distinctiveness\u001b[0m\n",
            "\n",
            "Span Type           Length     SD     BD      N\n",
            "-----------------   ------   ----   ----   ----\n",
            "PERSON                1.57   2.66   1.04   4168\n",
            "ORGANIZATION          1.75   2.35   1.24   3325\n",
            "PROFESSION            1.64   2.27   1.16   4052\n",
            "CITY                  1.20   4.04   1.73   1003\n",
            "AGE                   1.34   4.14   2.22    519\n",
            "COUNTRY               1.04   3.88   1.41   1952\n",
            "EVENT                 1.54   2.31   1.10   2654\n",
            "STATE_OR_PROVINCE     1.27   5.25   2.31    339\n",
            "TIME                  3.44   3.10   2.30    143\n",
            "DATE                  2.89   2.19   1.23   2068\n",
            "ORDINAL               1.03   5.07   2.45    408\n",
            "NATIONALITY           1.06   5.28   2.69    347\n",
            "FACILITY              2.21   3.97   1.95    318\n",
            "LANGUAGE              1.06   7.07   3.91     38\n",
            "CRIME                 2.44   3.72   1.92    188\n",
            "RELIGION              1.05   7.06   3.77     67\n",
            "LAW                   3.25   3.03   2.34    352\n",
            "FAMILY                1.63   6.96   4.10     20\n",
            "AWARD                 2.53   3.86   2.27    340\n",
            "MONEY                 3.11   4.58   2.57    126\n",
            "PRODUCT               1.14   5.59   2.17    194\n",
            "IDEOLOGY              1.11   5.76   2.78    190\n",
            "DISEASE               1.55   5.38   2.34    159\n",
            "LOCATION              1.43   4.72   2.30    253\n",
            "DISTRICT              1.73   5.76   3.34     70\n",
            "WORK_OF_ART           2.65   3.65   3.11    225\n",
            "PENALTY               2.29   4.94   3.12     87\n",
            "PERCENT               2.41   5.25   3.69     53\n",
            "-----------------   ------   ----   ----   ----\n",
            "Wgt. Average          1.71   2.98   1.44      -\n",
            "\n",
            "\u001b[38;5;4mℹ Over 90% of spans have lengths of 1 -- 4 (min=1, max=37). The most\n",
            "common span lengths are: 1 (50.33%), 2 (26.31%), 3 (12.24%), 4 (5.96%). If you\n",
            "are using the n-gram suggester, note that omitting infrequent n-gram lengths can\n",
            "greatly improve speed and memory usage.\u001b[0m\n",
            "\u001b[38;5;2m✔ Spans are distinct from the rest of the corpus\u001b[0m\n",
            "\u001b[38;5;2m✔ Boundary tokens are distinct from the rest of the corpus\u001b[0m\n",
            "\u001b[38;5;2m✔ Examples without occurrences available for all labels\u001b[0m\n",
            "\u001b[1m\n",
            "================================== Summary ==================================\u001b[0m\n",
            "\u001b[38;5;2m✔ 6 checks passed\u001b[0m\n",
            "\u001b[38;5;3m⚠ 3 warnings\u001b[0m\n"
          ]
        }
      ]
    },
    {
      "cell_type": "code",
      "source": [
        "# Train model\n",
        "!python -m spacy train models/config.cfg --output ./ --training.max_steps 10000 \\\n",
        "        --paths.train ./models/training_data.spacy --paths.dev ./models/dev_data.spacy --gpu-id 0"
      ],
      "metadata": {
        "colab": {
          "base_uri": "https://localhost:8080/"
        },
        "id": "ybp34TcPJ--k",
        "outputId": "5112de67-4bc4-4e0d-cc3f-c8ec15e31bd6",
        "execution": {
          "iopub.status.busy": "2024-04-27T11:23:43.840682Z",
          "iopub.execute_input": "2024-04-27T11:23:43.841093Z",
          "iopub.status.idle": "2024-04-27T11:35:59.103879Z",
          "shell.execute_reply.started": "2024-04-27T11:23:43.841056Z",
          "shell.execute_reply": "2024-04-27T11:35:59.102740Z"
        },
        "trusted": true
      },
      "execution_count": null,
      "outputs": [
        {
          "output_type": "stream",
          "name": "stdout",
          "text": [
            "\u001b[38;5;4mℹ Saving to output directory: .\u001b[0m\n",
            "\u001b[38;5;4mℹ Using GPU: 0\u001b[0m\n",
            "\u001b[1m\n",
            "=========================== Initializing pipeline ===========================\u001b[0m\n",
            "/usr/local/lib/python3.10/dist-packages/transformers/utils/generic.py:441: UserWarning: torch.utils._pytree._register_pytree_node is deprecated. Please use torch.utils._pytree.register_pytree_node instead.\n",
            "  _torch_pytree._register_pytree_node(\n",
            "/usr/local/lib/python3.10/dist-packages/transformers/utils/generic.py:309: UserWarning: torch.utils._pytree._register_pytree_node is deprecated. Please use torch.utils._pytree.register_pytree_node instead.\n",
            "  _torch_pytree._register_pytree_node(\n",
            "\u001b[38;5;2m✔ Initialized pipeline\u001b[0m\n",
            "\u001b[1m\n",
            "============================= Training pipeline =============================\u001b[0m\n",
            "\u001b[38;5;4mℹ Pipeline: ['tok2vec', 'spancat']\u001b[0m\n",
            "\u001b[38;5;4mℹ Initial learn rate: 0.001\u001b[0m\n",
            "E    #       LOSS TOK2VEC  LOSS SPANCAT  SPANS_SC_F  SPANS_SC_P  SPANS_SC_R  SCORE \n",
            "---  ------  ------------  ------------  ----------  ----------  ----------  ------\n",
            "  0       0        229.02       5795.82        0.44        0.22       39.33    0.00\n",
            "  0     200       1018.57      37615.79       25.98       69.81       15.96    0.26\n",
            "  0     400          8.31       8019.67       39.24       72.30       26.93    0.39\n",
            "  1     600          9.83       6378.46       45.41       84.16       31.10    0.45\n",
            "  1     800         11.64       6401.86       50.86       78.42       37.63    0.51\n",
            "  2    1000         11.15       5279.50       51.23       81.53       37.35    0.51\n",
            "  2    1200         11.33       5238.45       52.96       79.11       39.80    0.53\n",
            "  3    1400         13.19       4713.65       54.38       81.70       40.75    0.54\n",
            "  3    1600         12.02       4826.57       54.95       80.30       41.77    0.55\n",
            "  4    1800          9.27       4286.95       55.48       80.87       42.22    0.55\n",
            "  4    2000         10.85       4130.07       57.13       79.28       44.66    0.57\n",
            "  5    2200         11.13       4215.35       57.52       78.03       45.55    0.58\n",
            "  5    2400         10.64       3872.25       56.84       79.03       44.38    0.57\n",
            "  6    2600         10.21       3930.88       56.83       80.32       43.97    0.57\n",
            "  6    2800         10.25       3653.17       57.63       79.86       45.08    0.58\n",
            "  7    3000         10.40       3758.10       56.96       82.34       43.54    0.57\n",
            "  7    3200          9.32       3434.27       57.11       78.82       44.78    0.57\n",
            "  8    3400         10.48       3597.19       57.86       79.36       45.53    0.58\n",
            "  8    3600         11.31       3424.60       58.11       79.65       45.74    0.58\n",
            "  9    3800         10.76       3295.41       58.47       78.96       46.43    0.58\n",
            "  9    4000         10.94       3164.97       58.57       77.48       47.07    0.59\n",
            " 10    4200         12.36       3331.63       57.91       82.60       44.59    0.58\n",
            " 10    4400         10.69       2875.02       58.73       81.45       45.92    0.59\n",
            " 11    4600         11.87       3082.48       59.26       78.93       47.44    0.59\n",
            " 11    4800         11.55       2928.17       59.30       79.39       47.32    0.59\n",
            " 12    5000         10.65       2830.36       58.67       78.96       46.67    0.59\n",
            " 12    5200         11.70       2885.53       59.79       79.06       48.07    0.60\n",
            " 13    5400         12.26       2866.67       59.15       75.81       48.49    0.59\n",
            " 13    5600         12.16       2996.35       60.03       76.45       49.42    0.60\n",
            " 14    5800         14.58       3285.30       58.60       79.41       46.43    0.59\n",
            " 14    6000         16.18       3848.63       60.50       78.03       49.40    0.61\n",
            " 15    6200         18.46       4920.35       59.87       76.70       49.09    0.60\n",
            " 17    6400         21.07       5951.83       59.99       76.87       49.19    0.60\n",
            " 18    6600         23.69       7119.84       60.24       78.25       48.97    0.60\n",
            " 20    6800         23.67       7210.62       60.76       76.51       50.39    0.61\n",
            " 21    7000         23.97       7178.52       60.23       78.91       48.70    0.60\n",
            " 23    7200         23.68       6857.45       60.64       78.93       49.23    0.61\n",
            " 24    7400         24.10       6761.10       60.86       79.51       49.30    0.61\n",
            " 26    7600         24.58       6709.38       60.49       77.52       49.60    0.60\n",
            " 27    7800         25.36       6721.11       60.47       77.89       49.42    0.60\n",
            " 29    8000         23.12       6450.41       60.62       79.08       49.14    0.61\n",
            " 30    8200         24.61       6439.52       60.52       76.39       50.11    0.61\n",
            " 32    8400         22.96       6371.50       60.68       76.64       50.23    0.61\n",
            " 34    8600         24.83       6444.75       60.56       78.47       49.30    0.61\n",
            " 35    8800         24.39       6235.41       60.77       75.99       50.63    0.61\n",
            " 37    9000         23.98       6484.24       60.23       78.26       48.95    0.60\n",
            "\u001b[38;5;2m✔ Saved pipeline to output directory\u001b[0m\n",
            "model-last\n"
          ]
        }
      ]
    },
    {
      "cell_type": "markdown",
      "source": [
        "# Make prediction\n",
        "\n",
        "The early stop was triggered on 9 000 iterations. For prediction I used the best model obtained during training. The smallest spancat loss was 2830 with a score of 0.59."
      ],
      "metadata": {
        "id": "sm1-s8p-V-TE"
      }
    },
    {
      "cell_type": "code",
      "source": [
        "# Load resulting model\n",
        "nlp_ner = spacy.load(\"model-best\")"
      ],
      "metadata": {
        "colab": {
          "base_uri": "https://localhost:8080/"
        },
        "id": "QjrmOdASixva",
        "outputId": "3be66436-0b1c-428f-86ce-85498451e0f1",
        "execution": {
          "iopub.status.busy": "2024-04-27T11:18:49.684648Z",
          "iopub.execute_input": "2024-04-27T11:18:49.685537Z",
          "iopub.status.idle": "2024-04-27T11:18:50.198617Z",
          "shell.execute_reply.started": "2024-04-27T11:18:49.685503Z",
          "shell.execute_reply": "2024-04-27T11:18:50.197663Z"
        },
        "trusted": true
      },
      "execution_count": null,
      "outputs": [
        {
          "output_type": "stream",
          "name": "stderr",
          "text": [
            "/usr/local/lib/python3.10/dist-packages/spacy/util.py:1740: UserWarning: [W111] Jupyter notebook detected: if using `prefer_gpu()` or `require_gpu()`, include it in the same cell right before `spacy.load()` to ensure that the model is loaded on the correct device. More information: http://spacy.io/usage/v3#jupyter-notebook-gpu\n",
            "  warnings.warn(Warnings.W111)\n"
          ]
        }
      ]
    },
    {
      "cell_type": "code",
      "source": [
        "import string\n",
        "\n",
        "result = {}\n",
        "# Make predictions for test set\n",
        "for ind, row in test_df.iterrows():\n",
        "    doc = nlp_ner(row[\"senences\"])\n",
        "    result[row[\"id\"]] = [[]]\n",
        "    occured = []\n",
        "    for ent in doc.spans['sc']:\n",
        "        start = 0\n",
        "        if ent.text in occured or len(ent.text) < 2:\n",
        "            # Don't add already occured entities or with 1char long\n",
        "            continue\n",
        "        # Label all substrings that match entity text\n",
        "        for iter in range(row[\"senences\"].count(ent.text)):\n",
        "            st = start + row[\"senences\"][start:].index(ent.text)\n",
        "            result[row[\"id\"]][0].append([st, st+len(ent.text)-1, ent.label_])\n",
        "            start = st + len(ent.text)\n",
        "        occured.append(ent.text)\n",
        "\n",
        "#     Add skipped numbers\n",
        "    count_len = 0\n",
        "    for w in row[\"senences\"].split(\" \"):\n",
        "        if w.isdigit():\n",
        "            result[row[\"id\"]][0].append([count_len, count_len+len(w)-1, \"NUMBER\"])\n",
        "        count_len += len(w) + 1\n",
        "\n",
        "# Convert result to a dataframe\n",
        "answer = pd.DataFrame.from_dict(result, columns=[\"ners\"], orient=\"index\")\n",
        "answer = answer.reset_index().rename(columns={\"index\":\"id\"})\n",
        "answer.head()"
      ],
      "metadata": {
        "id": "_PBhx95o4ZG4",
        "colab": {
          "base_uri": "https://localhost:8080/",
          "height": 206
        },
        "outputId": "b253c172-dd24-4982-c747-8470a98ccb8e",
        "execution": {
          "iopub.status.busy": "2024-04-27T11:43:48.675627Z",
          "iopub.execute_input": "2024-04-27T11:43:48.676035Z",
          "iopub.status.idle": "2024-04-27T11:43:50.351460Z",
          "shell.execute_reply.started": "2024-04-27T11:43:48.675999Z",
          "shell.execute_reply": "2024-04-27T11:43:50.350467Z"
        },
        "trusted": true
      },
      "execution_count": null,
      "outputs": [
        {
          "output_type": "execute_result",
          "data": {
            "text/plain": [
              "    id                                               ners\n",
              "0  584  [[149, 156, STATE_OR_PROVINCE], [158, 167, EVE...\n",
              "1  585  [[190, 200, PROFESSION], [202, 208, COUNTRY], ...\n",
              "2  586  [[65, 75, CITY], [78, 85, COUNTRY], [135, 143,...\n",
              "3  587  [[2, 7, CITY], [333, 341, AGE], [368, 376, PRO...\n",
              "4  588  [[108, 114, PERSON], [118, 123, CITY], [147, 1..."
            ],
            "text/html": [
              "\n",
              "  <div id=\"df-e45db7f3-c136-4934-b56f-5c49aa9386af\" class=\"colab-df-container\">\n",
              "    <div>\n",
              "<style scoped>\n",
              "    .dataframe tbody tr th:only-of-type {\n",
              "        vertical-align: middle;\n",
              "    }\n",
              "\n",
              "    .dataframe tbody tr th {\n",
              "        vertical-align: top;\n",
              "    }\n",
              "\n",
              "    .dataframe thead th {\n",
              "        text-align: right;\n",
              "    }\n",
              "</style>\n",
              "<table border=\"1\" class=\"dataframe\">\n",
              "  <thead>\n",
              "    <tr style=\"text-align: right;\">\n",
              "      <th></th>\n",
              "      <th>id</th>\n",
              "      <th>ners</th>\n",
              "    </tr>\n",
              "  </thead>\n",
              "  <tbody>\n",
              "    <tr>\n",
              "      <th>0</th>\n",
              "      <td>584</td>\n",
              "      <td>[[149, 156, STATE_OR_PROVINCE], [158, 167, EVE...</td>\n",
              "    </tr>\n",
              "    <tr>\n",
              "      <th>1</th>\n",
              "      <td>585</td>\n",
              "      <td>[[190, 200, PROFESSION], [202, 208, COUNTRY], ...</td>\n",
              "    </tr>\n",
              "    <tr>\n",
              "      <th>2</th>\n",
              "      <td>586</td>\n",
              "      <td>[[65, 75, CITY], [78, 85, COUNTRY], [135, 143,...</td>\n",
              "    </tr>\n",
              "    <tr>\n",
              "      <th>3</th>\n",
              "      <td>587</td>\n",
              "      <td>[[2, 7, CITY], [333, 341, AGE], [368, 376, PRO...</td>\n",
              "    </tr>\n",
              "    <tr>\n",
              "      <th>4</th>\n",
              "      <td>588</td>\n",
              "      <td>[[108, 114, PERSON], [118, 123, CITY], [147, 1...</td>\n",
              "    </tr>\n",
              "  </tbody>\n",
              "</table>\n",
              "</div>\n",
              "    <div class=\"colab-df-buttons\">\n",
              "\n",
              "  <div class=\"colab-df-container\">\n",
              "    <button class=\"colab-df-convert\" onclick=\"convertToInteractive('df-e45db7f3-c136-4934-b56f-5c49aa9386af')\"\n",
              "            title=\"Convert this dataframe to an interactive table.\"\n",
              "            style=\"display:none;\">\n",
              "\n",
              "  <svg xmlns=\"http://www.w3.org/2000/svg\" height=\"24px\" viewBox=\"0 -960 960 960\">\n",
              "    <path d=\"M120-120v-720h720v720H120Zm60-500h600v-160H180v160Zm220 220h160v-160H400v160Zm0 220h160v-160H400v160ZM180-400h160v-160H180v160Zm440 0h160v-160H620v160ZM180-180h160v-160H180v160Zm440 0h160v-160H620v160Z\"/>\n",
              "  </svg>\n",
              "    </button>\n",
              "\n",
              "  <style>\n",
              "    .colab-df-container {\n",
              "      display:flex;\n",
              "      gap: 12px;\n",
              "    }\n",
              "\n",
              "    .colab-df-convert {\n",
              "      background-color: #E8F0FE;\n",
              "      border: none;\n",
              "      border-radius: 50%;\n",
              "      cursor: pointer;\n",
              "      display: none;\n",
              "      fill: #1967D2;\n",
              "      height: 32px;\n",
              "      padding: 0 0 0 0;\n",
              "      width: 32px;\n",
              "    }\n",
              "\n",
              "    .colab-df-convert:hover {\n",
              "      background-color: #E2EBFA;\n",
              "      box-shadow: 0px 1px 2px rgba(60, 64, 67, 0.3), 0px 1px 3px 1px rgba(60, 64, 67, 0.15);\n",
              "      fill: #174EA6;\n",
              "    }\n",
              "\n",
              "    .colab-df-buttons div {\n",
              "      margin-bottom: 4px;\n",
              "    }\n",
              "\n",
              "    [theme=dark] .colab-df-convert {\n",
              "      background-color: #3B4455;\n",
              "      fill: #D2E3FC;\n",
              "    }\n",
              "\n",
              "    [theme=dark] .colab-df-convert:hover {\n",
              "      background-color: #434B5C;\n",
              "      box-shadow: 0px 1px 3px 1px rgba(0, 0, 0, 0.15);\n",
              "      filter: drop-shadow(0px 1px 2px rgba(0, 0, 0, 0.3));\n",
              "      fill: #FFFFFF;\n",
              "    }\n",
              "  </style>\n",
              "\n",
              "    <script>\n",
              "      const buttonEl =\n",
              "        document.querySelector('#df-e45db7f3-c136-4934-b56f-5c49aa9386af button.colab-df-convert');\n",
              "      buttonEl.style.display =\n",
              "        google.colab.kernel.accessAllowed ? 'block' : 'none';\n",
              "\n",
              "      async function convertToInteractive(key) {\n",
              "        const element = document.querySelector('#df-e45db7f3-c136-4934-b56f-5c49aa9386af');\n",
              "        const dataTable =\n",
              "          await google.colab.kernel.invokeFunction('convertToInteractive',\n",
              "                                                    [key], {});\n",
              "        if (!dataTable) return;\n",
              "\n",
              "        const docLinkHtml = 'Like what you see? Visit the ' +\n",
              "          '<a target=\"_blank\" href=https://colab.research.google.com/notebooks/data_table.ipynb>data table notebook</a>'\n",
              "          + ' to learn more about interactive tables.';\n",
              "        element.innerHTML = '';\n",
              "        dataTable['output_type'] = 'display_data';\n",
              "        await google.colab.output.renderOutput(dataTable, element);\n",
              "        const docLink = document.createElement('div');\n",
              "        docLink.innerHTML = docLinkHtml;\n",
              "        element.appendChild(docLink);\n",
              "      }\n",
              "    </script>\n",
              "  </div>\n",
              "\n",
              "\n",
              "<div id=\"df-dab5c1e3-0086-439d-a720-e87becc8e211\">\n",
              "  <button class=\"colab-df-quickchart\" onclick=\"quickchart('df-dab5c1e3-0086-439d-a720-e87becc8e211')\"\n",
              "            title=\"Suggest charts\"\n",
              "            style=\"display:none;\">\n",
              "\n",
              "<svg xmlns=\"http://www.w3.org/2000/svg\" height=\"24px\"viewBox=\"0 0 24 24\"\n",
              "     width=\"24px\">\n",
              "    <g>\n",
              "        <path d=\"M19 3H5c-1.1 0-2 .9-2 2v14c0 1.1.9 2 2 2h14c1.1 0 2-.9 2-2V5c0-1.1-.9-2-2-2zM9 17H7v-7h2v7zm4 0h-2V7h2v10zm4 0h-2v-4h2v4z\"/>\n",
              "    </g>\n",
              "</svg>\n",
              "  </button>\n",
              "\n",
              "<style>\n",
              "  .colab-df-quickchart {\n",
              "      --bg-color: #E8F0FE;\n",
              "      --fill-color: #1967D2;\n",
              "      --hover-bg-color: #E2EBFA;\n",
              "      --hover-fill-color: #174EA6;\n",
              "      --disabled-fill-color: #AAA;\n",
              "      --disabled-bg-color: #DDD;\n",
              "  }\n",
              "\n",
              "  [theme=dark] .colab-df-quickchart {\n",
              "      --bg-color: #3B4455;\n",
              "      --fill-color: #D2E3FC;\n",
              "      --hover-bg-color: #434B5C;\n",
              "      --hover-fill-color: #FFFFFF;\n",
              "      --disabled-bg-color: #3B4455;\n",
              "      --disabled-fill-color: #666;\n",
              "  }\n",
              "\n",
              "  .colab-df-quickchart {\n",
              "    background-color: var(--bg-color);\n",
              "    border: none;\n",
              "    border-radius: 50%;\n",
              "    cursor: pointer;\n",
              "    display: none;\n",
              "    fill: var(--fill-color);\n",
              "    height: 32px;\n",
              "    padding: 0;\n",
              "    width: 32px;\n",
              "  }\n",
              "\n",
              "  .colab-df-quickchart:hover {\n",
              "    background-color: var(--hover-bg-color);\n",
              "    box-shadow: 0 1px 2px rgba(60, 64, 67, 0.3), 0 1px 3px 1px rgba(60, 64, 67, 0.15);\n",
              "    fill: var(--button-hover-fill-color);\n",
              "  }\n",
              "\n",
              "  .colab-df-quickchart-complete:disabled,\n",
              "  .colab-df-quickchart-complete:disabled:hover {\n",
              "    background-color: var(--disabled-bg-color);\n",
              "    fill: var(--disabled-fill-color);\n",
              "    box-shadow: none;\n",
              "  }\n",
              "\n",
              "  .colab-df-spinner {\n",
              "    border: 2px solid var(--fill-color);\n",
              "    border-color: transparent;\n",
              "    border-bottom-color: var(--fill-color);\n",
              "    animation:\n",
              "      spin 1s steps(1) infinite;\n",
              "  }\n",
              "\n",
              "  @keyframes spin {\n",
              "    0% {\n",
              "      border-color: transparent;\n",
              "      border-bottom-color: var(--fill-color);\n",
              "      border-left-color: var(--fill-color);\n",
              "    }\n",
              "    20% {\n",
              "      border-color: transparent;\n",
              "      border-left-color: var(--fill-color);\n",
              "      border-top-color: var(--fill-color);\n",
              "    }\n",
              "    30% {\n",
              "      border-color: transparent;\n",
              "      border-left-color: var(--fill-color);\n",
              "      border-top-color: var(--fill-color);\n",
              "      border-right-color: var(--fill-color);\n",
              "    }\n",
              "    40% {\n",
              "      border-color: transparent;\n",
              "      border-right-color: var(--fill-color);\n",
              "      border-top-color: var(--fill-color);\n",
              "    }\n",
              "    60% {\n",
              "      border-color: transparent;\n",
              "      border-right-color: var(--fill-color);\n",
              "    }\n",
              "    80% {\n",
              "      border-color: transparent;\n",
              "      border-right-color: var(--fill-color);\n",
              "      border-bottom-color: var(--fill-color);\n",
              "    }\n",
              "    90% {\n",
              "      border-color: transparent;\n",
              "      border-bottom-color: var(--fill-color);\n",
              "    }\n",
              "  }\n",
              "</style>\n",
              "\n",
              "  <script>\n",
              "    async function quickchart(key) {\n",
              "      const quickchartButtonEl =\n",
              "        document.querySelector('#' + key + ' button');\n",
              "      quickchartButtonEl.disabled = true;  // To prevent multiple clicks.\n",
              "      quickchartButtonEl.classList.add('colab-df-spinner');\n",
              "      try {\n",
              "        const charts = await google.colab.kernel.invokeFunction(\n",
              "            'suggestCharts', [key], {});\n",
              "      } catch (error) {\n",
              "        console.error('Error during call to suggestCharts:', error);\n",
              "      }\n",
              "      quickchartButtonEl.classList.remove('colab-df-spinner');\n",
              "      quickchartButtonEl.classList.add('colab-df-quickchart-complete');\n",
              "    }\n",
              "    (() => {\n",
              "      let quickchartButtonEl =\n",
              "        document.querySelector('#df-dab5c1e3-0086-439d-a720-e87becc8e211 button');\n",
              "      quickchartButtonEl.style.display =\n",
              "        google.colab.kernel.accessAllowed ? 'block' : 'none';\n",
              "    })();\n",
              "  </script>\n",
              "</div>\n",
              "    </div>\n",
              "  </div>\n"
            ],
            "application/vnd.google.colaboratory.intrinsic+json": {
              "type": "dataframe",
              "variable_name": "answer",
              "summary": "{\n  \"name\": \"answer\",\n  \"rows\": 65,\n  \"fields\": [\n    {\n      \"column\": \"id\",\n      \"properties\": {\n        \"dtype\": \"number\",\n        \"std\": 18,\n        \"min\": 584,\n        \"max\": 648,\n        \"num_unique_values\": 65,\n        \"samples\": [\n          637,\n          644,\n          584\n        ],\n        \"semantic_type\": \"\",\n        \"description\": \"\"\n      }\n    },\n    {\n      \"column\": \"ners\",\n      \"properties\": {\n        \"dtype\": \"object\",\n        \"semantic_type\": \"\",\n        \"description\": \"\"\n      }\n    }\n  ]\n}"
            }
          },
          "metadata": {},
          "execution_count": 53
        }
      ]
    },
    {
      "cell_type": "code",
      "source": [
        "output_path = \"./test.jsonl\"\n",
        "\n",
        "with open(output_path, \"w\") as f:\n",
        "    f.write(answer.to_json(\n",
        "        orient='records', lines=True\n",
        "        ))"
      ],
      "metadata": {
        "id": "l2lHeXuL7C34",
        "execution": {
          "iopub.status.busy": "2024-04-27T11:44:26.735066Z",
          "iopub.execute_input": "2024-04-27T11:44:26.735426Z",
          "iopub.status.idle": "2024-04-27T11:44:26.744861Z",
          "shell.execute_reply.started": "2024-04-27T11:44:26.735400Z",
          "shell.execute_reply": "2024-04-27T11:44:26.743889Z"
        },
        "trusted": true
      },
      "execution_count": null,
      "outputs": []
    },
    {
      "cell_type": "code",
      "source": [
        "!zip test test.jsonl"
      ],
      "metadata": {
        "colab": {
          "base_uri": "https://localhost:8080/"
        },
        "id": "s_KJDjZr-tkZ",
        "outputId": "87bad10b-4185-4c83-fcf5-25be2b8e6a8d",
        "execution": {
          "iopub.status.busy": "2024-04-27T11:40:43.862806Z",
          "iopub.execute_input": "2024-04-27T11:40:43.863531Z",
          "iopub.status.idle": "2024-04-27T11:40:44.839947Z",
          "shell.execute_reply.started": "2024-04-27T11:40:43.863498Z",
          "shell.execute_reply": "2024-04-27T11:40:44.838955Z"
        },
        "trusted": true
      },
      "execution_count": null,
      "outputs": [
        {
          "output_type": "stream",
          "name": "stdout",
          "text": [
            "updating: test.jsonl (deflated 75%)\n"
          ]
        }
      ]
    },
    {
      "cell_type": "code",
      "source": [
        "!zip -r -q model-best model-best"
      ],
      "metadata": {
        "id": "YDgQ1uUkFX4U"
      },
      "execution_count": null,
      "outputs": []
    }
  ]
}