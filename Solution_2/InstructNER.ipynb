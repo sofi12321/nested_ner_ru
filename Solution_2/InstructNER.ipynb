{
  "metadata": {
    "colab": {
      "provenance": [],
      "gpuType": "T4",
      "collapsed_sections": [
        "k7dr4lk21Qae"
      ],
      "name": "NLP_A3"
    },
    "kernelspec": {
      "name": "python3",
      "display_name": "Python 3",
      "language": "python"
    },
    "language_info": {
      "name": "python",
      "version": "3.10.13",
      "mimetype": "text/x-python",
      "codemirror_mode": {
        "name": "ipython",
        "version": 3
      },
      "pygments_lexer": "ipython3",
      "nbconvert_exporter": "python",
      "file_extension": ".py"
    },
    "accelerator": "GPU",
    "kaggle": {
      "accelerator": "nvidiaTeslaT4",
      "dataSources": [],
      "dockerImageVersionId": 30699,
      "isInternetEnabled": true,
      "language": "python",
      "sourceType": "notebook",
      "isGpuEnabled": true
    }
  },
  "nbformat_minor": 0,
  "nbformat": 4,
  "cells": [
    {
      "cell_type": "markdown",
      "source": [
        "# Prepare data\n"
      ],
      "metadata": {
        "id": "7H_EoWWtSNfW"
      }
    },
    {
      "cell_type": "markdown",
      "source": [
        "## Prepare environment"
      ],
      "metadata": {
        "id": "mhdrdJjbmjbQ"
      }
    },
    {
      "cell_type": "code",
      "source": [
        "%%capture\n",
        "!pip install -q peft\n",
        "!pip install -q accelerate\n",
        "!pip install -q -i https://pypi.org/simple/ bitsandbytes\n",
        "!pip install --upgrade -q huggingface_hub\n",
        "!pip install -q wandb pybrat razdel\n",
        "!pip install jsonlines"
      ],
      "metadata": {
        "execution": {
          "iopub.status.busy": "2024-04-28T12:14:29.135224Z",
          "iopub.execute_input": "2024-04-28T12:14:29.135613Z",
          "iopub.status.idle": "2024-04-28T12:16:11.992309Z",
          "shell.execute_reply.started": "2024-04-28T12:14:29.13558Z",
          "shell.execute_reply": "2024-04-28T12:16:11.99118Z"
        },
        "trusted": true,
        "id": "MXPIkyI-SEgc"
      },
      "execution_count": null,
      "outputs": []
    },
    {
      "cell_type": "code",
      "source": [
        "# Authorize to hf and wandb\n",
        "from huggingface_hub import login\n",
        "\n",
        "# Enter your tokens here\n",
        "login(token=\"\")\n",
        "!wandb login"
      ],
      "metadata": {
        "execution": {
          "iopub.status.busy": "2024-04-28T12:16:11.994032Z",
          "iopub.execute_input": "2024-04-28T12:16:11.994434Z",
          "iopub.status.idle": "2024-04-28T12:16:12.587015Z",
          "shell.execute_reply.started": "2024-04-28T12:16:11.994401Z",
          "shell.execute_reply": "2024-04-28T12:16:12.586051Z"
        },
        "trusted": true,
        "id": "BMW5T6xVSEgc",
        "outputId": "5b7c7117-1ddc-4107-f60f-1d74fb34b15a"
      },
      "execution_count": null,
      "outputs": [
        {
          "name": "stdout",
          "text": "Token has not been saved to git credential helper. Pass `add_to_git_credential=True` if you want to set the git credential as well.\nToken is valid (permission: read).\nYour token has been saved to /root/.cache/huggingface/token\nLogin successful\n",
          "output_type": "stream"
        }
      ]
    },
    {
      "cell_type": "code",
      "source": [
        "import pandas as pd\n",
        "import numpy as np\n",
        "import jsonlines\n",
        "import requests, zipfile, io\n",
        "import json\n",
        "import string\n",
        "import warnings\n",
        "\n",
        "warnings.filterwarnings(\"ignore\")"
      ],
      "metadata": {
        "execution": {
          "iopub.status.busy": "2024-04-28T11:49:59.794084Z",
          "iopub.execute_input": "2024-04-28T11:49:59.794369Z",
          "iopub.status.idle": "2024-04-28T11:50:00.172456Z",
          "shell.execute_reply.started": "2024-04-28T11:49:59.794342Z",
          "shell.execute_reply": "2024-04-28T11:50:00.171279Z"
        },
        "trusted": true,
        "id": "Ge5rH2UtSNfX"
      },
      "execution_count": null,
      "outputs": []
    },
    {
      "cell_type": "markdown",
      "source": [
        "## Download data"
      ],
      "metadata": {
        "id": "e6Xls-h8m0Lu"
      }
    },
    {
      "cell_type": "code",
      "source": [
        "# Load data\n",
        "url = \"https://codalab.lisn.upsaclay.fr/my/datasets/download/2be26d3f-9630-46d5-8a68-414034ba4bdc\"\n",
        "r = requests.get(url)\n",
        "if r.ok:\n",
        "    z = zipfile.ZipFile(io.BytesIO(r.content))\n",
        "    z.extractall(\".\")\n",
        "else:\n",
        "    print(\"Downloading error\")"
      ],
      "metadata": {
        "execution": {
          "iopub.status.busy": "2024-04-28T11:50:00.173562Z",
          "iopub.execute_input": "2024-04-28T11:50:00.173931Z",
          "iopub.status.idle": "2024-04-28T11:50:00.734598Z",
          "shell.execute_reply.started": "2024-04-28T11:50:00.173905Z",
          "shell.execute_reply": "2024-04-28T11:50:00.733813Z"
        },
        "trusted": true,
        "id": "YzIuR3Oume_8"
      },
      "execution_count": null,
      "outputs": []
    },
    {
      "cell_type": "code",
      "source": [
        "# Load data in pd df\n",
        "train_df = pd.read_json('train.jsonl', lines=True)\n",
        "dev_df = pd.read_json('dev.jsonl', lines=True)\n",
        "test_df = pd.read_json('test.jsonl', lines=True)"
      ],
      "metadata": {
        "execution": {
          "iopub.status.busy": "2024-04-28T11:50:51.608941Z",
          "iopub.execute_input": "2024-04-28T11:50:51.609286Z",
          "iopub.status.idle": "2024-04-28T11:50:51.697079Z",
          "shell.execute_reply.started": "2024-04-28T11:50:51.609258Z",
          "shell.execute_reply": "2024-04-28T11:50:51.696321Z"
        },
        "trusted": true,
        "id": "AZJhS8gmSNfY"
      },
      "execution_count": null,
      "outputs": []
    },
    {
      "cell_type": "code",
      "source": [
        "train_df.head(3)"
      ],
      "metadata": {
        "colab": {
          "base_uri": "https://localhost:8080/",
          "height": 143
        },
        "outputId": "d44baaf2-66c4-4f6f-fc5c-7bb9735b0500",
        "execution": {
          "iopub.status.busy": "2024-04-28T11:50:53.462282Z",
          "iopub.execute_input": "2024-04-28T11:50:53.463026Z",
          "iopub.status.idle": "2024-04-28T11:50:53.503023Z",
          "shell.execute_reply.started": "2024-04-28T11:50:53.462991Z",
          "shell.execute_reply": "2024-04-28T11:50:53.502107Z"
        },
        "trusted": true,
        "id": "8LyAbW1fSNfZ"
      },
      "execution_count": null,
      "outputs": [
        {
          "output_type": "execute_result",
          "data": {
            "text/plain": [
              "                                                ners  \\\n",
              "0  [[0, 5, CITY], [16, 23, PERSON], [34, 41, PERS...   \n",
              "1  [[21, 28, PROFESSION], [53, 67, ORGANIZATION],...   \n",
              "2  [[0, 4, PERSON], [37, 42, COUNTRY], [47, 76, O...   \n",
              "\n",
              "                                           sentences  id  \n",
              "0  Бостон взорвали Тамерлан и Джохар Царнаевы из ...   0  \n",
              "1  Умер избитый до комы гитарист и сооснователь г...   1  \n",
              "2  Путин подписал распоряжение о выходе России из...   2  "
            ],
            "text/html": [
              "\n",
              "  <div id=\"df-60cc60ee-e478-455e-8cfb-216ec477530c\" class=\"colab-df-container\">\n",
              "    <div>\n",
              "<style scoped>\n",
              "    .dataframe tbody tr th:only-of-type {\n",
              "        vertical-align: middle;\n",
              "    }\n",
              "\n",
              "    .dataframe tbody tr th {\n",
              "        vertical-align: top;\n",
              "    }\n",
              "\n",
              "    .dataframe thead th {\n",
              "        text-align: right;\n",
              "    }\n",
              "</style>\n",
              "<table border=\"1\" class=\"dataframe\">\n",
              "  <thead>\n",
              "    <tr style=\"text-align: right;\">\n",
              "      <th></th>\n",
              "      <th>ners</th>\n",
              "      <th>sentences</th>\n",
              "      <th>id</th>\n",
              "    </tr>\n",
              "  </thead>\n",
              "  <tbody>\n",
              "    <tr>\n",
              "      <th>0</th>\n",
              "      <td>[[0, 5, CITY], [16, 23, PERSON], [34, 41, PERS...</td>\n",
              "      <td>Бостон взорвали Тамерлан и Джохар Царнаевы из ...</td>\n",
              "      <td>0</td>\n",
              "    </tr>\n",
              "    <tr>\n",
              "      <th>1</th>\n",
              "      <td>[[21, 28, PROFESSION], [53, 67, ORGANIZATION],...</td>\n",
              "      <td>Умер избитый до комы гитарист и сооснователь г...</td>\n",
              "      <td>1</td>\n",
              "    </tr>\n",
              "    <tr>\n",
              "      <th>2</th>\n",
              "      <td>[[0, 4, PERSON], [37, 42, COUNTRY], [47, 76, O...</td>\n",
              "      <td>Путин подписал распоряжение о выходе России из...</td>\n",
              "      <td>2</td>\n",
              "    </tr>\n",
              "  </tbody>\n",
              "</table>\n",
              "</div>\n",
              "    <div class=\"colab-df-buttons\">\n",
              "\n",
              "  <div class=\"colab-df-container\">\n",
              "    <button class=\"colab-df-convert\" onclick=\"convertToInteractive('df-60cc60ee-e478-455e-8cfb-216ec477530c')\"\n",
              "            title=\"Convert this dataframe to an interactive table.\"\n",
              "            style=\"display:none;\">\n",
              "\n",
              "  <svg xmlns=\"http://www.w3.org/2000/svg\" height=\"24px\" viewBox=\"0 -960 960 960\">\n",
              "    <path d=\"M120-120v-720h720v720H120Zm60-500h600v-160H180v160Zm220 220h160v-160H400v160Zm0 220h160v-160H400v160ZM180-400h160v-160H180v160Zm440 0h160v-160H620v160ZM180-180h160v-160H180v160Zm440 0h160v-160H620v160Z\"/>\n",
              "  </svg>\n",
              "    </button>\n",
              "\n",
              "  <style>\n",
              "    .colab-df-container {\n",
              "      display:flex;\n",
              "      gap: 12px;\n",
              "    }\n",
              "\n",
              "    .colab-df-convert {\n",
              "      background-color: #E8F0FE;\n",
              "      border: none;\n",
              "      border-radius: 50%;\n",
              "      cursor: pointer;\n",
              "      display: none;\n",
              "      fill: #1967D2;\n",
              "      height: 32px;\n",
              "      padding: 0 0 0 0;\n",
              "      width: 32px;\n",
              "    }\n",
              "\n",
              "    .colab-df-convert:hover {\n",
              "      background-color: #E2EBFA;\n",
              "      box-shadow: 0px 1px 2px rgba(60, 64, 67, 0.3), 0px 1px 3px 1px rgba(60, 64, 67, 0.15);\n",
              "      fill: #174EA6;\n",
              "    }\n",
              "\n",
              "    .colab-df-buttons div {\n",
              "      margin-bottom: 4px;\n",
              "    }\n",
              "\n",
              "    [theme=dark] .colab-df-convert {\n",
              "      background-color: #3B4455;\n",
              "      fill: #D2E3FC;\n",
              "    }\n",
              "\n",
              "    [theme=dark] .colab-df-convert:hover {\n",
              "      background-color: #434B5C;\n",
              "      box-shadow: 0px 1px 3px 1px rgba(0, 0, 0, 0.15);\n",
              "      filter: drop-shadow(0px 1px 2px rgba(0, 0, 0, 0.3));\n",
              "      fill: #FFFFFF;\n",
              "    }\n",
              "  </style>\n",
              "\n",
              "    <script>\n",
              "      const buttonEl =\n",
              "        document.querySelector('#df-60cc60ee-e478-455e-8cfb-216ec477530c button.colab-df-convert');\n",
              "      buttonEl.style.display =\n",
              "        google.colab.kernel.accessAllowed ? 'block' : 'none';\n",
              "\n",
              "      async function convertToInteractive(key) {\n",
              "        const element = document.querySelector('#df-60cc60ee-e478-455e-8cfb-216ec477530c');\n",
              "        const dataTable =\n",
              "          await google.colab.kernel.invokeFunction('convertToInteractive',\n",
              "                                                    [key], {});\n",
              "        if (!dataTable) return;\n",
              "\n",
              "        const docLinkHtml = 'Like what you see? Visit the ' +\n",
              "          '<a target=\"_blank\" href=https://colab.research.google.com/notebooks/data_table.ipynb>data table notebook</a>'\n",
              "          + ' to learn more about interactive tables.';\n",
              "        element.innerHTML = '';\n",
              "        dataTable['output_type'] = 'display_data';\n",
              "        await google.colab.output.renderOutput(dataTable, element);\n",
              "        const docLink = document.createElement('div');\n",
              "        docLink.innerHTML = docLinkHtml;\n",
              "        element.appendChild(docLink);\n",
              "      }\n",
              "    </script>\n",
              "  </div>\n",
              "\n",
              "\n",
              "<div id=\"df-1d41ebcc-6b69-4df1-95ba-81c947eb46f7\">\n",
              "  <button class=\"colab-df-quickchart\" onclick=\"quickchart('df-1d41ebcc-6b69-4df1-95ba-81c947eb46f7')\"\n",
              "            title=\"Suggest charts\"\n",
              "            style=\"display:none;\">\n",
              "\n",
              "<svg xmlns=\"http://www.w3.org/2000/svg\" height=\"24px\"viewBox=\"0 0 24 24\"\n",
              "     width=\"24px\">\n",
              "    <g>\n",
              "        <path d=\"M19 3H5c-1.1 0-2 .9-2 2v14c0 1.1.9 2 2 2h14c1.1 0 2-.9 2-2V5c0-1.1-.9-2-2-2zM9 17H7v-7h2v7zm4 0h-2V7h2v10zm4 0h-2v-4h2v4z\"/>\n",
              "    </g>\n",
              "</svg>\n",
              "  </button>\n",
              "\n",
              "<style>\n",
              "  .colab-df-quickchart {\n",
              "      --bg-color: #E8F0FE;\n",
              "      --fill-color: #1967D2;\n",
              "      --hover-bg-color: #E2EBFA;\n",
              "      --hover-fill-color: #174EA6;\n",
              "      --disabled-fill-color: #AAA;\n",
              "      --disabled-bg-color: #DDD;\n",
              "  }\n",
              "\n",
              "  [theme=dark] .colab-df-quickchart {\n",
              "      --bg-color: #3B4455;\n",
              "      --fill-color: #D2E3FC;\n",
              "      --hover-bg-color: #434B5C;\n",
              "      --hover-fill-color: #FFFFFF;\n",
              "      --disabled-bg-color: #3B4455;\n",
              "      --disabled-fill-color: #666;\n",
              "  }\n",
              "\n",
              "  .colab-df-quickchart {\n",
              "    background-color: var(--bg-color);\n",
              "    border: none;\n",
              "    border-radius: 50%;\n",
              "    cursor: pointer;\n",
              "    display: none;\n",
              "    fill: var(--fill-color);\n",
              "    height: 32px;\n",
              "    padding: 0;\n",
              "    width: 32px;\n",
              "  }\n",
              "\n",
              "  .colab-df-quickchart:hover {\n",
              "    background-color: var(--hover-bg-color);\n",
              "    box-shadow: 0 1px 2px rgba(60, 64, 67, 0.3), 0 1px 3px 1px rgba(60, 64, 67, 0.15);\n",
              "    fill: var(--button-hover-fill-color);\n",
              "  }\n",
              "\n",
              "  .colab-df-quickchart-complete:disabled,\n",
              "  .colab-df-quickchart-complete:disabled:hover {\n",
              "    background-color: var(--disabled-bg-color);\n",
              "    fill: var(--disabled-fill-color);\n",
              "    box-shadow: none;\n",
              "  }\n",
              "\n",
              "  .colab-df-spinner {\n",
              "    border: 2px solid var(--fill-color);\n",
              "    border-color: transparent;\n",
              "    border-bottom-color: var(--fill-color);\n",
              "    animation:\n",
              "      spin 1s steps(1) infinite;\n",
              "  }\n",
              "\n",
              "  @keyframes spin {\n",
              "    0% {\n",
              "      border-color: transparent;\n",
              "      border-bottom-color: var(--fill-color);\n",
              "      border-left-color: var(--fill-color);\n",
              "    }\n",
              "    20% {\n",
              "      border-color: transparent;\n",
              "      border-left-color: var(--fill-color);\n",
              "      border-top-color: var(--fill-color);\n",
              "    }\n",
              "    30% {\n",
              "      border-color: transparent;\n",
              "      border-left-color: var(--fill-color);\n",
              "      border-top-color: var(--fill-color);\n",
              "      border-right-color: var(--fill-color);\n",
              "    }\n",
              "    40% {\n",
              "      border-color: transparent;\n",
              "      border-right-color: var(--fill-color);\n",
              "      border-top-color: var(--fill-color);\n",
              "    }\n",
              "    60% {\n",
              "      border-color: transparent;\n",
              "      border-right-color: var(--fill-color);\n",
              "    }\n",
              "    80% {\n",
              "      border-color: transparent;\n",
              "      border-right-color: var(--fill-color);\n",
              "      border-bottom-color: var(--fill-color);\n",
              "    }\n",
              "    90% {\n",
              "      border-color: transparent;\n",
              "      border-bottom-color: var(--fill-color);\n",
              "    }\n",
              "  }\n",
              "</style>\n",
              "\n",
              "  <script>\n",
              "    async function quickchart(key) {\n",
              "      const quickchartButtonEl =\n",
              "        document.querySelector('#' + key + ' button');\n",
              "      quickchartButtonEl.disabled = true;  // To prevent multiple clicks.\n",
              "      quickchartButtonEl.classList.add('colab-df-spinner');\n",
              "      try {\n",
              "        const charts = await google.colab.kernel.invokeFunction(\n",
              "            'suggestCharts', [key], {});\n",
              "      } catch (error) {\n",
              "        console.error('Error during call to suggestCharts:', error);\n",
              "      }\n",
              "      quickchartButtonEl.classList.remove('colab-df-spinner');\n",
              "      quickchartButtonEl.classList.add('colab-df-quickchart-complete');\n",
              "    }\n",
              "    (() => {\n",
              "      let quickchartButtonEl =\n",
              "        document.querySelector('#df-1d41ebcc-6b69-4df1-95ba-81c947eb46f7 button');\n",
              "      quickchartButtonEl.style.display =\n",
              "        google.colab.kernel.accessAllowed ? 'block' : 'none';\n",
              "    })();\n",
              "  </script>\n",
              "</div>\n",
              "    </div>\n",
              "  </div>\n"
            ],
            "application/vnd.google.colaboratory.intrinsic+json": {
              "type": "dataframe",
              "variable_name": "train_df",
              "summary": "{\n  \"name\": \"train_df\",\n  \"rows\": 519,\n  \"fields\": [\n    {\n      \"column\": \"ners\",\n      \"properties\": {\n        \"dtype\": \"object\",\n        \"semantic_type\": \"\",\n        \"description\": \"\"\n      }\n    },\n    {\n      \"column\": \"sentences\",\n      \"properties\": {\n        \"dtype\": \"string\",\n        \"num_unique_values\": 519,\n        \"samples\": [\n          \"\\u0421\\u043e\\u0441\\u0442\\u043e\\u044f\\u043b\\u043e\\u0441\\u044c \\u043e\\u0442\\u043a\\u0440\\u044b\\u0442\\u0438\\u0435 \\u0432\\u044b\\u0441\\u0442\\u0430\\u0432\\u043a\\u0438 \\u00ab\\u201e\\u041f\\u0435\\u0441\\u043e\\u0447\\u043d\\u044b\\u0435 \\u0447\\u0430\\u0441\\u044b\\u201c: \\u0420\\u0438\\u0441\\u0443\\u043d\\u043a\\u0438 \\u0418\\u043e\\u0441\\u0438\\u0444\\u0430 \\u0411\\u0440\\u043e\\u0434\\u0441\\u043a\\u043e\\u0433\\u043e\\u00bb\\n\\u041d\\u0430\\u043a\\u0430\\u043d\\u0443\\u043d\\u0435 \\u0432 \\u0437\\u0430\\u043b\\u0435 \\u041a\\u043e\\u0440\\u0444\\u0430 \\u0432 \\u0413\\u043b\\u0430\\u0432\\u043d\\u043e\\u043c \\u0437\\u0434\\u0430\\u043d\\u0438\\u0438 \\u0420\\u043e\\u0441\\u0441\\u0438\\u0439\\u0441\\u043a\\u043e\\u0439 \\u043d\\u0430\\u0446\\u0438\\u043e\\u043d\\u0430\\u043b\\u044c\\u043d\\u043e\\u0439 \\u0431\\u0438\\u0431\\u043b\\u0438\\u043e\\u0442\\u0435\\u043a\\u0438 \\u0432 \\u0440\\u0430\\u043c\\u043a\\u0430\\u0445 \\u0413\\u043e\\u0434\\u0430 \\u0418\\u043e\\u0441\\u0438\\u0444\\u0430 \\u0411\\u0440\\u043e\\u0434\\u0441\\u043a\\u043e\\u0433\\u043e \\u0432 \\u0420\\u043e\\u0441\\u0441\\u0438\\u0438 \\u0441\\u043e\\u0441\\u0442\\u043e\\u044f\\u043b\\u043e\\u0441\\u044c \\u043e\\u0442\\u043a\\u0440\\u044b\\u0442\\u0438\\u0435 \\u0443\\u043d\\u0438\\u043a\\u0430\\u043b\\u044c\\u043d\\u043e\\u0439 \\u0432\\u044b\\u0441\\u0442\\u0430\\u0432\\u043a\\u0438 \\u00ab\\u041f\\u0435\\u0441\\u043e\\u0447\\u043d\\u044b\\u0435 \\u0447\\u0430\\u0441\\u044b\\u00bb: \\u0420\\u0438\\u0441\\u0443\\u043d\\u043a\\u0438 \\u0418\\u043e\\u0441\\u0438\\u0444\\u0430 \\u0411\\u0440\\u043e\\u0434\\u0441\\u043a\\u043e\\u0433\\u043e\\u00bb, \\u043f\\u0440\\u0438\\u0443\\u0440\\u043e\\u0447\\u0435\\u043d\\u043d\\u043e\\u0439 \\u043a 70-\\u043b\\u0435\\u0442\\u0438\\u044e \\u0441\\u043e \\u0434\\u043d\\u044f \\u0440\\u043e\\u0436\\u0434\\u0435\\u043d\\u0438\\u044f \\u043f\\u043e\\u044d\\u0442\\u0430. \\u041d\\u0430 \\u044d\\u043a\\u0441\\u043f\\u043e\\u0437\\u0438\\u0446\\u0438\\u0438 \\u043f\\u0440\\u0435\\u0434\\u0441\\u0442\\u0430\\u0432\\u043b\\u0435\\u043d\\u044b \\u043d\\u0435\\u043e\\u043f\\u0443\\u0431\\u043b\\u0438\\u043a\\u043e\\u0432\\u0430\\u043d\\u043d\\u044b\\u0435 \\u0440\\u0438\\u0441\\u0443\\u043d\\u043a\\u0438 \\u0411\\u0440\\u043e\\u0434\\u0441\\u043a\\u043e\\u0433\\u043e \\u0438\\u0437 \\u0435\\u0433\\u043e \\u0430\\u0440\\u0445\\u0438\\u0432\\u0430, \\u0445\\u0440\\u0430\\u043d\\u044f\\u0449\\u0435\\u0433\\u043e\\u0441\\u044f \\u0432 \\u041e\\u0442\\u0434\\u0435\\u043b\\u0435 \\u0440\\u0443\\u043a\\u043e\\u043f\\u0438\\u0441\\u0435\\u0439 \\u0420\\u041d\\u0411, \\u0438\\u0437 \\u0444\\u043e\\u043d\\u0434\\u043e\\u0432 \\u041c\\u0443\\u0437\\u0435\\u044f \\u0410\\u043d\\u043d\\u044b \\u0410\\u0445\\u043c\\u0430\\u0442\\u043e\\u0432\\u043e\\u0439 \\u0432 \\u0424\\u043e\\u043d\\u0442\\u0430\\u043d\\u043d\\u043e\\u043c \\u0434\\u043e\\u043c\\u0435, \\u0438\\u0437 \\u0447\\u0430\\u0441\\u0442\\u043d\\u044b\\u0445 \\u0430\\u0440\\u0445\\u0438\\u0432\\u043e\\u0432 \\u0438 \\u0441\\u043e\\u0431\\u0440\\u0430\\u043d\\u0438\\u0439.\\n\\n\\u0420\\u0438\\u0441\\u0443\\u043d\\u043a\\u0438 \\u043e\\u0442\\u0440\\u0430\\u0436\\u0430\\u044e\\u0442 \\u0435\\u0449\\u0451 \\u043e\\u0434\\u043d\\u0443 \\u0433\\u0440\\u0430\\u043d\\u044c \\u0442\\u0430\\u043b\\u0430\\u043d\\u0442\\u0430 \\u0418\\u043e\\u0441\\u0438\\u0444\\u0430 \\u0411\\u0440\\u043e\\u0434\\u0441\\u043a\\u043e\\u0433\\u043e \\u0438 \\u044f\\u0432\\u043b\\u044f\\u044e\\u0442\\u0441\\u044f \\u0432\\u0430\\u0436\\u043d\\u044b\\u043c \\u0438\\u0441\\u0442\\u043e\\u0447\\u043d\\u0438\\u043a\\u043e\\u043c \\u0434\\u043b\\u044f \\u0438\\u0437\\u0443\\u0447\\u0435\\u043d\\u0438\\u044f \\u0435\\u0433\\u043e \\u0436\\u0438\\u0437\\u043d\\u0438 \\u0438 \\u0442\\u0432\\u043e\\u0440\\u0447\\u0435\\u0441\\u0442\\u0432\\u0430. \\u041a\\u0440\\u043e\\u043c\\u0435 \\u0440\\u0438\\u0441\\u0443\\u043d\\u043a\\u043e\\u0432, \\u043d\\u0430 \\u044d\\u043a\\u0441\\u043f\\u043e\\u0437\\u0438\\u0446\\u0438\\u0438 \\u0432\\u044b\\u0441\\u0442\\u0430\\u0432\\u043b\\u0435\\u043d\\u044b \\u0430\\u0432\\u0442\\u043e\\u0433\\u0440\\u0430\\u0444\\u044b \\u0441\\u0442\\u0438\\u0445\\u043e\\u0442\\u0432\\u043e\\u0440\\u043d\\u044b\\u0445 \\u0438 \\u043f\\u0440\\u043e\\u0437\\u0430\\u0438\\u0447\\u0435\\u0441\\u043a\\u0438\\u0445 \\u043f\\u0440\\u043e\\u0438\\u0437\\u0432\\u0435\\u0434\\u0435\\u043d\\u0438\\u0439 \\u0411\\u0440\\u043e\\u0434\\u0441\\u043a\\u043e\\u0433\\u043e, \\u0441\\u0442\\u0440\\u0430\\u043d\\u0438\\u0446\\u044b \\u0434\\u043d\\u0435\\u0432\\u043d\\u0438\\u043a\\u043e\\u0432\\u044b\\u0445 \\u0437\\u0430\\u043f\\u0438\\u0441\\u0435\\u0439, \\u0444\\u0440\\u0430\\u0433\\u043c\\u0435\\u043d\\u0442\\u044b \\u043f\\u0438\\u0441\\u0435\\u043c, \\u0444\\u043e\\u0442\\u043e\\u0433\\u0440\\u0430\\u0444\\u0438\\u0438 \\u043f\\u043e\\u044d\\u0442\\u0430 \\u0438 \\u043f\\u0435\\u0447\\u0430\\u0442\\u043d\\u044b\\u0435 \\u0438\\u0437\\u0434\\u0430\\u043d\\u0438\\u044f \\u0435\\u0433\\u043e \\u043f\\u0440\\u043e\\u0438\\u0437\\u0432\\u0435\\u0434\\u0435\\u043d\\u0438\\u0439 \\u043d\\u0430 \\u0440\\u0443\\u0441\\u0441\\u043a\\u043e\\u043c, \\u0430\\u043d\\u0433\\u043b\\u0438\\u0439\\u0441\\u043a\\u043e\\u043c \\u0438 \\u0434\\u0440\\u0443\\u0433\\u0438\\u0445 \\u044f\\u0437\\u044b\\u043a\\u0430\\u0445.\\n\",\n          \"\\u0412\\u0430\\u0445\\u0442\\u0443 \\u043f\\u0440\\u0438\\u043d\\u044f\\u043b\\n\\n\\u0423\\u043e\\u0440\\u0440\\u0435\\u043d \\u0411\\u0430\\u0444\\u0444\\u0435\\u0442 \\u043d\\u0430\\u0437\\u0432\\u0430\\u043b \\u0441\\u0432\\u043e\\u0435\\u0433\\u043e \\u043f\\u043e\\u0442\\u0435\\u043d\\u0446\\u0438\\u0430\\u043b\\u044c\\u043d\\u043e\\u0433\\u043e \\u043f\\u0440\\u0435\\u0435\\u043c\\u043d\\u0438\\u043a\\u0430\\n\\n\\u041c\\u0438\\u043b\\u043b\\u0438\\u0430\\u0440\\u0434\\u0435\\u0440 \\u0423\\u043e\\u0440\\u0440\\u0435\\u043d \\u0411\\u0430\\u0444\\u0444\\u0435\\u0442, \\u043f\\u043e\\u0445\\u043e\\u0436\\u0435, \\u043d\\u0430\\u0447\\u0430\\u043b \\u0440\\u0430\\u0437\\u0434\\u0430\\u0432\\u0430\\u0442\\u044c \\u043f\\u043e\\u0441\\u0442\\u044b \\u0432 \\u043a\\u043e\\u043c\\u0430\\u043d\\u0434\\u0435, \\u043a\\u043e\\u0442\\u043e\\u0440\\u0430\\u044f \\u043f\\u0440\\u0438\\u043c\\u0435\\u0442 \\u0431\\u0440\\u0430\\u0437\\u0434\\u044b \\u043f\\u0440\\u0430\\u0432\\u043b\\u0435\\u043d\\u0438\\u044f \\u0432 \\u0441\\u043e\\u0437\\u0434\\u0430\\u043d\\u043d\\u043e\\u0439 \\u0438\\u043c \\u0434\\u0435\\u043b\\u043e\\u0432\\u043e\\u0439 \\u0438\\u043c\\u043f\\u0435\\u0440\\u0438\\u0438. 25 \\u043e\\u043a\\u0442\\u044f\\u0431\\u0440\\u044f \\u043e\\u043d \\u043e\\u0431\\u044a\\u044f\\u0432\\u0438\\u043b \\u043e \\u0442\\u043e\\u043c, \\u0447\\u0442\\u043e \\u0443\\u043f\\u0440\\u0430\\u0432\\u043b\\u044f\\u044e\\u0449\\u0438\\u0439 \\u043d\\u0435\\u0431\\u043e\\u043b\\u044c\\u0448\\u043e\\u0433\\u043e \\u0444\\u043e\\u043d\\u0434\\u0430 \\u0432 \\u041a\\u043e\\u043d\\u043d\\u0435\\u043a\\u0442\\u0438\\u043a\\u0443\\u0442\\u0435 \\u0422\\u043e\\u0434\\u0434 \\u041a\\u043e\\u0443\\u043c\\u0441 (Todd Combs) \\u0441\\u0442\\u0430\\u043d\\u0435\\u0442 \\u0438\\u043d\\u0432\\u0435\\u0441\\u0442\\u0438\\u0446\\u0438\\u043e\\u043d\\u043d\\u044b\\u043c \\u043c\\u0435\\u043d\\u0435\\u0434\\u0436\\u0435\\u0440\\u043e\\u043c \\u043a\\u043e\\u043c\\u043f\\u0430\\u043d\\u0438\\u0438 Berkshire Hathaway, \\u043f\\u0440\\u0438\\u0447\\u0435\\u043c \\u043f\\u043e\\u0434 \\u0435\\u0433\\u043e \\u0440\\u0443\\u043a\\u043e\\u0432\\u043e\\u0434\\u0441\\u0442\\u0432\\u043e \\u0431\\u0443\\u0434\\u0435\\u0442 \\u043e\\u0442\\u0434\\u0430\\u043d\\u0430 \\\"\\u0437\\u043d\\u0430\\u0447\\u0438\\u0442\\u0435\\u043b\\u044c\\u043d\\u0430\\u044f \\u0447\\u0430\\u0441\\u0442\\u044c\\\" \\u0430\\u043a\\u0442\\u0438\\u0432\\u043e\\u0432 \\u043a\\u043e\\u043c\\u043f\\u0430\\u043d\\u0438\\u0438.\\n\\n\\u041a\\u043e\\u043d\\u043a\\u0440\\u0435\\u0442\\u043d\\u044b\\u0435 \\u0446\\u0438\\u0444\\u0440\\u044b \\u0423\\u043e\\u0440\\u0440\\u0435\\u043d \\u0411\\u0430\\u0444\\u0444\\u0435\\u0442 \\u043d\\u0435 \\u043d\\u0430\\u0437\\u0432\\u0430\\u043b, \\u043e\\u0434\\u043d\\u0430\\u043a\\u043e \\u043d\\u0435 \\u0434\\u043e\\u0432\\u0435\\u0440\\u044f\\u0442\\u044c \\u0435\\u043c\\u0443, \\u043a\\u043e\\u0433\\u0434\\u0430 \\u0440\\u0435\\u0447\\u044c \\u0438\\u0434\\u0435\\u0442 \\u043e \\u0441\\u0442\\u043e\\u043b\\u044c \\u0437\\u043d\\u0430\\u0447\\u0438\\u043c\\u043e\\u043c \\u043d\\u0430\\u0437\\u043d\\u0430\\u0447\\u0435\\u043d\\u0438\\u0438, \\u043d\\u0435\\u0442 \\u043d\\u0438\\u043a\\u0430\\u043a\\u0438\\u0445 \\u043e\\u0441\\u043d\\u043e\\u0432\\u0430\\u043d\\u0438\\u0439. \\u0422\\u0435\\u043c \\u0431\\u043e\\u043b\\u0435\\u0435 \\u0443\\u0434\\u0438\\u0432\\u0438\\u0442\\u0435\\u043b\\u044c\\u043d\\u044b\\u043c \\u043a\\u0430\\u0436\\u0435\\u0442\\u0441\\u044f \\u044d\\u0442\\u0430 \\u043f\\u0435\\u0440\\u0435\\u0441\\u0442\\u0430\\u043d\\u043e\\u0432\\u043a\\u0430. \\u0414\\u0435\\u043b\\u043e \\u0432 \\u0442\\u043e\\u043c, \\u0447\\u0442\\u043e 39-\\u043b\\u0435\\u0442\\u043d\\u0438\\u0439 \\u041a\\u043e\\u0443\\u043c\\u0441 \\u0432\\u043e\\u0432\\u0441\\u0435 \\u043d\\u0435 \\u044f\\u0432\\u043b\\u044f\\u0435\\u0442\\u0441\\u044f \\\"\\u0430\\u043a\\u0443\\u043b\\u043e\\u0439\\\" \\u0423\\u043e\\u043b\\u043b-\\u0421\\u0442\\u0440\\u0438\\u0442. \\u0414\\u043e \\u0441\\u0435\\u0433\\u043e \\u043c\\u043e\\u043c\\u0435\\u043d\\u0442\\u0430 \\u043e\\u043d \\u0432\\u0441\\u0435\\u0433\\u043e \\u043b\\u0438\\u0448\\u044c \\u0443\\u043f\\u0440\\u0430\\u0432\\u043b\\u044f\\u043b \\u0444\\u043e\\u043d\\u0434\\u043e\\u043c Castle Point Capital \\u0432 \\u0433\\u043e\\u0440\\u043e\\u0434\\u043a\\u0435 \\u0413\\u0440\\u0438\\u043d\\u0432\\u0438\\u0447. \\u041f\\u043e\\u0434 \\u0435\\u0433\\u043e \\u043e\\u0442\\u0432\\u0435\\u0442\\u0441\\u0442\\u0432\\u0435\\u043d\\u043d\\u043e\\u0441\\u0442\\u044c\\u044e \\u043d\\u0430\\u0445\\u043e\\u0434\\u0438\\u043b\\u043e\\u0441\\u044c \\\"\\u0432\\u0441\\u0435\\u0433\\u043e\\\" 400 \\u043c\\u0438\\u043b\\u043b\\u0438\\u043e\\u043d\\u043e\\u0432 \\u0434\\u043e\\u043b\\u043b\\u0430\\u0440\\u043e\\u0432 - \\u043f\\u0440\\u0430\\u043a\\u0442\\u0438\\u0447\\u0435\\u0441\\u043a\\u0438 \\u043d\\u0438\\u0447\\u0442\\u043e \\u0432 \\u0441\\u0440\\u0430\\u0432\\u043d\\u0435\\u043d\\u0438\\u0438 \\u0441 \\u043c\\u043d\\u043e\\u0433\\u043e\\u043c\\u0438\\u043b\\u043b\\u0438\\u0430\\u0440\\u0434\\u043d\\u044b\\u043c\\u0438 \\u0438\\u043d\\u0432\\u0435\\u0441\\u0442\\u0438\\u0446\\u0438\\u044f\\u043c\\u0438 Berkshire Hathaway.\\n\\n\\u0422\\u0430\\u043a, \\u0431\\u0438\\u043e\\u0433\\u0440\\u0430\\u0444 \\u0411\\u0430\\u0444\\u0444\\u0435\\u0442\\u0430 \\u042d\\u043d\\u0434\\u0438 \\u041a\\u0438\\u043b\\u043f\\u0430\\u0442\\u0440\\u0438\\u043a \\u0437\\u0430\\u044f\\u0432\\u0438\\u043b, \\u0447\\u0442\\u043e \\u043d\\u0438\\u0447\\u0435\\u0433\\u043e \\u043d\\u0435 \\u0437\\u043d\\u0430\\u0435\\u0442 \\u043e\\u0431 \\u044d\\u0442\\u043e\\u043c \\u0447\\u0435\\u043b\\u043e\\u0432\\u0435\\u043a\\u0435. \\\"\\u042d\\u0442\\u043e, \\u043a\\u043e\\u043d\\u0435\\u0447\\u043d\\u043e, \\u043d\\u0435 \\u0437\\u043d\\u0430\\u0447\\u0438\\u0442, \\u0447\\u0442\\u043e \\u043e\\u043d \\u043d\\u0435 \\u0431\\u043b\\u0435\\u0441\\u0442\\u044f\\u0449\\\", - \\u0434\\u043e\\u0431\\u0430\\u0432\\u0438\\u043b \\u041a\\u0438\\u043b\\u043f\\u0430\\u0442\\u0440\\u0438\\u043a, \\u043d\\u043e \\u043d\\u0435\\u043e\\u0441\\u0432\\u0435\\u0434\\u043e\\u043c\\u043b\\u0435\\u043d\\u043d\\u043e\\u0441\\u0442\\u044c \\u0441\\u0442\\u043e\\u043b\\u044c \\u0441\\u0432\\u0435\\u0434\\u0443\\u0449\\u0435\\u0433\\u043e \\u043e \\u0434\\u0435\\u043b\\u0430\\u0445 \\u043c\\u0438\\u043b\\u043b\\u0438\\u0430\\u0440\\u0434\\u0435\\u0440\\u0430 \\u0441\\u043f\\u0435\\u0446\\u0438\\u0430\\u043b\\u0438\\u0441\\u0442\\u0430 \\u0433\\u043e\\u0432\\u043e\\u0440\\u0438\\u0442 \\u043e \\u0442\\u043e\\u043c, \\u0447\\u0442\\u043e \\u044d\\u0442\\u043e \\u0440\\u0435\\u0448\\u0435\\u043d\\u0438\\u0435 \\u0440\\u043e\\u0436\\u0434\\u0430\\u043b\\u043e\\u0441\\u044c \\u0432 \\u043e\\u0431\\u0441\\u0442\\u0430\\u043d\\u043e\\u0432\\u043a\\u0435 \\u043f\\u043e\\u043b\\u043d\\u043e\\u0439 \\u0441\\u0435\\u043a\\u0440\\u0435\\u0442\\u043d\\u043e\\u0441\\u0442\\u0438.\\n\\n\\u0421\\u0430\\u043c \\u0411\\u0430\\u0444\\u0444\\u0435\\u0442 \\u043d\\u0435 \\u0441\\u043a\\u0440\\u044b\\u0432\\u0430\\u0435\\u0442 \\u0441\\u0432\\u043e\\u0435\\u0433\\u043e \\u0443\\u0434\\u043e\\u0432\\u043e\\u043b\\u044c\\u0441\\u0442\\u0432\\u0438\\u044f \\u043e\\u0442 \\u043d\\u043e\\u0432\\u043e\\u0433\\u043e \\u043d\\u0430\\u0437\\u043d\\u0430\\u0447\\u0435\\u043d\\u0438\\u044f. \\\"\\u0421\\u043f\\u0435\\u0446\\u0438\\u0430\\u043b\\u0438\\u0441\\u0442\\u0430 \\u0442\\u0430\\u043a\\u043e\\u0433\\u043e \\u043a\\u0430\\u043b\\u0438\\u0431\\u0440\\u0430, \\u043a\\u0430\\u043a \\u0422\\u043e\\u0434\\u0434, \\u043c\\u044b \\u0438\\u0441\\u043a\\u0430\\u043b\\u0438 \\u0432 \\u0442\\u0435\\u0447\\u0435\\u043d\\u0438\\u0435 \\u0442\\u0440\\u0435\\u0445 \\u043b\\u0435\\u0442, - \\u0437\\u0430\\u044f\\u0432\\u0438\\u043b \\u043e\\u043d. - \\u041c\\u044b \\u0432 \\u0432\\u043e\\u0441\\u0442\\u043e\\u0440\\u0433\\u0435 \\u043e\\u0442 \\u0442\\u043e\\u0433\\u043e, \\u0447\\u0442\\u043e \\u043e\\u043d \\u043f\\u0440\\u0438\\u0441\\u043e\\u0435\\u0434\\u0438\\u043d\\u0438\\u043b\\u0441\\u044f \\u043a \\u043d\\u0430\\u043c\\\".\\n\\n\\u0422\\u043e\\u0434\\u0434 \\u041a\\u043e\\u0443\\u043c\\u0441 \\u0440\\u043e\\u0434\\u0438\\u043b\\u0441\\u044f \\u0438 \\u0432\\u044b\\u0440\\u043e\\u0441 \\u0432\\u043e \\u0424\\u043b\\u043e\\u0440\\u0438\\u0434\\u0435. \\u041e\\u0434\\u043d\\u0430\\u043a\\u043e \\u0441\\u0432\\u043e\\u044e \\u0441\\u043f\\u0435\\u0446\\u0438\\u0430\\u043b\\u0438\\u0437\\u0430\\u0446\\u0438\\u044e \\u043e\\u043d \\u043f\\u043e\\u043b\\u0443\\u0447\\u0438\\u043b \\u0432 \\u041a\\u043e\\u043b\\u0443\\u043c\\u0431\\u0438\\u0439\\u0441\\u043a\\u043e\\u0439 \\u0431\\u0438\\u0437\\u043d\\u0435\\u0441-\\u0448\\u043a\\u043e\\u043b\\u0435 \\u0432 \\u041d\\u044c\\u044e-\\u0419\\u043e\\u0440\\u043a\\u0435, \\u043a\\u043e\\u0442\\u043e\\u0440\\u0430\\u044f \\u043e\\u0434\\u043d\\u043e\\u0432\\u0440\\u0435\\u043c\\u0435\\u043d\\u043d\\u043e \\u044f\\u0432\\u043b\\u044f\\u0435\\u0442\\u0441\\u044f \\u0430\\u043b\\u044c\\u043c\\u0430-\\u043c\\u0430\\u0442\\u0435\\u0440 \\u0441\\u0430\\u043c\\u043e\\u0433\\u043e \\u0423\\u043e\\u0440\\u0440\\u0435\\u043d\\u0430 \\u0411\\u0430\\u0444\\u0444\\u0435\\u0442\\u0430. \\u0412 2006 \\u0433\\u043e\\u0434\\u0443 \\u041a\\u043e\\u0443\\u043c\\u0441 \\u043e\\u0441\\u043d\\u043e\\u0432\\u0430\\u043b \\u0444\\u043e\\u043d\\u0434 Castle Point, \\u0437\\u0430\\u0440\\u0443\\u0447\\u0438\\u0432\\u0448\\u0438\\u0441\\u044c \\u043f\\u043e\\u0434\\u0434\\u0435\\u0440\\u0436\\u043a\\u043e\\u0439 \\u0443 \\u0431\\u044b\\u0432\\u0448\\u0435\\u0433\\u043e \\u0442\\u043e\\u043f-\\u043c\\u0435\\u043d\\u0435\\u0434\\u0436\\u0435\\u0440\\u0430 \\u0431\\u0430\\u043d\\u043a\\u0430 Goldman Sachs \\u0421\\u0442\\u0438\\u0432\\u0435\\u043d\\u0430 \\u0424\\u0440\\u0438\\u0434\\u043c\\u0430\\u043d\\u0430.\\n\\n\\u0424\\u043e\\u043d\\u0434 \\u041a\\u043e\\u0443\\u043c\\u0441\\u0430 \\u0441\\u043f\\u0435\\u0446\\u0438\\u0430\\u043b\\u0438\\u0437\\u0438\\u0440\\u0443\\u0435\\u0442\\u0441\\u044f \\u043d\\u0430 \\u0432\\u043b\\u043e\\u0436\\u0435\\u043d\\u0438\\u044f\\u0445 \\u0432 \\u0430\\u043c\\u0435\\u0440\\u0438\\u043a\\u0430\\u043d\\u0441\\u043a\\u0438\\u0435 \\u0444\\u0438\\u043d\\u0430\\u043d\\u0441\\u043e\\u0432\\u044b\\u0435 \\u043e\\u0440\\u0433\\u0430\\u043d\\u0438\\u0437\\u0430\\u0446\\u0438\\u0438. \\u041d\\u0435\\u0441\\u043c\\u043e\\u0442\\u0440\\u044f \\u043d\\u0430 \\u0441\\u043e\\u043a\\u0440\\u0443\\u0448\\u0438\\u0442\\u0435\\u043b\\u044c\\u043d\\u044b\\u0439 \\u0434\\u043b\\u044f \\u0432\\u0441\\u0435\\u0433\\u043e \\u0444\\u0438\\u043d\\u0430\\u043d\\u0441\\u043e\\u0432\\u043e\\u0433\\u043e \\u0441\\u0435\\u043a\\u0442\\u043e\\u0440\\u0430 \\u0421\\u0428\\u0410 \\u043a\\u0440\\u0438\\u0437\\u0438\\u0441 2007-2009 \\u0433\\u043e\\u0434\\u043e\\u0432, \\u0444\\u043e\\u043d\\u0434 \\u043e\\u0441\\u0442\\u0430\\u043b\\u0441\\u044f \\u043d\\u0430 \\u043f\\u043b\\u0430\\u0432\\u0443, \\u0438\\u043d\\u0432\\u0435\\u0441\\u0442\\u0438\\u0440\\u0443\\u044f \\u0432 U.S. Bancorp, MasterCard, Western Union \\u0438 Chubb Corp. \\u042d\\u0442\\u0438 \\u043a\\u043e\\u043c\\u043f\\u0430\\u043d\\u0438\\u0438 \\u043f\\u0435\\u0440\\u0435\\u0436\\u0438\\u043b\\u0438 \\u043a\\u0440\\u0438\\u0437\\u0438\\u0441 \\u043b\\u0435\\u0433\\u0447\\u0435, \\u0447\\u0435\\u043c \\u0438\\u0445 \\u043a\\u043e\\u043d\\u043a\\u0443\\u0440\\u0435\\u043d\\u0442\\u044b \\u0438 \\u043f\\u0430\\u0440\\u0442\\u043d\\u0435\\u0440\\u044b.\\n\\n\\u0411\\u0430\\u0444\\u0444\\u0435\\u0442 \\u043f\\u043e\\u0437\\u043d\\u0430\\u043a\\u043e\\u043c\\u0438\\u043b\\u0441\\u044f \\u0441 \\u041a\\u043e\\u0443\\u043c\\u0441\\u043e\\u043c \\u043f\\u0440\\u0438 \\u043f\\u043e\\u043c\\u043e\\u0449\\u0438 \\u0441\\u0432\\u043e\\u0435\\u0433\\u043e \\u0437\\u0430\\u043c\\u0435\\u0441\\u0442\\u0438\\u0442\\u0435\\u043b\\u044f \\u0421\\u0442\\u0438\\u0432\\u0435\\u043d\\u0430 \\u041c\\u0430\\u043d\\u0433\\u0435\\u0440\\u0430. \\u0417\\u0430 \\u043c\\u043e\\u043b\\u043e\\u0434\\u044b\\u043c (\\u0441\\u0440\\u0430\\u0432\\u043d\\u0438\\u0442\\u0435\\u043b\\u044c\\u043d\\u043e) \\u0447\\u0435\\u043b\\u043e\\u0432\\u0435\\u043a\\u043e\\u043c \\u0441\\u043b\\u0435\\u0434\\u0438\\u043b\\u0438 \\u0432 \\u0442\\u0435\\u0447\\u0435\\u043d\\u0438\\u0435 \\u043d\\u0435\\u0441\\u043a\\u043e\\u043b\\u044c\\u043a\\u0438\\u0445 \\u043b\\u0435\\u0442 \\u0438 \\u0432 \\u043a\\u043e\\u043d\\u0446\\u0435 \\u043a\\u043e\\u043d\\u0446\\u043e\\u0432 \\u043f\\u0440\\u0438\\u0448\\u043b\\u0438 \\u043a \\u0432\\u044b\\u0432\\u043e\\u0434\\u0443, \\u0447\\u0442\\u043e \\u043b\\u0443\\u0447\\u0448\\u0435\\u0439 \\u043a\\u0430\\u043d\\u0434\\u0438\\u0434\\u0430\\u0442\\u0443\\u0440\\u044b \\u043d\\u0430 \\u043f\\u043e\\u0441\\u0442 \\u0443\\u043f\\u0440\\u0430\\u0432\\u043b\\u044f\\u044e\\u0449\\u0435\\u0433\\u043e \\u0430\\u043a\\u0442\\u0438\\u0432\\u0430\\u043c\\u0438 \\u043d\\u0435 \\u043d\\u0430\\u0439\\u0442\\u0438.\\n\\n\\u0424\\u0435\\u0440\\u043c\\u0435\\u0440 \\u0438 \\u0441\\u0442\\u0443\\u0434\\u0435\\u043d\\u0447\\u0435\\u0441\\u043a\\u0438\\u0439 \\u0432\\u043e\\u0436\\u0430\\u043a\\n\\n\\u0425\\u043e\\u0442\\u044f 80-\\u043b\\u0435\\u0442\\u043d\\u0438\\u0439 \\u0411\\u0430\\u0444\\u0444\\u0435\\u0442 \\u043f\\u043e\\u043a\\u0430 \\u043e\\u0442\\u0445\\u043e\\u0434\\u0438\\u0442\\u044c \\u043e\\u0442 \\u0434\\u0435\\u043b \\u043d\\u0435 \\u0441\\u043e\\u0431\\u0438\\u0440\\u0430\\u0435\\u0442\\u0441\\u044f (\\u043f\\u043e \\u0435\\u0433\\u043e \\u0441\\u043b\\u043e\\u0432\\u0430\\u043c, \\u043e\\u043d \\u043d\\u0435 \\u0436\\u0430\\u043b\\u0443\\u0435\\u0442\\u0441\\u044f \\u043d\\u0430 \\u0437\\u0434\\u043e\\u0440\\u043e\\u0432\\u044c\\u0435 \\u0438 \\u0432\\u0441\\u0435 \\u0435\\u0449\\u0435 \\u043e\\u0431\\u043e\\u0436\\u0430\\u0435\\u0442 \\u0441\\u0432\\u043e\\u044e \\u0440\\u0430\\u0431\\u043e\\u0442\\u0443), \\u0432 \\u0442\\u0430\\u043a\\u043e\\u043c \\u0432\\u043e\\u0437\\u0440\\u0430\\u0441\\u0442\\u0435 \\u043f\\u043e\\u0440\\u0430 \\u043f\\u043e\\u0434\\u0431\\u0438\\u0440\\u0430\\u0442\\u044c \\u0441\\u0435\\u0431\\u0435 \\u0434\\u043e\\u0441\\u0442\\u043e\\u0439\\u043d\\u044b\\u0445 \\u043f\\u0440\\u0435\\u0435\\u043c\\u043d\\u0438\\u043a\\u043e\\u0432, \\u0447\\u0442\\u043e \\u0411\\u0430\\u0444\\u0444\\u0435\\u0442 \\u0438 \\u043d\\u0430\\u0447\\u0430\\u043b \\u0434\\u0435\\u043b\\u0430\\u0442\\u044c \\u0441 2006 \\u0433\\u043e\\u0434\\u0430. \\u0422\\u0430\\u043a\\u043e\\u0439 \\u043e\\u0441\\u043d\\u043e\\u0432\\u0430\\u0442\\u0435\\u043b\\u044c\\u043d\\u044b\\u0439 \\u0447\\u0435\\u043b\\u043e\\u0432\\u0435\\u043a \\u0435\\u0434\\u0432\\u0430 \\u043b\\u0438 \\u0431\\u0443\\u0434\\u0435\\u0442 \\u043f\\u0438\\u0441\\u0430\\u0442\\u044c \\u0437\\u0430\\u0432\\u0435\\u0449\\u0430\\u043d\\u0438\\u0435 \\u0432 \\u043f\\u043e\\u0441\\u043b\\u0435\\u0434\\u043d\\u0438\\u0439 \\u043c\\u043e\\u043c\\u0435\\u043d\\u0442. \\u0422\\u043e\\u0434\\u0434 \\u041a\\u043e\\u0443\\u043c\\u0441 \\u0441\\u0442\\u0430\\u043b \\u043b\\u0438\\u0448\\u044c \\u043e\\u0447\\u0435\\u0440\\u0435\\u0434\\u043d\\u044b\\u043c \\u043a\\u0430\\u043d\\u0434\\u0438\\u0434\\u0430\\u0442\\u043e\\u043c \\u0432 \\u043a\\u043e\\u043c\\u0430\\u043d\\u0434\\u0443, \\u043a\\u043e\\u0442\\u043e\\u0440\\u0430\\u044f \\u0431\\u0443\\u0434\\u0435\\u0442 \\u0443\\u043f\\u0440\\u0430\\u0432\\u043b\\u044f\\u0442\\u044c \\u0434\\u0435\\u043b\\u0430\\u043c\\u0438 \\u043c\\u0438\\u043b\\u043b\\u0438\\u0430\\u0440\\u0434\\u0435\\u0440\\u0430 \\u043f\\u043e\\u0441\\u043b\\u0435 \\u0435\\u0433\\u043e \\u0443\\u0445\\u043e\\u0434\\u0430 \\u043d\\u0430 \\u043e\\u0442\\u0434\\u044b\\u0445 \\u0438\\u043b\\u0438 \\u043a\\u043e\\u043d\\u0447\\u0438\\u043d\\u044b.\\n\\n\\u0411\\u0430\\u0444\\u0444\\u0435\\u0442 \\u0441\\u043e\\u0431\\u0438\\u0440\\u0430\\u0435\\u0442\\u0441\\u044f \\u0440\\u0430\\u0437\\u0434\\u0435\\u043b\\u0438\\u0442\\u044c \\u043e\\u0442\\u0432\\u0435\\u0442\\u0441\\u0442\\u0432\\u0435\\u043d\\u043d\\u043e\\u0441\\u0442\\u044c \\u0437\\u0430 \\u0443\\u043f\\u0440\\u0430\\u0432\\u043b\\u0435\\u043d\\u0438\\u0435 \\u043a\\u043e\\u043c\\u043f\\u0430\\u043d\\u0438\\u0435\\u0439 \\u0441\\u0440\\u0435\\u0434\\u0438 \\u043d\\u0435\\u0441\\u043a\\u043e\\u043b\\u044c\\u043a\\u0438\\u0445 \\u0447\\u0435\\u043b\\u043e\\u0432\\u0435\\u043a, \\u043a\\u0430\\u0436\\u0434\\u044b\\u0439 \\u0438\\u0437 \\u043a\\u043e\\u0442\\u043e\\u0440\\u044b\\u0445 \\u0437\\u0430\\u0439\\u043c\\u0435\\u0442 \\u043e\\u0434\\u043d\\u0443 \\u0438\\u0437 \\u043a\\u043b\\u044e\\u0447\\u0435\\u0432\\u044b\\u0445 \\u043f\\u043e\\u0437\\u0438\\u0446\\u0438\\u0439. \\u0420\\u0435\\u0447\\u044c \\u0438\\u0434\\u0435\\u0442 \\u043e \\u043f\\u0440\\u0435\\u0437\\u0438\\u0434\\u0435\\u043d\\u0442\\u0435 Berkshire, \\u0434\\u0438\\u0440\\u0435\\u043a\\u0442\\u043e\\u0440\\u0435 \\u043f\\u043e \\u0443\\u043f\\u0440\\u0430\\u0432\\u043b\\u0435\\u043d\\u0438\\u044e \\u0431\\u043e\\u043b\\u0435\\u0435 \\u0447\\u0435\\u043c 70 \\u043a\\u043e\\u043c\\u043f\\u0430\\u043d\\u0438\\u044f\\u043c\\u0438, \\u0432\\u0445\\u043e\\u0434\\u044f\\u0449\\u0438\\u043c\\u0438 \\u0432 \\u0445\\u043e\\u043b\\u0434\\u0438\\u043d\\u0433, \\u0430 \\u0442\\u0430\\u043a\\u0436\\u0435 \\u043d\\u0435\\u0441\\u043a\\u043e\\u043b\\u044c\\u043a\\u0438\\u0445 \\u0438\\u043d\\u0432\\u0435\\u0441\\u0442\\u0438\\u0446\\u0438\\u043e\\u043d\\u043d\\u044b\\u0445 \\u043c\\u0435\\u043d\\u0435\\u0434\\u0436\\u0435\\u0440\\u0430\\u0445.\\n\\n\\u041f\\u0440\\u0435\\u0437\\u0438\\u0434\\u0435\\u043d\\u0442\\u043e\\u043c, \\u043f\\u043e \\u0432\\u0441\\u0435\\u0439 \\u0432\\u0435\\u0440\\u043e\\u044f\\u0442\\u043d\\u043e\\u0441\\u0442\\u0438, \\u0441\\u0442\\u0430\\u043d\\u0435\\u0442 \\u0441\\u0442\\u0430\\u0440\\u0448\\u0438\\u0439 \\u0441\\u044b\\u043d \\u0411\\u0430\\u0444\\u0444\\u0435\\u0442\\u0430 \\u0413\\u043e\\u0432\\u0430\\u0440\\u0434. \\u041e\\u043d \\u0438\\u0437\\u0432\\u0435\\u0441\\u0442\\u0435\\u043d \\u0432 \\u043f\\u0435\\u0440\\u0432\\u0443\\u044e \\u043e\\u0447\\u0435\\u0440\\u0435\\u0434\\u044c \\u0442\\u0435\\u043c, \\u0447\\u0442\\u043e \\u044f\\u0432\\u043b\\u044f\\u0435\\u0442\\u0441\\u044f \\u0441\\u043f\\u0435\\u0446\\u0438\\u0430\\u043b\\u0438\\u0441\\u0442\\u043e\\u043c \\u043f\\u043e \\u0441\\u0435\\u043b\\u044c\\u0441\\u043a\\u043e\\u043c\\u0443 \\u0445\\u043e\\u0437\\u044f\\u0439\\u0441\\u0442\\u0432\\u0443 \\u0438 \\u043b\\u0438\\u0447\\u043d\\u043e \\u0440\\u0443\\u043a\\u043e\\u0432\\u043e\\u0434\\u0438\\u0442 \\u0441\\u0432\\u043e\\u0435\\u0439 \\u043e\\u0433\\u0440\\u043e\\u043c\\u043d\\u043e\\u0439 \\u0444\\u0435\\u0440\\u043c\\u043e\\u0439 \\u0432 \\u0418\\u043b\\u043b\\u0438\\u043d\\u043e\\u0439\\u0441\\u0435. \\u041a\\u0440\\u043e\\u043c\\u0435 \\u0442\\u043e\\u0433\\u043e, \\u043d\\u0430 \\u043d\\u0435\\u043c \\u043b\\u0435\\u0436\\u0438\\u0442 \\u043e\\u0442\\u0432\\u0435\\u0442\\u0441\\u0442\\u0432\\u0435\\u043d\\u043d\\u043e\\u0441\\u0442\\u044c \\u043f\\u043e \\u0443\\u043f\\u0440\\u0430\\u0432\\u043b\\u0435\\u043d\\u0438\\u044e \\u0432\\u0441\\u0435\\u043c\\u0438 \\u0441\\u0435\\u043b\\u044c\\u0441\\u043a\\u043e\\u0445\\u043e\\u0437\\u044f\\u0439\\u0441\\u0442\\u0432\\u0435\\u043d\\u043d\\u044b\\u043c\\u0438 \\u0430\\u043a\\u0442\\u0438\\u0432\\u0430\\u043c\\u0438 Berkshire Hathaway, \\u043e\\u0431\\u044a\\u0435\\u0434\\u0438\\u043d\\u0435\\u043d\\u043d\\u044b\\u043c\\u0438 \\u0432 \\u043a\\u043e\\u043c\\u043f\\u0430\\u043d\\u0438\\u044e Buffett Farms. 56-\\u043b\\u0435\\u0442\\u043d\\u0438\\u0439 \\u0413\\u043e\\u0432\\u0430\\u0440\\u0434 \\u0411\\u0430\\u0444\\u0444\\u0435\\u0442 \\u043d\\u0430\\u043f\\u0438\\u0441\\u0430\\u043b \\u043f\\u043e\\u043b\\u0434\\u044e\\u0436\\u0438\\u043d\\u044b \\u043a\\u043d\\u0438\\u0433 \\u043f\\u043e \\u0441\\u0435\\u043b\\u044c\\u0441\\u043a\\u043e\\u043c\\u0443 \\u0445\\u043e\\u0437\\u044f\\u0439\\u0441\\u0442\\u0432\\u0443, \\u0430 \\u0442\\u0430\\u043a\\u0436\\u0435 \\u0436\\u0438\\u0432\\u043e\\u0442\\u043d\\u043e\\u043c\\u0443 \\u043c\\u0438\\u0440\\u0443.\\n\\n\\u0412 \\u0441\\u0432\\u043e\\u044e \\u043e\\u0447\\u0435\\u0440\\u0435\\u0434\\u044c, \\u0433\\u043b\\u0430\\u0432\\u043d\\u044b\\u043c \\u043f\\u0440\\u0435\\u0442\\u0435\\u043d\\u0434\\u0435\\u043d\\u0442\\u043e\\u043c \\u043d\\u0430 \\u043f\\u043e\\u0441\\u0442 \\u0434\\u0438\\u0440\\u0435\\u043a\\u0442\\u043e\\u0440\\u0430 \\u043f\\u043e \\u043f\\u0440\\u043e\\u0438\\u0437\\u0432\\u043e\\u0434\\u0441\\u0442\\u0432\\u0435\\u043d\\u043d\\u044b\\u043c \\u0430\\u043a\\u0442\\u0438\\u0432\\u0430\\u043c \\u044f\\u0432\\u043b\\u044f\\u0435\\u0442\\u0441\\u044f \\u0437\\u0435\\u043c\\u043b\\u044f\\u043a \\u0411\\u0430\\u0444\\u0444\\u0435\\u0442\\u0430 \\u0414\\u044d\\u0432\\u0438\\u0434 \\u0421\\u043e\\u043a\\u043e\\u043b. \\u0422\\u0430\\u043a\\u0436\\u0435 \\u043a\\u0430\\u043a \\u0438 \\u0441\\u0430\\u043c \\u043c\\u0438\\u043b\\u043b\\u0438\\u0430\\u0440\\u0434\\u0435\\u0440, \\u0421\\u043e\\u043a\\u043e\\u043b \\u0440\\u043e\\u0434\\u0438\\u043b\\u0441\\u044f \\u0432 \\u041e\\u043c\\u0430\\u0445\\u0435 (\\u0448\\u0442\\u0430\\u0442 \\u041d\\u0435\\u0431\\u0440\\u0430\\u0441\\u043a\\u0430). \\u0421\\u0435\\u0439\\u0447\\u0430\\u0441 \\u043e\\u043d \\u044f\\u0432\\u043b\\u044f\\u0435\\u0442\\u0441\\u044f \\u0433\\u043b\\u0430\\u0432\\u043e\\u0439 \\u043a\\u043e\\u043c\\u043f\\u0430\\u043d\\u0438\\u0438 \\u0431\\u0438\\u0437\\u043d\\u0435\\u0441-\\u0430\\u0432\\u0438\\u0430\\u0446\\u0438\\u0438 NetJets, \\u0430 \\u0442\\u0430\\u043a\\u0436\\u0435 \\u044d\\u043d\\u0435\\u0440\\u0433\\u043e\\u0445\\u043e\\u043b\\u0434\\u0438\\u043d\\u0433\\u0430 MidAmerican Energy. \\u041e\\u0431\\u0435 \\u0441\\u0442\\u0440\\u0443\\u043a\\u0442\\u0443\\u0440\\u044b \\u043f\\u043e\\u043b\\u043d\\u043e\\u0441\\u0442\\u044c\\u044e \\u043d\\u0430\\u0445\\u043e\\u0434\\u044f\\u0442\\u0441\\u044f \\u0432 \\u0441\\u043e\\u0431\\u0441\\u0442\\u0432\\u0435\\u043d\\u043d\\u043e\\u0441\\u0442\\u0438 Berkshire.\\n\\n\\u041d\\u0430\\u043a\\u043e\\u043d\\u0435\\u0446, \\u043a\\u043e\\u043c\\u043f\\u0430\\u043d\\u0438\\u044e \\u041a\\u043e\\u0443\\u043c\\u0441\\u0443 \\u0432 \\u043a\\u0430\\u0447\\u0435\\u0441\\u0442\\u0432\\u0435 \\u0438\\u043d\\u0432\\u0435\\u0441\\u0442\\u0438\\u0446\\u0438\\u043e\\u043d\\u043d\\u043e\\u0433\\u043e \\u043c\\u0435\\u043d\\u0435\\u0434\\u0436\\u0435\\u0440\\u0430 \\u0434\\u043e\\u043b\\u0436\\u0435\\u043d \\u0441\\u043e\\u0441\\u0442\\u0430\\u0432\\u0438\\u0442\\u044c \\u043a\\u0438\\u0442\\u0430\\u0435\\u0446 \\u041b\\u0438 \\u041b\\u0443. \\u041b\\u0438 - \\u043e\\u0441\\u043e\\u0431\\u043e \\u043f\\u0440\\u0438\\u043c\\u0435\\u0447\\u0430\\u0442\\u0435\\u043b\\u044c\\u043d\\u0430\\u044f \\u043b\\u0438\\u0447\\u043d\\u043e\\u0441\\u0442\\u044c. \\u0412 23 \\u0433\\u043e\\u0434\\u0430 \\u043e\\u043d \\u0441\\u0442\\u0430\\u043b \\u043e\\u0434\\u043d\\u0438\\u043c \\u0438\\u0437 \\u043e\\u0440\\u0433\\u0430\\u043d\\u0438\\u0437\\u0430\\u0442\\u043e\\u0440\\u043e\\u0432 \\u0441\\u0442\\u0443\\u0434\\u0435\\u043d\\u0447\\u0435\\u0441\\u043a\\u0438\\u0445 \\u043f\\u0440\\u043e\\u0442\\u0435\\u0441\\u0442\\u043e\\u0432 \\u043d\\u0430 \\u043f\\u043b\\u043e\\u0449\\u0430\\u0434\\u0438 \\u0422\\u044f\\u043d\\u044c\\u0430\\u043d\\u044c\\u043c\\u044d\\u043d\\u044c, \\u043a\\u043e\\u0442\\u043e\\u0440\\u044b\\u0435 \\u0431\\u044b\\u043b\\u0438 \\u043f\\u043e\\u0434\\u0430\\u0432\\u043b\\u0435\\u043d\\u044b \\u043a\\u0438\\u0442\\u0430\\u0439\\u0441\\u043a\\u0438\\u043c\\u0438 \\u0432\\u043b\\u0430\\u0441\\u0442\\u044f\\u043c\\u0438. \\u041f\\u043e\\u0441\\u043b\\u0435 \\u043d\\u0435\\u0443\\u0434\\u0430\\u0447\\u0438 \\u0434\\u0432\\u0438\\u0436\\u0435\\u043d\\u0438\\u044f \\u041b\\u0438 \\u0431\\u0435\\u0436\\u0430\\u043b \\u0432 \\u0421\\u0428\\u0410, \\u0433\\u0434\\u0435 \\u0442\\u0430\\u043a\\u0436\\u0435 \\u043f\\u043e\\u0441\\u0442\\u0443\\u043f\\u0438\\u043b \\u0432 \\u041a\\u043e\\u043b\\u0443\\u043c\\u0431\\u0438\\u0439\\u0441\\u043a\\u0443\\u044e \\u0431\\u0438\\u0437\\u043d\\u0435\\u0441-\\u0448\\u043a\\u043e\\u043b\\u0443. \\u041f\\u043e \\u0435\\u0433\\u043e \\u0441\\u043e\\u0431\\u0441\\u0442\\u0432\\u0435\\u043d\\u043d\\u044b\\u043c \\u0441\\u043b\\u043e\\u0432\\u0430\\u043c, \\u043e\\u043d \\u0440\\u0435\\u0448\\u0438\\u043b \\u043f\\u043e\\u0439\\u0442\\u0438 \\u0432 \\u0444\\u0438\\u043d\\u0430\\u043d\\u0441\\u043e\\u0432\\u044b\\u0439 \\u0441\\u0435\\u043a\\u0442\\u043e\\u0440 \\u043f\\u043e\\u0441\\u043b\\u0435 \\u043b\\u0435\\u043a\\u0446\\u0438\\u0438, \\u043a\\u043e\\u0442\\u043e\\u0440\\u0443\\u044e \\u043f\\u0440\\u043e\\u0432\\u0435\\u043b \\u0434\\u043b\\u044f \\u0441\\u0442\\u0443\\u0434\\u0435\\u043d\\u0442\\u043e\\u0432 \\u0432 1993 \\u0433\\u043e\\u0434\\u0443 \\u0411\\u0430\\u0444\\u0444\\u0435\\u0442.\\n\\n\\u0412 1997 \\u0433\\u043e\\u0434\\u0443 \\u041b\\u0438 \\u041b\\u0443 \\u0443\\u0441\\u0442\\u0440\\u043e\\u0438\\u043b\\u0441\\u044f \\u0432 \\u043e\\u0434\\u0438\\u043d \\u0438\\u0437 \\u0438\\u043d\\u0432\\u0435\\u0441\\u0442\\u0438\\u0446\\u0438\\u043e\\u043d\\u043d\\u044b\\u0445 \\u0431\\u0430\\u043d\\u043a\\u043e\\u0432, \\u0430 \\u0437\\u0430\\u0442\\u0435\\u043c \\u0441\\u043e\\u0437\\u0434\\u0430\\u043b \\u0441\\u0432\\u043e\\u0439 \\u0441\\u043e\\u0431\\u0441\\u0442\\u0432\\u0435\\u043d\\u043d\\u044b\\u0439 \\u0444\\u043e\\u043d\\u0434 - Himalaya Capital Management. \\u0424\\u043e\\u043d\\u0434 \\u043f\\u043e\\u043d\\u0435\\u0441 \\u043f\\u043e\\u0442\\u0435\\u0440\\u0438 \\u0432 \\u0445\\u043e\\u0434\\u0435 \\u0430\\u0437\\u0438\\u0430\\u0442\\u0441\\u043a\\u043e\\u0433\\u043e \\u043a\\u0440\\u0438\\u0437\\u0438\\u0441\\u0430 \\u043a\\u043e\\u043d\\u0446\\u0430 90-\\u0445, \\u043d\\u043e \\u0432\\u044b\\u0436\\u0438\\u043b. \\u041a \\u0441\\u0435\\u0440\\u0435\\u0434\\u0438\\u043d\\u0435 2000-\\u0445 \\u041b\\u0438 \\u0442\\u0440\\u0430\\u043d\\u0441\\u0444\\u043e\\u0440\\u043c\\u0438\\u0440\\u043e\\u0432\\u0430\\u043b \\u0435\\u0433\\u043e \\u0432 LL Investment Partners, \\u0440\\u0430\\u0431\\u043e\\u0442\\u0430\\u044e\\u0449\\u0438\\u0439 \\u043d\\u0430 \\u0433\\u043b\\u043e\\u0431\\u0430\\u043b\\u044c\\u043d\\u043e\\u043c \\u0440\\u044b\\u043d\\u043a\\u0435 \\u0438\\u043d\\u0432\\u0435\\u0441\\u0442\\u0438\\u0446\\u0438\\u0439. \\u041e\\u0434\\u043d\\u0438\\u043c \\u0438\\u0437 \\u043f\\u0430\\u0440\\u0442\\u043d\\u0435\\u0440\\u043e\\u0432 \\u0444\\u043e\\u043d\\u0434\\u0430 \\u0441\\u0442\\u0430\\u043b \\u0432\\u0435\\u0440\\u043d\\u044b\\u0439 \\u0441\\u043e\\u0440\\u0430\\u0442\\u043d\\u0438\\u043a \\u0411\\u0430\\u0444\\u0444\\u0435\\u0442\\u0430 \\u0427\\u0430\\u0440\\u043b\\u0438 \\u041c\\u0430\\u043d\\u0433\\u0435\\u0440. \\u041d\\u0435\\u0443\\u0434\\u0438\\u0432\\u0438\\u0442\\u0435\\u043b\\u044c\\u043d\\u043e, \\u0447\\u0442\\u043e \\u0441 \\u0442\\u0430\\u043a\\u0438\\u043c\\u0438 \\u0437\\u043d\\u0430\\u043a\\u043e\\u043c\\u0441\\u0442\\u0432\\u0430\\u043c\\u0438 \\u041b\\u0438 \\u041b\\u0443 \\u0432\\u043e\\u0448\\u0435\\u043b \\u0432 \\u0448\\u043e\\u0440\\u0442-\\u043b\\u0438\\u0441\\u0442 \\u043f\\u043e\\u0442\\u0435\\u043d\\u0446\\u0438\\u0430\\u043b\\u044c\\u043d\\u044b\\u0445 \\u043d\\u0430\\u0441\\u043b\\u0435\\u0434\\u043d\\u0438\\u043a\\u043e\\u0432 \\u0432\\u0442\\u043e\\u0440\\u043e\\u0433\\u043e \\u0441\\u0440\\u0435\\u0434\\u0438 \\u043d\\u0430\\u0438\\u0431\\u043e\\u043b\\u0435\\u0435 \\u0431\\u043e\\u0433\\u0430\\u0442\\u044b\\u0445 \\u043b\\u044e\\u0434\\u0435\\u0439 \\u0432 \\u043c\\u0438\\u0440\\u0435.\\n\\n\\u0422\\u0435\\u043c \\u043d\\u0435 \\u043c\\u0435\\u043d\\u0435\\u0435, \\u0433\\u043e\\u0432\\u043e\\u0440\\u0438\\u0442\\u044c \\u043e \\u0442\\u043e\\u043c, \\u0447\\u0442\\u043e \\u043a\\u043e\\u043c\\u0430\\u043d\\u0434\\u0430 \\u043f\\u0440\\u0435\\u0435\\u043c\\u043d\\u0438\\u043a\\u043e\\u0432 \\u0411\\u0430\\u0444\\u0444\\u0435\\u0442\\u0430 \\u0441\\u0444\\u043e\\u0440\\u043c\\u0438\\u0440\\u043e\\u0432\\u0430\\u043d\\u0430, \\u0440\\u0430\\u043d\\u043e. \\u0412\\u043f\\u043e\\u043b\\u043d\\u0435 \\u0432\\u043e\\u0437\\u043c\\u043e\\u0436\\u043d\\u043e, \\u0447\\u0442\\u043e \\u0441\\u0443\\u0449\\u0435\\u0441\\u0442\\u0432\\u0443\\u0435\\u0442 \\u0441\\u043f\\u0438\\u0441\\u043e\\u043a \\u0438 \\u0434\\u0440\\u0443\\u0433\\u0438\\u0445 \\u0434\\u043e\\u0441\\u0442\\u043e\\u0439\\u043d\\u044b\\u0445 \\u043a\\u0430\\u043d\\u0434\\u0438\\u0434\\u0430\\u0442\\u043e\\u0432 \\u0432 \\u0440\\u0443\\u043a\\u043e\\u0432\\u043e\\u0434\\u0441\\u0442\\u0432\\u043e \\u043e\\u0434\\u043d\\u043e\\u0439 \\u0438\\u0437 \\u0441\\u0430\\u043c\\u044b\\u0445 \\u0443\\u0441\\u043f\\u0435\\u0448\\u043d\\u044b\\u0445 \\u0438\\u043d\\u0432\\u0435\\u0441\\u0442\\u043a\\u043e\\u043c\\u043f\\u0430\\u043d\\u0438\\u0439 \\u0432 \\u043c\\u0438\\u0440\\u0435. \\u0422\\u0435\\u043c \\u0431\\u043e\\u043b\\u0435\\u0435, \\u0447\\u0442\\u043e \\u0441\\u0442\\u0430\\u0440\\u0438\\u043d\\u0430 \\u0423\\u043e\\u0440\\u0440\\u0435\\u043d, \\u043a\\u0430\\u043a \\u043f\\u043e\\u043a\\u0430\\u0437\\u0430\\u043b\\u043e \\u043d\\u0430\\u0437\\u043d\\u0430\\u0447\\u0435\\u043d\\u0438\\u0435 \\u041a\\u043e\\u0443\\u043c\\u0441\\u0430, \\u043b\\u044e\\u0431\\u0438\\u0442 \\u0441\\u044e\\u0440\\u043f\\u0440\\u0438\\u0437\\u044b. \",\n          \"\\u0414\\u0435\\u043f\\u0443\\u0442\\u0430\\u0442 \\u041f\\u0430\\u0440\\u0442\\u0438\\u0438 \\u0440\\u0435\\u0433\\u0438\\u043e\\u043d\\u043e\\u0432 \\u0421\\u0432\\u044f\\u0442\\u0430\\u0448 \\u0441\\u043f\\u0435\\u043b \\u0441 \\u0434\\u0436\\u0430\\u0437\\u043e\\u0432\\u044b\\u043c \\u043e\\u0440\\u043a\\u0435\\u0441\\u0442\\u0440\\u043e\\u043c\\n\\n8 \\u043e\\u043a\\u0442\\u044f\\u0431\\u0440\\u044f 2012 \\u0433\\u043e\\u0434\\u0430 \\u0432 \\u0425\\u0430\\u0440\\u044c\\u043a\\u043e\\u0432\\u0441\\u043a\\u043e\\u043c \\u043d\\u0430\\u0446\\u0438\\u043e\\u043d\\u0430\\u043b\\u044c\\u043d\\u043e\\u043c \\u0430\\u043a\\u0430\\u0434\\u0435\\u043c\\u0438\\u0447\\u0435\\u0441\\u043a\\u043e\\u043c \\u0442\\u0435\\u0430\\u0442\\u0440\\u0435 \\u043e\\u043f\\u0435\\u0440\\u044b \\u0438 \\u0431\\u0430\\u043b\\u0435\\u0442\\u0430 \\u0441\\u043e\\u0441\\u0442\\u043e\\u044f\\u043b\\u0441\\u044f \\u043a\\u043e\\u043d\\u0446\\u0435\\u0440\\u0442, \\u043f\\u043e\\u0441\\u0432\\u044f\\u0449\\u0435\\u043d\\u043d\\u044b\\u0439 \\u0414\\u043d\\u044e \\u0443\\u0447\\u0438\\u0442\\u0435\\u043b\\u044f.\\n\\u041a\\u043e\\u043d\\u0446\\u0435\\u0440\\u0442 \\u043e\\u0440\\u0433\\u0430\\u043d\\u0438\\u0437\\u043e\\u0432\\u0430\\u043d \\u0444\\u043e\\u043d\\u0434\\u043e\\u043c \\u00ab\\u041f\\u0435\\u0440\\u0435\\u0441\\u0432\\u0435\\u0442\\u00bb \\u0434\\u043b\\u044f \\u043f\\u0440\\u0435\\u043f\\u043e\\u0434\\u0430\\u0432\\u0430\\u0442\\u0435\\u043b\\u0435\\u0439 \\u0448\\u043a\\u043e\\u043b \\u041c\\u043e\\u0441\\u043a\\u043e\\u0432\\u0441\\u043a\\u043e\\u0433\\u043e \\u0440\\u0430\\u0439\\u043e\\u043d\\u0430.\\n\\n\\n\\u041a\\u043e\\u043d\\u0446\\u0435\\u0440\\u0442\\u043d\\u044b\\u0439 \\u0437\\u0430\\u043b \\u043a\\u043e\\u0442\\u043e\\u0440\\u044b\\u0439 \\u0432\\u043c\\u0435\\u0449\\u0430\\u0435\\u0442 \\u043e\\u043a\\u043e\\u043b\\u043e \\u043f\\u043e\\u043b\\u0443\\u0442\\u043e\\u0440\\u0430 \\u0442\\u044b\\u0441\\u044f\\u0447 \\u0447\\u0435\\u043b\\u043e\\u0432\\u0435\\u043a 5 \\u043e\\u043a\\u0442\\u044f\\u0431\\u0440\\u044f \\u0431\\u044b\\u043b \\u0437\\u0430\\u043f\\u043e\\u043b\\u043d\\u0435\\u043d \\u043f\\u043e\\u043b\\u043d\\u043e\\u0441\\u0442\\u044c\\u044e.\\n\\n\\u0421 \\u043f\\u0440\\u043e\\u0444\\u0435\\u0441\\u0441\\u0438\\u043e\\u043d\\u0430\\u043b\\u044c\\u043d\\u044b\\u043c \\u043f\\u0440\\u0430\\u0437\\u0434\\u043d\\u0438\\u043a\\u043e\\u043c \\u0443\\u0447\\u0438\\u0442\\u0435\\u043b\\u0435\\u0439 \\u043f\\u043e\\u0437\\u0434\\u0440\\u0430\\u0432\\u0438\\u043b\\u0438 \\u0433\\u043e\\u0440\\u043e\\u0434\\u0441\\u043a\\u043e\\u0439 \\u0433\\u043e\\u043b\\u043e\\u0432\\u0430 \\u0413\\u0435\\u043d\\u043d\\u0430\\u0434\\u0438\\u0439 \\u041a\\u0435\\u0440\\u043d\\u0435\\u0441 \\u0438 \\u043d\\u0430\\u0440\\u043e\\u0434\\u043d\\u044b\\u0439 \\u0434\\u0435\\u043f\\u0443\\u0442\\u0430\\u0442 \\u0423\\u043a\\u0440\\u0430\\u0438\\u043d\\u044b \\u0414\\u043c\\u0438\\u0442\\u0440\\u0438\\u0439 \\u0421\\u0432\\u044f\\u0442\\u0430\\u0448.\\n\\n\\u041f\\u0430\\u0440\\u043b\\u0430\\u043c\\u0435\\u043d\\u0442\\u0430\\u0440\\u0438\\u0439 \\u0438 \\u0433\\u043b\\u0430\\u0432\\u0430 \\u0433\\u043e\\u0440\\u043e\\u0434\\u0430 \\u043d\\u0430\\u0433\\u0440\\u0430\\u0434\\u0438\\u043b\\u0438 \\u043b\\u0443\\u0447\\u0448\\u0438\\u0445 \\u0440\\u0430\\u0431\\u043e\\u0442\\u043d\\u0438\\u043a\\u043e\\u0432 \\u043e\\u0431\\u0440\\u0430\\u0437\\u043e\\u0432\\u0430\\u0442\\u0435\\u043b\\u044c\\u043d\\u043e\\u0439 \\u0441\\u0444\\u0435\\u0440\\u044b \\u041c\\u043e\\u0441\\u043a\\u043e\\u0432\\u0441\\u043a\\u043e\\u0433\\u043e \\u0440\\u0430\\u0439\\u043e\\u043d\\u0430 \\u043f\\u043e\\u0447\\u0435\\u0442\\u043d\\u044b\\u043c\\u0438 \\u0433\\u0440\\u0430\\u043c\\u043e\\u0442\\u0430\\u043c\\u0438 \\u041c\\u0438\\u043d\\u043e\\u0431\\u0440\\u0430\\u0437\\u043e\\u0432\\u0430\\u043d\\u0438\\u044f.\\n\\n\\u0414\\u043e\\u043b\\u0433\\u0438\\u0435 \\u0430\\u043f\\u043b\\u043e\\u0434\\u0438\\u0441\\u043c\\u0435\\u043d\\u0442\\u044b \\u0432\\u043e\\u0441\\u0445\\u0438\\u0449\\u0435\\u043d\\u043d\\u044b\\u0445 \\u0437\\u0440\\u0438\\u0442\\u0435\\u043b\\u0435\\u0439 \\u0441\\u043e\\u043f\\u0443\\u0442\\u0441\\u0442\\u0432\\u043e\\u0432\\u0430\\u043b\\u0438 \\u043b\\u0430\\u0437\\u0435\\u0440\\u043d\\u043e\\u043c\\u0443 \\u0448\\u043e\\u0443,  \\u0432\\u044b\\u0441\\u0442\\u0443\\u043f\\u043b\\u0435\\u043d\\u0438\\u044f\\u043c \\u043d\\u0430 \\u0441\\u0446\\u0435\\u043d\\u0435 \\u0432\\u043e\\u0437\\u0434\\u0443\\u0448\\u043d\\u044b\\u0445 \\u0433\\u0438\\u043c\\u043d\\u0430\\u0441\\u0442\\u043e\\u0432, \\u0432\\u043e\\u043a\\u0430\\u043b\\u0438\\u0441\\u0442\\u043e\\u0432 \\u0438 \\u0445\\u043e\\u0440\\u0435\\u043e\\u0433\\u0440\\u0430\\u0444\\u0438\\u0447\\u0435\\u0441\\u043a\\u0438\\u0445 \\u043a\\u043e\\u043b\\u043b\\u0435\\u043a\\u0442\\u0438\\u0432\\u043e\\u0432.\\n\\n\\u041d\\u0430\\u0440\\u0430\\u0432\\u043d\\u0435 \\u0441 \\u0438\\u043c\\u0435\\u043d\\u0438\\u0442\\u044b\\u043c\\u0438 \\u0430\\u0440\\u0442\\u0438\\u0441\\u0442\\u0430\\u043c\\u0438 \\u043f\\u0435\\u0440\\u0435\\u0434 \\u043f\\u0435\\u0434\\u0430\\u0433\\u043e\\u0433\\u0430\\u043c\\u0438 \\u0432\\u044b\\u0441\\u0442\\u0443\\u043f\\u0438\\u043b\\u0438 \\u043c\\u043e\\u043b\\u043e\\u0434\\u044b\\u0435 \\u0442\\u0430\\u043b\\u0430\\u043d\\u0442\\u044b, \\u043c\\u043d\\u043e\\u0433\\u0438\\u0435 \\u0438\\u0437 \\u043a\\u043e\\u0442\\u043e\\u0440\\u044b\\u0445 \\u0431\\u044b\\u043b\\u0438 \\u043e\\u0442\\u043a\\u0440\\u044b\\u0442\\u044b \\u0434\\u043b\\u044f \\u0448\\u0438\\u0440\\u043e\\u043a\\u043e\\u0439 \\u043f\\u0443\\u0431\\u043b\\u0438\\u043a\\u0438 \\u0438\\u043c\\u0435\\u043d\\u043d\\u043e \\u0431\\u043b\\u0430\\u0433\\u043e\\u0434\\u0430\\u0440\\u044f \\u0442\\u0432\\u043e\\u0440\\u0447\\u0435\\u0441\\u043a\\u0438\\u043c \\u043a\\u043e\\u043d\\u043a\\u0443\\u0440\\u0441\\u0430\\u043c, \\u043f\\u0440\\u043e\\u0432\\u043e\\u0434\\u0438\\u043c\\u044b\\u043c \\u0444\\u043e\\u043d\\u0434\\u043e\\u043c \\u00ab\\u041f\\u0435\\u0440\\u0435\\u0441\\u0432\\u0435\\u0442\\u00bb.  \\u041a\\u043e\\u043d\\u0446\\u0435\\u0440\\u0442\\u043d\\u0443\\u044e \\u0430\\u0442\\u043c\\u043e\\u0441\\u0444\\u0435\\u0440\\u0443 \\u043f\\u0440\\u0430\\u0437\\u0434\\u043d\\u0438\\u043a\\u0430 \\u0442\\u0430\\u043a\\u0436\\u0435 \\u043f\\u043e\\u0434\\u0434\\u0435\\u0440\\u0436\\u0430\\u043b\\u0438 \\u0448\\u0443\\u0442\\u043a\\u0438 \\u043e\\u0442 \\u0418\\u043b\\u044c\\u0438  \\u041d\\u043e\\u044f\\u0431\\u0440\\u0435\\u0432\\u0430 \\u0438 \\u0441\\u043e\\u0432\\u0440\\u0435\\u043c\\u0435\\u043d\\u043d\\u044b\\u0439 \\u0431\\u0430\\u043b\\u0435\\u0442.\\n\\n\\u041d\\u043e \\u043d\\u0430\\u0441\\u0442\\u043e\\u044f\\u0449\\u0435\\u0439 \\u043d\\u0435\\u043e\\u0436\\u0438\\u0434\\u0430\\u043d\\u043d\\u043e\\u0441\\u0442\\u044c\\u044e \\u0434\\u043b\\u044f \\u043f\\u0443\\u0431\\u043b\\u0438\\u043a\\u0438 \\u0441\\u0442\\u0430\\u043b\\u043e \\u0434\\u0436\\u0430\\u0437\\u043e\\u0432\\u043e\\u0435 \\u0432\\u044b\\u0441\\u0442\\u0443\\u043f\\u043b\\u0435\\u043d\\u0438\\u0435 \\u0414\\u043c\\u0438\\u0442\\u0440\\u0438\\u044f \\u0421\\u0432\\u044f\\u0442\\u0430\\u0448\\u0430, \\u0437\\u0430\\u0432\\u0435\\u0440\\u0448\\u0430\\u044e\\u0449\\u0435\\u0435 \\u043a\\u043e\\u043d\\u0446\\u0435\\u0440\\u0442. \\u0414\\u0435\\u043f\\u0443\\u0442\\u0430\\u0442 \\u043d\\u0435 \\u0440\\u0430\\u0437 \\u0437\\u0430\\u044f\\u0432\\u043b\\u044f\\u043b, \\u0447\\u0442\\u043e \\u043b\\u044e\\u0431\\u0438\\u0442 \\u0438 \\u0437\\u043d\\u0430\\u0435\\u0442 \\u0434\\u0436\\u0430\\u0437, \\u043d\\u043e \\u0432 \\u0442\\u0430\\u043a\\u043e\\u043c \\u0430\\u043c\\u043f\\u043b\\u0443\\u0430 \\u043f\\u0435\\u0440\\u0435\\u0434 \\u0448\\u0438\\u0440\\u043e\\u043a\\u043e\\u0439 \\u043f\\u0443\\u0431\\u043b\\u0438\\u043a\\u043e\\u0439 \\u043e\\u043d \\u043f\\u0440\\u0435\\u0434\\u0441\\u0442\\u0430\\u043b \\u0432\\u043f\\u0435\\u0440\\u0432\\u044b\\u0435. \\u0412 \\u0441\\u043e\\u043f\\u0440\\u043e\\u0432\\u043e\\u0436\\u0434\\u0435\\u043d\\u0438\\u0438 \\u0438\\u0437\\u0432\\u0435\\u0441\\u0442\\u043d\\u043e\\u0433\\u043e \\u0434\\u0436\\u0430\\u0437\\u043e\\u0432\\u043e\\u0433\\u043e \\u043e\\u0440\\u043a\\u0435\\u0441\\u0442\\u0440\\u0430 \\u00abKievBigBand\\u00bb, \\u0430 \\u0442\\u0430\\u043a\\u0436\\u0435 \\u0441\\u0430\\u043c\\u043e\\u0441\\u0442\\u043e\\u044f\\u0442\\u0435\\u043b\\u044c\\u043d\\u043e \\u0430\\u043a\\u043a\\u043e\\u043c\\u043f\\u0430\\u043d\\u0438\\u0440\\u0443\\u044f \\u043d\\u0430 \\u0433\\u0438\\u0442\\u0430\\u0440\\u0435, \\u043e\\u043d \\u0438\\u0441\\u043f\\u043e\\u043b\\u043d\\u0438\\u043b \\u043d\\u0435\\u0441\\u043a\\u043e\\u043b\\u044c\\u043a\\u043e \\u043f\\u0435\\u0441\\u0435\\u043d, \\u0432 \\u0442\\u043e\\u043c \\u0447\\u0438\\u0441\\u043b\\u0435 \\u0438 \\u043d\\u0430 \\u0431\\u0438\\u0441. \\u0412\\u0438\\u0434\\u0435\\u043e \\u0441 \\u043a\\u043e\\u043d\\u0446\\u0435\\u0440\\u0442\\u0430 \\u043d\\u0435\\u0437\\u0430\\u043c\\u0435\\u0434\\u043b\\u0438\\u0442\\u0435\\u043b\\u044c\\u043d\\u043e \\u043f\\u043e\\u043f\\u0430\\u043b\\u043e \\u043d\\u0430 \\u0432\\u0438\\u0434\\u0435\\u043e\\u0441\\u0435\\u0440\\u0432\\u0438\\u0441 YouTube.\\n\\n''\\u00ab\\u0414\\u0435\\u043d\\u044c \\u0443\\u0447\\u0438\\u0442\\u0435\\u043b\\u044f \\u2014 \\u043e\\u0434\\u0438\\u043d \\u0438\\u0437 \\u0441\\u0430\\u043c\\u044b\\u0445 \\u0442\\u0435\\u043f\\u043b\\u044b\\u0445 \\u043f\\u0440\\u0430\\u0437\\u0434\\u043d\\u0438\\u043a\\u043e\\u0432 \\u0434\\u043b\\u044f \\u043a\\u0430\\u0436\\u0434\\u043e\\u0433\\u043e \\u0438\\u0437 \\u043d\\u0430\\u0441, \\u0432\\u0435\\u0434\\u044c \\u0432 \\u0423\\u043a\\u0440\\u0430\\u0438\\u043d\\u0435 \\u043d\\u0435\\u0442, \\u043f\\u043e\\u0436\\u0430\\u043b\\u0443\\u0439, \\u043d\\u0438 \\u043e\\u0434\\u043d\\u043e\\u0433\\u043e \\u0447\\u0435\\u043b\\u043e\\u0432\\u0435\\u043a\\u0430, \\u043a\\u043e\\u0442\\u043e\\u0440\\u044b\\u0439 \\u043d\\u0435 \\u043e\\u0431\\u0449\\u0430\\u043b\\u0441\\u044f \\u0431\\u044b \\u0441 \\u0443\\u0447\\u0438\\u0442\\u0435\\u043b\\u0435\\u043c,'' \\u2014 \\u043f\\u043e\\u0434\\u0435\\u043b\\u0438\\u043b\\u0441\\u044f \\u0441\\u0432\\u043e\\u0438\\u043c \\u043c\\u043d\\u0435\\u043d\\u0438\\u0435\\u043c \\u0414\\u043c\\u0438\\u0442\\u0440\\u0438\\u0439 \\u0421\\u0432\\u044f\\u0442\\u0430\\u0448. \\u2014 ''\\u0423\\u0447\\u0438\\u0442\\u0435\\u043b\\u044f \\u0444\\u043e\\u0440\\u043c\\u0438\\u0440\\u0443\\u044e\\u0442 \\u0441\\u0430\\u043c\\u043e\\u0435 \\u0433\\u043b\\u0430\\u0432\\u043d\\u043e\\u0435 \\u2014 \\u0431\\u0443\\u0434\\u0443\\u0449\\u0435\\u0435 \\u043d\\u0430\\u0448\\u0435\\u0439 \\u0441\\u0442\\u0440\\u0430\\u043d\\u044b, \\u043f\\u0435\\u0440\\u0435\\u0434\\u0430\\u0432\\u0430\\u044f \\u0434\\u0435\\u0442\\u044f\\u043c \\u0441\\u0432\\u043e\\u0438 \\u0437\\u043d\\u0430\\u043d\\u0438\\u044f \\u0438 \\u0441\\u0432\\u043e\\u0439 \\u043e\\u043f\\u044b\\u0442. \\u041f\\u043e\\u044d\\u0442\\u043e\\u043c\\u0443 \\u0414\\u0435\\u043d\\u044c \\u0443\\u0447\\u0438\\u0442\\u0435\\u043b\\u044f \\u044d\\u0442\\u043e \\u043f\\u0440\\u0430\\u0437\\u0434\\u043d\\u0438\\u043a \\u043a\\u0430\\u0436\\u0434\\u043e\\u0433\\u043e \\u0438\\u0437 \\u043d\\u0430\\u0441. \\u0425\\u043e\\u0447\\u0443 \\u043f\\u043e\\u0436\\u0435\\u043b\\u0430\\u0442\\u044c \\u0443\\u0447\\u0438\\u0442\\u0435\\u043b\\u044f\\u043c \\u0437\\u0434\\u043e\\u0440\\u043e\\u0432\\u044c\\u044f, \\u0441\\u0447\\u0430\\u0441\\u0442\\u044c\\u044f, \\u0430 \\u0435\\u0449\\u0435 \\u2014 \\u0447\\u0442\\u043e\\u0431\\u044b \\u0438\\u0445 \\u043d\\u0435 \\u0437\\u0430\\u0431\\u044b\\u0432\\u0430\\u043b\\u0438 \\u0432\\u043e\\u0441\\u043f\\u0438\\u0442\\u0430\\u043d\\u043d\\u0438\\u043a\\u0438 \\u0438 \\u0443\\u0447\\u0435\\u043d\\u0438\\u043a\\u0438. \\u042f, \\u043d\\u0430\\u043f\\u0440\\u0438\\u043c\\u0435\\u0440, \\u0437\\u0430\\u043a\\u043e\\u043d\\u0447\\u0438\\u043b \\u0441\\u0440\\u0435\\u0434\\u043d\\u044e\\u044e \\u0448\\u043a\\u043e\\u043b\\u0443 \\u21161, \\u0438 \\u0443 \\u043d\\u0430\\u0441 \\u0435\\u0441\\u0442\\u044c \\u0445\\u043e\\u0440\\u043e\\u0448\\u0430\\u044f \\u0442\\u0440\\u0430\\u0434\\u0438\\u0446\\u0438\\u044f \\u2014 \\u0441\\u043e\\u0431\\u0438\\u0440\\u0430\\u0442\\u044c\\u0441\\u044f \\u043a\\u0430\\u0436\\u0434\\u044b\\u0439 \\u0433\\u043e\\u0434 22 \\u0430\\u043f\\u0440\\u0435\\u043b\\u044f. \\u0412 \\u0441\\u043b\\u0435\\u0434\\u0443\\u044e\\u0449\\u0435\\u043c \\u0433\\u043e\\u0434\\u0443 \\u0431\\u0443\\u0434\\u0435\\u0442 25 \\u043b\\u0435\\u0442 \\u043a\\u0430\\u043a \\u044f \\u043e\\u043a\\u043e\\u043d\\u0447\\u0438\\u043b \\u0448\\u043a\\u043e\\u043b\\u0443, \\u043d\\u043e \\u0432\\u0441\\u0442\\u0440\\u0435\\u0447\\u0430\\u044e\\u0441\\u044c \\u0441\\u043e \\u0441\\u0432\\u043e\\u0438\\u043c\\u0438 \\u0443\\u0447\\u0438\\u0442\\u0435\\u043b\\u044f\\u043c\\u0438 \\u043f\\u0440\\u0430\\u043a\\u0442\\u0438\\u0447\\u0435\\u0441\\u043a\\u0438 \\u043a\\u0430\\u0436\\u0434\\u044b\\u0439 \\u0433\\u043e\\u0434. \\u041a \\u0441\\u043e\\u0436\\u0430\\u043b\\u0435\\u043d\\u0438\\u044e, \\u043d\\u0435\\u043a\\u043e\\u0442\\u043e\\u0440\\u044b\\u0445 \\u0443\\u0436\\u0435 \\u043d\\u0435\\u0442 \\u0441 \\u043d\\u0430\\u043c\\u0438, \\u043d\\u043e \\u043e\\u043d\\u0438 \\u043d\\u0430\\u0432\\u0441\\u0435\\u0433\\u0434\\u0430 \\u043e\\u0441\\u0442\\u0430\\u043b\\u0438\\u0441\\u044c \\u0432 \\u043d\\u0430\\u0448\\u0435\\u0439 \\u043f\\u0430\\u043c\\u044f\\u0442\\u0438\\u00bb''.\\n\\n== \\u0421\\u0441\\u044b\\u043b\\u043a\\u0430 ==\\n\\u0412\\u0438\\u0434\\u0435\\u043e\\u0437\\u0430\\u043f\\u0438\\u0441\\u044c \\u0432\\u044b\\u0441\\u0442\\u0443\\u043f\\u043b\\u0435\\u043d\\u0438\\u044f.\\n\"\n        ],\n        \"semantic_type\": \"\",\n        \"description\": \"\"\n      }\n    },\n    {\n      \"column\": \"id\",\n      \"properties\": {\n        \"dtype\": \"number\",\n        \"std\": 149,\n        \"min\": 0,\n        \"max\": 518,\n        \"num_unique_values\": 519,\n        \"samples\": [\n          275,\n          93,\n          6\n        ],\n        \"semantic_type\": \"\",\n        \"description\": \"\"\n      }\n    }\n  ]\n}"
            }
          },
          "metadata": {},
          "execution_count": 5
        }
      ]
    },
    {
      "cell_type": "markdown",
      "source": [
        "## Explore entities"
      ],
      "metadata": {
        "id": "eZIQ4h8vm3Ed"
      }
    },
    {
      "cell_type": "code",
      "source": [
        "# Count entities frequency\n",
        "entities_count = {}\n",
        "for ind, row in train_df.iterrows():\n",
        "    for st, end, lab in row[\"ners\"]:\n",
        "        if lab not in entities_count.keys():\n",
        "            entities_count[lab] = 0\n",
        "        entities_count[lab] += 1\n",
        "print(entities_count)"
      ],
      "metadata": {
        "colab": {
          "base_uri": "https://localhost:8080/"
        },
        "outputId": "eb1bc8cf-c8ef-46d5-8cdd-3ba6279d5675",
        "execution": {
          "iopub.status.busy": "2024-04-28T11:50:52.078009Z",
          "iopub.execute_input": "2024-04-28T11:50:52.078359Z",
          "iopub.status.idle": "2024-04-28T11:50:52.130249Z",
          "shell.execute_reply.started": "2024-04-28T11:50:52.078333Z",
          "shell.execute_reply": "2024-04-28T11:50:52.129359Z"
        },
        "trusted": true,
        "id": "1af_jBkNSNfa"
      },
      "execution_count": null,
      "outputs": [
        {
          "output_type": "stream",
          "name": "stdout",
          "text": [
            "{'CITY': 1261, 'PERSON': 5119, 'LOCATION': 314, 'EVENT': 3335, 'AGE': 657, 'DATE': 2689, 'ORGANIZATION': 4088, 'ORDINAL': 614, 'PROFESSION': 5039, 'COUNTRY': 2510, 'NUMBER': 1107, 'CRIME': 221, 'STATE_OR_PROVINCE': 412, 'DISTRICT': 103, 'FAMILY': 24, 'AWARD': 404, 'TIME': 182, 'FACILITY': 424, 'DISEASE': 220, 'WORK_OF_ART': 270, 'LAW': 405, 'MONEY': 179, 'RELIGION': 89, 'NATIONALITY': 437, 'IDEOLOGY': 273, 'PRODUCT': 245, 'PERCENT': 68, 'LANGUAGE': 54, 'PENALTY': 92}\n"
          ]
        }
      ]
    },
    {
      "cell_type": "code",
      "source": [
        "# Print top-10 frequent entities\n",
        "chosen_entities = [x[0] for x in sorted(entities_count.items(), key=lambda x: -x[1])[:10]]\n",
        "print(chosen_entities)"
      ],
      "metadata": {
        "colab": {
          "base_uri": "https://localhost:8080/"
        },
        "outputId": "2c83fdc6-dabd-489d-a643-c29a1e853069",
        "execution": {
          "iopub.status.busy": "2024-04-28T11:50:52.398214Z",
          "iopub.execute_input": "2024-04-28T11:50:52.398603Z",
          "iopub.status.idle": "2024-04-28T11:50:52.405628Z",
          "shell.execute_reply.started": "2024-04-28T11:50:52.398574Z",
          "shell.execute_reply": "2024-04-28T11:50:52.404671Z"
        },
        "trusted": true,
        "id": "oQTa6i1BSNfb"
      },
      "execution_count": null,
      "outputs": [
        {
          "output_type": "stream",
          "name": "stdout",
          "text": [
            "['PERSON', 'PROFESSION', 'ORGANIZATION', 'EVENT', 'DATE', 'COUNTRY', 'CITY', 'NUMBER', 'AGE', 'ORDINAL']\n"
          ]
        }
      ]
    },
    {
      "cell_type": "code",
      "source": [
        "# Replace new line with space (the indexing is still the same)\n",
        "train_df[\"sentences\"] = train_df[\"sentences\"].apply(lambda x: x.replace(\"\\n\", \" \"))\n",
        "test_df[\"senences\"] = test_df[\"senences\"].apply(lambda x: x.replace(\"\\n\", \" \"))"
      ],
      "metadata": {
        "id": "6vBYaoWbnkts"
      },
      "execution_count": null,
      "outputs": []
    },
    {
      "cell_type": "code",
      "source": [
        "# Check whether multispace is in entities\n",
        "for id, row in train_df.iterrows():\n",
        "    for st, end, lab in row[\"ners\"]:\n",
        "        if row[\"sentences\"][st].isspace() | row[\"sentences\"][end].isspace() | (\"  \" in row[\"sentences\"][st:end+1]) | (\"\\n\" in row[\"sentences\"][st:end+1]):\n",
        "            print(id, lab, row[\"sentences\"][st:end+1])\n",
        "\n",
        "# Drop training entity with space inside\n",
        "train_df = train_df.drop(6)"
      ],
      "metadata": {
        "colab": {
          "base_uri": "https://localhost:8080/"
        },
        "outputId": "5cef0a35-3c1b-4370-bc34-9f3873af6794",
        "execution": {
          "iopub.status.busy": "2024-04-28T11:50:54.018380Z",
          "iopub.execute_input": "2024-04-28T11:50:54.019206Z",
          "iopub.status.idle": "2024-04-28T11:50:54.654463Z",
          "shell.execute_reply.started": "2024-04-28T11:50:54.019175Z",
          "shell.execute_reply": "2024-04-28T11:50:54.653674Z"
        },
        "trusted": true,
        "id": "dpuG6i_NSNfb"
      },
      "execution_count": null,
      "outputs": [
        {
          "output_type": "stream",
          "name": "stdout",
          "text": [
            "6 PERSON Ильи  Ноябрева\n"
          ]
        }
      ]
    },
    {
      "cell_type": "markdown",
      "source": [
        "## Build dataset\n",
        "\n",
        "Instruct NER project work with instructions, that are simply dictionary of 5 values:\n",
        "instruction - the input task,\n",
        "input - text to be analyzed,\n",
        "output - string with the result expected from the model,\n",
        "source - the prompt without answer,\n",
        "raw_entities - dictionary, where key is a label and values is a list of entities of this label,\n",
        "id - query id.\n",
        "When all data was preprocessed, it was saved in the json lines format.\n"
      ],
      "metadata": {
        "id": "-evEeQ2EUghf"
      }
    },
    {
      "cell_type": "code",
      "source": [
        "# Prepare train instructions\n",
        "instrs = []\n",
        "for ind, row in train_df.iterrows():\n",
        "\n",
        "    example = {'instruction': f'Ты решаешь задачу NER. Извлеки из текста слова, относящиеся к каждой из следующих сущностей: {\" \".join(unique_entities)}.',\n",
        "     'input': row['sentences'],\n",
        "     'output': '',\n",
        "     'source': f'### Задание: Ты решаешь задачу NER. Извлеки из текста слова, относящиеся к каждой из следующих сущностей: {\" \".join(unique_entities)}.\\n### Вход: text.\\n### Ответ: ',\n",
        "     'raw_entities': {ent: [] for ent in unique_entities},\n",
        "     'id': row[\"id\"]}\n",
        "\n",
        "    example['source'] = f'### Задание: {example[\"instruction\"]}.\\n### Вход: {example[\"input\"]}.\\n### Ответ: '\n",
        "\n",
        "    for st, end, label in row[\"ners\"]:\n",
        "        example[\"raw_entities\"][label].append(row[\"sentences\"][st:end+1])\n",
        "\n",
        "    example['output'] = \"\\n\".join([label+\": \"+\" , \".join(st)  for label, st in example[\"raw_entities\"].items()])\n",
        "    instrs.append(example)"
      ],
      "metadata": {
        "execution": {
          "iopub.status.busy": "2024-04-28T12:16:13.713629Z",
          "iopub.execute_input": "2024-04-28T12:16:13.714012Z",
          "iopub.status.idle": "2024-04-28T12:16:14.051984Z",
          "shell.execute_reply.started": "2024-04-28T12:16:13.713987Z",
          "shell.execute_reply": "2024-04-28T12:16:14.051093Z"
        },
        "trusted": true,
        "id": "f_bPi3VKSEgi"
      },
      "execution_count": null,
      "outputs": []
    },
    {
      "cell_type": "code",
      "source": [
        "# Prepare test instructions\n",
        "test_instrs = []\n",
        "for ind, row in test_df.iterrows():\n",
        "\n",
        "    example = {'instruction': f'Ты решаешь задачу NER. Извлеки из текста слова, относящиеся к каждой из следующих сущностей: {\" \".join(unique_entities)}.',\n",
        "     'input': row['senences'],\n",
        "     'output': '',\n",
        "     'source': f'### Задание: Ты решаешь задачу NER. Извлеки из текста слова, относящиеся к каждой из следующих сущностей: {\" \".join(unique_entities)}.\\n### Вход: text.\\n### Ответ: ',\n",
        "     'raw_entities': {ent: [] for ent in unique_entities},\n",
        "     'id': row[\"id\"]}\n",
        "\n",
        "    example['source'] = f'### Задание: {example[\"instruction\"]}.\\n### Вход: {example[\"input\"]}.\\n### Ответ: '\n",
        "\n",
        "    example['output'] = \"\\n\".join([label+\": \"+\" , \".join(st)  for label, st in example[\"raw_entities\"].items()])\n",
        "    test_instrs.append(example)"
      ],
      "metadata": {
        "execution": {
          "iopub.status.busy": "2024-04-28T12:16:14.053109Z",
          "iopub.execute_input": "2024-04-28T12:16:14.053385Z",
          "iopub.status.idle": "2024-04-28T12:16:14.067204Z",
          "shell.execute_reply.started": "2024-04-28T12:16:14.053362Z",
          "shell.execute_reply": "2024-04-28T12:16:14.066182Z"
        },
        "trusted": true,
        "id": "p7iOMGgMSEgi"
      },
      "execution_count": null,
      "outputs": []
    },
    {
      "cell_type": "code",
      "source": [
        "# How many datapoints\n",
        "len(instrs), len(test_instrs)"
      ],
      "metadata": {
        "execution": {
          "iopub.status.busy": "2024-04-28T12:16:14.068385Z",
          "iopub.execute_input": "2024-04-28T12:16:14.06874Z",
          "iopub.status.idle": "2024-04-28T12:16:14.085581Z",
          "shell.execute_reply.started": "2024-04-28T12:16:14.068706Z",
          "shell.execute_reply": "2024-04-28T12:16:14.084575Z"
        },
        "trusted": true,
        "id": "zLEbtzgCSEgi",
        "outputId": "d6fc34c1-9378-47fb-8aa2-ef1f24ac6f36"
      },
      "execution_count": null,
      "outputs": [
        {
          "execution_count": 31,
          "output_type": "execute_result",
          "data": {
            "text/plain": "(518, 65)"
          },
          "metadata": {}
        }
      ]
    },
    {
      "cell_type": "code",
      "source": [
        "# Save data to files\n",
        "with open(\"model/test_data.jsonl\", \"w\") as f:\n",
        "    json.dump(test_instrs, f)\n",
        "\n",
        "# Train val split\n",
        "with open(\"model/val_data.jsonl\", \"w\") as f:\n",
        "    json.dump(instrs[:64], f)\n",
        "\n",
        "with open(\"model/train_data.jsonl\", \"w\") as f:\n",
        "    json.dump(instrs[64:], f)"
      ],
      "metadata": {
        "execution": {
          "iopub.status.busy": "2024-04-28T15:15:04.228608Z",
          "iopub.execute_input": "2024-04-28T15:15:04.229021Z",
          "iopub.status.idle": "2024-04-28T15:15:04.39875Z",
          "shell.execute_reply.started": "2024-04-28T15:15:04.228989Z",
          "shell.execute_reply": "2024-04-28T15:15:04.397735Z"
        },
        "trusted": true,
        "id": "zAGZIW0MSEgj"
      },
      "execution_count": null,
      "outputs": []
    },
    {
      "cell_type": "markdown",
      "source": [
        "# Instruct NER"
      ],
      "metadata": {
        "id": "DDfafDAXSEga"
      }
    },
    {
      "cell_type": "markdown",
      "source": [
        "## Prepare algorithms\n",
        "\n",
        "Unfortunately, Instruct NER project does not support custom models, so I changed the source code to include the NEREL dataset. Firstly, I created a nerel_utils.py that contains information about the dataset, such as unique and most frequent entities. Then I created nerel_reader.py to load data from a file and send it in a required way. Also, I needed to change code in train_instruct.py and inference_instruct.py to overcome stopping the process for unknown dataset. Also, I move data to the project folder for easier call of it.\n"
      ],
      "metadata": {
        "id": "VdSUPqGQTaXj"
      }
    },
    {
      "cell_type": "code",
      "source": [
        "!git clone https://github.com/poteminr/instruct-ner.git"
      ],
      "metadata": {
        "execution": {
          "iopub.status.busy": "2024-04-28T12:14:27.150277Z",
          "iopub.execute_input": "2024-04-28T12:14:27.150551Z",
          "iopub.status.idle": "2024-04-28T12:14:29.127045Z",
          "shell.execute_reply.started": "2024-04-28T12:14:27.150523Z",
          "shell.execute_reply": "2024-04-28T12:14:29.126011Z"
        },
        "trusted": true,
        "id": "9QCSYlitSEgb",
        "outputId": "c700b668-a2e8-49b6-ae75-e7366cb15f23"
      },
      "execution_count": null,
      "outputs": [
        {
          "name": "stdout",
          "text": "Cloning into 'instruct-ner'...\nremote: Enumerating objects: 720, done.\u001b[K\nremote: Counting objects: 100% (73/73), done.\u001b[K\nremote: Compressing objects: 100% (39/39), done.\u001b[K\nremote: Total 720 (delta 52), reused 50 (delta 34), pack-reused 647\u001b[K\nReceiving objects: 100% (720/720), 297.20 KiB | 3.10 MiB/s, done.\nResolving deltas: 100% (433/433), done.\n",
          "output_type": "stream"
        }
      ]
    },
    {
      "cell_type": "code",
      "source": [
        "%%capture\n",
        "# Move files to overwrite files\n",
        "!mkdir instruct-ner/instruction_ner/utils/nerel\n",
        "!mv model/nerel_utils.py instruct-ner/instruction_ner/utils/nerel/nerel_utils.py\n",
        "!mv model/nerel_reader.py instruct-ner/instruction_ner/utils/nerel/nerel_reader.py\n",
        "!mv model/inference_instruct.py instruct-ner/instruction_ner/inference_instruct.py\n",
        "!mv model/train_instruct.py instruct-ner/instruction_ner/train_instruct.py\n",
        "\n",
        "# Move data\n",
        "!mv model/train_data.jsonl instruct-ner/instruction_ner/utils/nerel/train_data.jsonl\n",
        "!mv model/dev_data.jsonl instruct-ner/instruction_ner/utils/nerel/dev_data.jsonl\n",
        "!mv model/test_data.jsonl instruct-ner/instruction_ner/utils/nerel/test_data.jsonl\n"
      ],
      "metadata": {
        "id": "FCM74LCdTinR"
      },
      "execution_count": null,
      "outputs": []
    },
    {
      "cell_type": "code",
      "source": [
        "# Change working directory\n",
        "%cd instruct-ner/instruction_ner"
      ],
      "metadata": {
        "execution": {
          "iopub.status.busy": "2024-04-28T12:16:12.594494Z",
          "iopub.execute_input": "2024-04-28T12:16:12.59486Z",
          "iopub.status.idle": "2024-04-28T12:16:12.607537Z",
          "shell.execute_reply.started": "2024-04-28T12:16:12.594827Z",
          "shell.execute_reply": "2024-04-28T12:16:12.606608Z"
        },
        "trusted": true,
        "id": "31PBNwl4SEgd",
        "outputId": "ce9ddd11-868d-47a3-d627-744f1e8ae273"
      },
      "execution_count": null,
      "outputs": [
        {
          "name": "stdout",
          "text": "/kaggle/working/instruct-ner/instruction_ner\n",
          "output_type": "stream"
        }
      ]
    },
    {
      "cell_type": "markdown",
      "source": [
        "## Train model\n",
        "\n",
        "After all the algorithms and data were ready, I started the training process. Although the model was pre-trained and only 20% of the weights were tuned, the process still required a large amount of resources, both computational and time. The available processing power was not enough to use the Mistral model, so the training was done on the T5 model. Over 4 epochs, the loss dropped to 2.2 while processing about 1 sample per second.  "
      ],
      "metadata": {
        "id": "JjuA6XvAUwGv"
      }
    },
    {
      "cell_type": "code",
      "source": [
        "# Train t5 model\n",
        "!python train_instruct.py \\\n",
        "        --config_file configs/t5_lora.json \\\n",
        "        --model_type t5 \\\n",
        "        --dataset_name nerel \\\n",
        "        --max_instances -1"
      ],
      "metadata": {
        "execution": {
          "iopub.status.busy": "2024-04-28T15:50:14.157499Z",
          "iopub.execute_input": "2024-04-28T15:50:14.157863Z",
          "iopub.status.idle": "2024-04-28T16:12:13.084608Z",
          "shell.execute_reply.started": "2024-04-28T15:50:14.157835Z",
          "shell.execute_reply": "2024-04-28T16:12:13.083447Z"
        },
        "trusted": true,
        "id": "qsZv5V0hDqXb",
        "outputId": "4812ef5b-30f9-42b8-e614-7900fd85ffb2"
      },
      "execution_count": null,
      "outputs": [
        {
          "name": "stdout",
          "text": "2024-04-28 15:50:19.992433: E external/local_xla/xla/stream_executor/cuda/cuda_dnn.cc:9261] Unable to register cuDNN factory: Attempting to register factory for plugin cuDNN when one has already been registered\n2024-04-28 15:50:19.992496: E external/local_xla/xla/stream_executor/cuda/cuda_fft.cc:607] Unable to register cuFFT factory: Attempting to register factory for plugin cuFFT when one has already been registered\n2024-04-28 15:50:19.994125: E external/local_xla/xla/stream_executor/cuda/cuda_blas.cc:1515] Unable to register cuBLAS factory: Attempting to register factory for plugin cuBLAS when one has already been registered\nSpecial tokens have been added in the vocabulary, make sure the associated word embeddings are fine-tuned or trained.\nSpecial tokens have been added in the vocabulary, make sure the associated word embeddings are fine-tuned or trained.\nVocab size:  50257\nPAD:  0 <pad>\nBOS:  1 <s>\nEOS:  2 </s>\nUNK:  3 <unk>\nSEP:  1 <s>\n100%|████████████████████████████████████████| 454/454 [00:01<00:00, 277.06it/s]\n100%|██████████████████████████████████████████| 64/64 [00:00<00:00, 259.79it/s]\nThe argument `trust_remote_code` is to be used with Auto classes. It has no effect here and is ignored.\nThe `load_in_4bit` and `load_in_8bit` arguments are deprecated and will be removed in the future versions. Please, pass a `BitsAndBytesConfig` object in `quantization_config` argument instead.\n/opt/conda/lib/python3.10/site-packages/torch/_utils.py:831: UserWarning: TypedStorage is deprecated. It will be removed in the future and UntypedStorage will be the only storage class. This should only matter to you if you are using storages directly.  To access UntypedStorage directly, use tensor.untyped_storage() instead of tensor.storage()\n  return self.fget.__get__(instance, owner)()\n/opt/conda/lib/python3.10/site-packages/accelerate/accelerator.py:436: FutureWarning: Passing the following arguments to `Accelerator` is deprecated and will be removed in version 1.0 of Accelerate: dict_keys(['dispatch_batches', 'split_batches', 'even_batches', 'use_seedable_sampler']). Please pass an `accelerate.DataLoaderConfiguration` instead: \ndataloader_config = DataLoaderConfiguration(dispatch_batches=None, split_batches=False, even_batches=True, use_seedable_sampler=True)\n  warnings.warn(\n\u001b[34m\u001b[1mwandb\u001b[0m: Currently logged in as: \u001b[33msofi1221\u001b[0m (\u001b[33minnoteam\u001b[0m). Use \u001b[1m`wandb login --relogin`\u001b[0m to force relogin\n\u001b[34m\u001b[1mwandb\u001b[0m: Tracking run with wandb version 0.16.6\n\u001b[34m\u001b[1mwandb\u001b[0m: Run data is saved locally in \u001b[35m\u001b[1m/kaggle/working/instruct-ner/instruction_ner/wandb/run-20240428_155031-u29r4e84\u001b[0m\n\u001b[34m\u001b[1mwandb\u001b[0m: Run \u001b[1m`wandb offline`\u001b[0m to turn off syncing.\n\u001b[34m\u001b[1mwandb\u001b[0m: Syncing run \u001b[33mbreezy-bee-18\u001b[0m\n\u001b[34m\u001b[1mwandb\u001b[0m: ⭐️ View project at \u001b[34m\u001b[4mhttps://wandb.ai/innoteam/Instruction%20NER\u001b[0m\n\u001b[34m\u001b[1mwandb\u001b[0m: 🚀 View run at \u001b[34m\u001b[4mhttps://wandb.ai/innoteam/Instruction%20NER/runs/u29r4e84\u001b[0m\ntrainable params: 3,538,944 || all params: 1,743,892,992 || trainable%: 0.2029335524733848\n  0%|                                                    | 0/21 [00:00<?, ?it/s]/opt/conda/lib/python3.10/site-packages/torch/utils/checkpoint.py:429: UserWarning: torch.utils.checkpoint: please pass in use_reentrant=True or use_reentrant=False explicitly. The default value of use_reentrant will be updated to be False in the future. To maintain current behavior, pass use_reentrant=True. It is recommended that you use use_reentrant=False. Refer to docs for more details on the differences between the two variants.\n  warnings.warn(\n/opt/conda/lib/python3.10/site-packages/bitsandbytes/autograd/_functions.py:316: UserWarning: MatMul8bitLt: inputs will be cast from torch.float32 to float16 during quantization\n  warnings.warn(f\"MatMul8bitLt: inputs will be cast from {A.dtype} to float16 during quantization\")\n`use_cache=True` is incompatible with gradient checkpointing. Setting `use_cache=False`...\n{'loss': 0.0, 'grad_norm': nan, 'learning_rate': 0.0003, 'epoch': 0.14}         \n{'loss': 0.0, 'grad_norm': nan, 'learning_rate': 0.0003, 'epoch': 0.28}         \n{'loss': 0.0, 'grad_norm': nan, 'learning_rate': 0.0003, 'epoch': 0.42}         \n{'loss': 0.0, 'grad_norm': nan, 'learning_rate': 0.0003, 'epoch': 0.56}         \n{'loss': 14.9617, 'grad_norm': nan, 'learning_rate': 0.0003, 'epoch': 0.7}      \n{'loss': 0.0, 'grad_norm': nan, 'learning_rate': 0.0003, 'epoch': 0.84}         \n{'loss': 0.0, 'grad_norm': nan, 'learning_rate': 0.0003, 'epoch': 0.98}         \n{'loss': 0.0, 'grad_norm': nan, 'learning_rate': 0.0003, 'epoch': 1.12}         \n{'loss': 0.0, 'grad_norm': nan, 'learning_rate': 0.0003, 'epoch': 1.26}         \n{'loss': 0.0, 'grad_norm': nan, 'learning_rate': 0.0003, 'epoch': 1.4}          \n 48%|████████████████████▍                      | 10/21 [09:50<10:49, 59.00s/it]\n  0%|                                                     | 0/8 [00:00<?, ?it/s]\u001b[A\n 25%|███████████▎                                 | 2/8 [00:01<00:05,  1.01it/s]\u001b[A\n 38%|████████████████▉                            | 3/8 [00:04<00:07,  1.47s/it]\u001b[A\n 50%|██████████████████████▌                      | 4/8 [00:06<00:06,  1.73s/it]\u001b[A\n 62%|████████████████████████████▏                | 5/8 [00:08<00:05,  1.87s/it]\u001b[A\n 75%|█████████████████████████████████▊           | 6/8 [00:10<00:03,  1.96s/it]\u001b[A\n 88%|███████████████████████████████████████▍     | 7/8 [00:12<00:02,  2.02s/it]\u001b[A\n                                                                                \u001b[A\n\u001b[A{'eval_loss': 6.121719837188721, 'eval_runtime': 16.9947, 'eval_samples_per_second': 3.766, 'eval_steps_per_second': 0.471, 'epoch': 1.4}\n 48%|████████████████████▍                      | 10/21 [10:07<10:49, 59.00s/it]\n100%|█████████████████████████████████████████████| 8/8 [00:14<00:00,  2.06s/it]\u001b[A\n                                                                                \u001b[A/opt/conda/lib/python3.10/site-packages/torch/utils/checkpoint.py:429: UserWarning: torch.utils.checkpoint: please pass in use_reentrant=True or use_reentrant=False explicitly. The default value of use_reentrant will be updated to be False in the future. To maintain current behavior, pass use_reentrant=True. It is recommended that you use use_reentrant=False. Refer to docs for more details on the differences between the two variants.\n  warnings.warn(\n/opt/conda/lib/python3.10/site-packages/bitsandbytes/autograd/_functions.py:316: UserWarning: MatMul8bitLt: inputs will be cast from torch.float32 to float16 during quantization\n  warnings.warn(f\"MatMul8bitLt: inputs will be cast from {A.dtype} to float16 during quantization\")\n{'loss': 0.0, 'grad_norm': nan, 'learning_rate': 0.0003, 'epoch': 1.54}         \n{'loss': 31.2129, 'grad_norm': nan, 'learning_rate': 0.0003, 'epoch': 1.68}     \n{'loss': 0.0, 'grad_norm': nan, 'learning_rate': 0.0003, 'epoch': 1.82}         \n{'loss': 0.0, 'grad_norm': nan, 'learning_rate': 0.0003, 'epoch': 1.96}         \n{'loss': 0.0, 'grad_norm': nan, 'learning_rate': 0.0003, 'epoch': 2.11}         \n{'loss': 0.0, 'grad_norm': nan, 'learning_rate': 0.0003, 'epoch': 2.25}         \n{'loss': 0.0, 'grad_norm': nan, 'learning_rate': 0.0003, 'epoch': 2.39}         \n{'loss': 0.0, 'grad_norm': nan, 'learning_rate': 0.0003, 'epoch': 2.53}         \n{'loss': 0.0, 'grad_norm': nan, 'learning_rate': 0.0003, 'epoch': 2.67}         \n{'loss': 0.0, 'grad_norm': nan, 'learning_rate': 0.0003, 'epoch': 2.81}         \n 95%|████████████████████████████████████████▉  | 20/21 [19:58<00:59, 59.42s/it]\n  0%|                                                     | 0/8 [00:00<?, ?it/s]\u001b[A\n 25%|███████████▎                                 | 2/8 [00:01<00:05,  1.01it/s]\u001b[A\n 38%|████████████████▉                            | 3/8 [00:04<00:07,  1.47s/it]\u001b[A\n 50%|██████████████████████▌                      | 4/8 [00:06<00:06,  1.72s/it]\u001b[A\n 62%|████████████████████████████▏                | 5/8 [00:08<00:05,  1.87s/it]\u001b[A\n 75%|█████████████████████████████████▊           | 6/8 [00:10<00:03,  1.96s/it]\u001b[A\n 88%|███████████████████████████████████████▍     | 7/8 [00:12<00:02,  2.02s/it]\u001b[A\n                                                                                \u001b[A\n\u001b[A{'eval_loss': 6.121719837188721, 'eval_runtime': 16.9807, 'eval_samples_per_second': 3.769, 'eval_steps_per_second': 0.471, 'epoch': 2.81}\n 95%|████████████████████████████████████████▉  | 20/21 [20:15<00:59, 59.42s/it]\n100%|█████████████████████████████████████████████| 8/8 [00:14<00:00,  2.06s/it]\u001b[A\n                                                                                \u001b[A/opt/conda/lib/python3.10/site-packages/torch/utils/checkpoint.py:429: UserWarning: torch.utils.checkpoint: please pass in use_reentrant=True or use_reentrant=False explicitly. The default value of use_reentrant will be updated to be False in the future. To maintain current behavior, pass use_reentrant=True. It is recommended that you use use_reentrant=False. Refer to docs for more details on the differences between the two variants.\n  warnings.warn(\n/opt/conda/lib/python3.10/site-packages/bitsandbytes/autograd/_functions.py:316: UserWarning: MatMul8bitLt: inputs will be cast from torch.float32 to float16 during quantization\n  warnings.warn(f\"MatMul8bitLt: inputs will be cast from {A.dtype} to float16 during quantization\")\n{'loss': 0.0, 'grad_norm': nan, 'learning_rate': 0.0003, 'epoch': 2.95}         \n{'train_runtime': 1276.0812, 'train_samples_per_second': 1.067, 'train_steps_per_second': 0.016, 'train_loss': 2.1987881433396113, 'epoch': 2.95}\n100%|███████████████████████████████████████████| 21/21 [21:16<00:00, 60.77s/it]\n\u001b[34m\u001b[1mwandb\u001b[0m:                                                                                \n\u001b[34m\u001b[1mwandb\u001b[0m: W&B sync reduced upload amount by 21.0%             \n\u001b[34m\u001b[1mwandb\u001b[0m: \n\u001b[34m\u001b[1mwandb\u001b[0m: Run history:\n\u001b[34m\u001b[1mwandb\u001b[0m:               eval/loss ▁▁\n\u001b[34m\u001b[1mwandb\u001b[0m:            eval/runtime █▁\n\u001b[34m\u001b[1mwandb\u001b[0m: eval/samples_per_second ▁█\n\u001b[34m\u001b[1mwandb\u001b[0m:   eval/steps_per_second ▁▁\n\u001b[34m\u001b[1mwandb\u001b[0m:             train/epoch ▁▁▂▂▂▃▃▃▄▄▄▄▅▅▆▆▆▇▇▇████\n\u001b[34m\u001b[1mwandb\u001b[0m:       train/global_step ▁▁▂▂▂▃▃▃▄▄▄▅▅▅▆▆▆▇▇▇████\n\u001b[34m\u001b[1mwandb\u001b[0m:     train/learning_rate ▁▁▁▁▁▁▁▁▁▁▁▁▁▁▁▁▁▁▁▁▁\n\u001b[34m\u001b[1mwandb\u001b[0m:              train/loss ▁▁▁▁▄▁▁▁▁▁▁█▁▁▁▁▁▁▁▁▁\n\u001b[34m\u001b[1mwandb\u001b[0m: \n\u001b[34m\u001b[1mwandb\u001b[0m: Run summary:\n\u001b[34m\u001b[1mwandb\u001b[0m:                eval/loss 6.12172\n\u001b[34m\u001b[1mwandb\u001b[0m:             eval/runtime 16.9807\n\u001b[34m\u001b[1mwandb\u001b[0m:  eval/samples_per_second 3.769\n\u001b[34m\u001b[1mwandb\u001b[0m:    eval/steps_per_second 0.471\n\u001b[34m\u001b[1mwandb\u001b[0m:               total_flos 3430123548180480.0\n\u001b[34m\u001b[1mwandb\u001b[0m:              train/epoch 2.95\n\u001b[34m\u001b[1mwandb\u001b[0m:        train/global_step 21\n\u001b[34m\u001b[1mwandb\u001b[0m:          train/grad_norm nan\n\u001b[34m\u001b[1mwandb\u001b[0m:      train/learning_rate 0.0003\n\u001b[34m\u001b[1mwandb\u001b[0m:               train/loss 0.0\n\u001b[34m\u001b[1mwandb\u001b[0m:               train_loss 2.19879\n\u001b[34m\u001b[1mwandb\u001b[0m:            train_runtime 1276.0812\n\u001b[34m\u001b[1mwandb\u001b[0m: train_samples_per_second 1.067\n\u001b[34m\u001b[1mwandb\u001b[0m:   train_steps_per_second 0.016\n\u001b[34m\u001b[1mwandb\u001b[0m: \n\u001b[34m\u001b[1mwandb\u001b[0m: 🚀 View run \u001b[33mbreezy-bee-18\u001b[0m at: \u001b[34m\u001b[4mhttps://wandb.ai/innoteam/Instruction%20NER/runs/u29r4e84\u001b[0m\n\u001b[34m\u001b[1mwandb\u001b[0m: ⭐️ View project at: \u001b[34m\u001b[4mhttps://wandb.ai/innoteam/Instruction%20NER\u001b[0m\n\u001b[34m\u001b[1mwandb\u001b[0m: Synced 5 W&B file(s), 0 media file(s), 2 artifact file(s) and 0 other file(s)\n\u001b[34m\u001b[1mwandb\u001b[0m: Find logs at: \u001b[35m\u001b[1m./wandb/run-20240428_155031-u29r4e84/logs\u001b[0m\n",
          "output_type": "stream"
        }
      ]
    },
    {
      "cell_type": "markdown",
      "source": [
        "# Make prediction"
      ],
      "metadata": {
        "id": "L9JIUrsiV8bQ"
      }
    },
    {
      "cell_type": "code",
      "source": [
        "# Inference on test data (with no true predictions)\n",
        "!python inference_instruct.py \\\n",
        "        --batch_size 4 \\\n",
        "        --dataset_name nerel \\\n",
        "        --model_type t5 \\\n",
        "        --config_file configs/t5_lora.json \\\n",
        "        --model_name poteminr/t5-rudrec \\\n",
        "        --max_instances -1"
      ],
      "metadata": {
        "execution": {
          "iopub.status.busy": "2024-04-28T13:12:11.781081Z",
          "iopub.execute_input": "2024-04-28T13:12:11.781456Z",
          "iopub.status.idle": "2024-04-28T14:49:21.712368Z",
          "shell.execute_reply.started": "2024-04-28T13:12:11.781427Z",
          "shell.execute_reply": "2024-04-28T14:49:21.711098Z"
        },
        "trusted": true,
        "id": "2-hv6oHoSEgk",
        "outputId": "00a731a5-9c7f-4bb6-e6e2-0b689ecffcaf"
      },
      "execution_count": null,
      "outputs": [
        {
          "name": "stdout",
          "text": "2024-04-28 13:12:17.996327: E external/local_xla/xla/stream_executor/cuda/cuda_dnn.cc:9261] Unable to register cuDNN factory: Attempting to register factory for plugin cuDNN when one has already been registered\n2024-04-28 13:12:17.996393: E external/local_xla/xla/stream_executor/cuda/cuda_fft.cc:607] Unable to register cuFFT factory: Attempting to register factory for plugin cuFFT when one has already been registered\n2024-04-28 13:12:17.998035: E external/local_xla/xla/stream_executor/cuda/cuda_blas.cc:1515] Unable to register cuBLAS factory: Attempting to register factory for plugin cuBLAS when one has already been registered\nThe `load_in_4bit` and `load_in_8bit` arguments are deprecated and will be removed in the future versions. Please, pass a `BitsAndBytesConfig` object in `quantization_config` argument instead.\n/opt/conda/lib/python3.10/site-packages/torch/_utils.py:831: UserWarning: TypedStorage is deprecated. It will be removed in the future and UntypedStorage will be the only storage class. This should only matter to you if you are using storages directly.  To access UntypedStorage directly, use tensor.untyped_storage() instead of tensor.storage()\n  return self.fget.__get__(instance, owner)()\n100%|███████████████████████████████████████| 65/65 [00:00<00:00, 559814.70it/s]\n100%|████████████████████████████████████████| 17/17 [1:36:51<00:00, 341.83s/it]\n",
          "output_type": "stream"
        }
      ]
    },
    {
      "cell_type": "code",
      "source": [
        "# Load predictions\n",
        "pred_df = pd.read_json('prediction.json')\n",
        "pred_df.head(3)"
      ],
      "metadata": {
        "execution": {
          "iopub.status.busy": "2024-04-28T14:51:45.338626Z",
          "iopub.execute_input": "2024-04-28T14:51:45.339092Z",
          "iopub.status.idle": "2024-04-28T14:51:45.445208Z",
          "shell.execute_reply.started": "2024-04-28T14:51:45.339051Z",
          "shell.execute_reply": "2024-04-28T14:51:45.444115Z"
        },
        "trusted": true,
        "id": "z9Bave_vSEgx",
        "outputId": "f1e27e1e-479b-418f-d541-711c98a576fe"
      },
      "execution_count": null,
      "outputs": [
        {
          "execution_count": 67,
          "output_type": "execute_result",
          "data": {
            "text/plain": "    id                                          extracted  \\\n0  584  {'AGE': [], 'AWARD': [], 'CITY': [], 'COUNTRY'...   \n1  585  {'AGE': [], 'AWARD': [], 'CITY': [], 'COUNTRY'...   \n2  586  {'AGE': [], 'AWARD': [], 'CITY': [], 'COUNTRY'...   \n\n                                              target  \\\n0  {'AGE': [], 'AWARD': [], 'CITY': [], 'COUNTRY'...   \n1  {'AGE': [], 'AWARD': [], 'CITY': [], 'COUNTRY'...   \n2  {'AGE': [], 'AWARD': [], 'CITY': [], 'COUNTRY'...   \n\n                                      generated_text  \n0  \\n### Выход: Владелец «Бирмингема» получил шес...  \n1  \\n### Задание: Ты решаешь задачу NER. Извлеки ...  \n2  \\n\\n\\n\\n.\\n### Вход: Фольксваген может перейти...  ",
            "text/html": "<div>\n<style scoped>\n    .dataframe tbody tr th:only-of-type {\n        vertical-align: middle;\n    }\n\n    .dataframe tbody tr th {\n        vertical-align: top;\n    }\n\n    .dataframe thead th {\n        text-align: right;\n    }\n</style>\n<table border=\"1\" class=\"dataframe\">\n  <thead>\n    <tr style=\"text-align: right;\">\n      <th></th>\n      <th>id</th>\n      <th>extracted</th>\n      <th>target</th>\n      <th>generated_text</th>\n    </tr>\n  </thead>\n  <tbody>\n    <tr>\n      <th>0</th>\n      <td>584</td>\n      <td>{'AGE': [], 'AWARD': [], 'CITY': [], 'COUNTRY'...</td>\n      <td>{'AGE': [], 'AWARD': [], 'CITY': [], 'COUNTRY'...</td>\n      <td>\\n### Выход: Владелец «Бирмингема» получил шес...</td>\n    </tr>\n    <tr>\n      <th>1</th>\n      <td>585</td>\n      <td>{'AGE': [], 'AWARD': [], 'CITY': [], 'COUNTRY'...</td>\n      <td>{'AGE': [], 'AWARD': [], 'CITY': [], 'COUNTRY'...</td>\n      <td>\\n### Задание: Ты решаешь задачу NER. Извлеки ...</td>\n    </tr>\n    <tr>\n      <th>2</th>\n      <td>586</td>\n      <td>{'AGE': [], 'AWARD': [], 'CITY': [], 'COUNTRY'...</td>\n      <td>{'AGE': [], 'AWARD': [], 'CITY': [], 'COUNTRY'...</td>\n      <td>\\n\\n\\n\\n.\\n### Вход: Фольксваген может перейти...</td>\n    </tr>\n  </tbody>\n</table>\n</div>"
          },
          "metadata": {}
        }
      ]
    },
    {
      "cell_type": "code",
      "source": [
        "# Prediction example\n",
        "pred_df.loc[6][\"extracted\"]"
      ],
      "metadata": {
        "execution": {
          "iopub.status.busy": "2024-04-28T14:59:05.863458Z",
          "iopub.execute_input": "2024-04-28T14:59:05.863876Z",
          "iopub.status.idle": "2024-04-28T14:59:05.882496Z",
          "shell.execute_reply.started": "2024-04-28T14:59:05.863833Z",
          "shell.execute_reply": "2024-04-28T14:59:05.881483Z"
        },
        "trusted": true,
        "id": "eQBnZTi_SEgy",
        "outputId": "74898e66-e183-41f9-88f7-dd4ecabcaffe"
      },
      "execution_count": null,
      "outputs": [
        {
          "execution_count": 76,
          "output_type": "execute_result",
          "data": {
            "text/plain": "{'AGE': [],\n 'AWARD': [],\n 'CITY': [],\n 'COUNTRY': [],\n 'CRIME': [],\n 'DATE': [],\n 'DISEASE': [],\n 'DISTRICT': [],\n 'EVENT': [],\n 'FACILITY': [],\n 'FAMILY': [],\n 'IDEOLOGY': [],\n 'LANGUAGE': [],\n 'LAW': [],\n 'LOCATION': [],\n 'MONEY': [],\n 'NATIONALITY': [],\n 'NUMBER': [],\n 'ORDINAL': ['первые'],\n 'ORGANIZATION': [],\n 'PENALTY': [],\n 'PERCENT': [],\n 'PERSON': [],\n 'PRODUCT': [],\n 'PROFESSION': ['юристом'],\n 'RELIGION': [],\n 'STATE_OR_PROVINCE': [],\n 'TIME': [],\n 'WORK_OF_ART': []}"
          },
          "metadata": {}
        }
      ]
    },
    {
      "cell_type": "code",
      "source": [
        "# Find entities strt and end and convert to needed format\n",
        "result = {}\n",
        "# Make predictions for test set\n",
        "for ind, row in pred_df.iterrows():\n",
        "    text = test_df.loc[ind][\"senences\"]\n",
        "    result[row[\"id\"]] = [[]]\n",
        "\n",
        "    for label, ents in row[\"extracted\"].items():\n",
        "        ents = np.unique(ents)\n",
        "        for ent in ents:\n",
        "            if len(ent) < 2:\n",
        "                # Don't add entities 1 char long\n",
        "                continue\n",
        "\n",
        "            start = 0\n",
        "            # Label all substrings that match entity text\n",
        "            for iter in range(text.count(ent)):\n",
        "                st = start + text[start:].index(ent)\n",
        "                result[row[\"id\"]][0].append([st, st+len(ent)-1, label])\n",
        "                start = st + len(ent)\n",
        "\n",
        "res = []\n",
        "for ind, ent in result.items():\n",
        "    res.append([ind, ent])\n",
        "# Convert result to a dataframe\n",
        "answer = pd.DataFrame(res, columns=[\"id\", \"ners\"])\n",
        "answer.head()"
      ],
      "metadata": {
        "execution": {
          "iopub.status.busy": "2024-04-28T15:05:56.208566Z",
          "iopub.execute_input": "2024-04-28T15:05:56.209305Z",
          "iopub.status.idle": "2024-04-28T15:05:56.276403Z",
          "shell.execute_reply.started": "2024-04-28T15:05:56.209271Z",
          "shell.execute_reply": "2024-04-28T15:05:56.275365Z"
        },
        "trusted": true,
        "id": "5QjFGzYDSEgy",
        "outputId": "5a42774c-a4ce-4502-83ca-fe38faec0602"
      },
      "execution_count": null,
      "outputs": [
        {
          "execution_count": 92,
          "output_type": "execute_result",
          "data": {
            "text/plain": "    id                                               ners\n0  584           [[137, 137, NUMBER], [534, 537, NUMBER]]\n1  585                                                 []\n2  586  [[248, 258, ORGANIZATION], [501, 511, ORGANIZA...\n3  587  [[368, 376, PROFESSION], [1053, 1061, ORGANIZA...\n4  588                               [[322, 325, PERSON]]",
            "text/html": "<div>\n<style scoped>\n    .dataframe tbody tr th:only-of-type {\n        vertical-align: middle;\n    }\n\n    .dataframe tbody tr th {\n        vertical-align: top;\n    }\n\n    .dataframe thead th {\n        text-align: right;\n    }\n</style>\n<table border=\"1\" class=\"dataframe\">\n  <thead>\n    <tr style=\"text-align: right;\">\n      <th></th>\n      <th>id</th>\n      <th>ners</th>\n    </tr>\n  </thead>\n  <tbody>\n    <tr>\n      <th>0</th>\n      <td>584</td>\n      <td>[[137, 137, NUMBER], [534, 537, NUMBER]]</td>\n    </tr>\n    <tr>\n      <th>1</th>\n      <td>585</td>\n      <td>[]</td>\n    </tr>\n    <tr>\n      <th>2</th>\n      <td>586</td>\n      <td>[[248, 258, ORGANIZATION], [501, 511, ORGANIZA...</td>\n    </tr>\n    <tr>\n      <th>3</th>\n      <td>587</td>\n      <td>[[368, 376, PROFESSION], [1053, 1061, ORGANIZA...</td>\n    </tr>\n    <tr>\n      <th>4</th>\n      <td>588</td>\n      <td>[[322, 325, PERSON]]</td>\n    </tr>\n  </tbody>\n</table>\n</div>"
          },
          "metadata": {}
        }
      ]
    },
    {
      "cell_type": "code",
      "source": [
        "# Save results in a file\n",
        "output_path = \"./test.jsonl\"\n",
        "\n",
        "with open(output_path, \"w\") as f:\n",
        "    f.write(answer.to_json(orient='records', lines=True))"
      ],
      "metadata": {
        "execution": {
          "iopub.status.busy": "2024-04-28T15:06:14.651008Z",
          "iopub.execute_input": "2024-04-28T15:06:14.651416Z",
          "iopub.status.idle": "2024-04-28T15:06:14.657883Z",
          "shell.execute_reply.started": "2024-04-28T15:06:14.651386Z",
          "shell.execute_reply": "2024-04-28T15:06:14.656913Z"
        },
        "trusted": true,
        "id": "UB5_pZyGSEgy"
      },
      "execution_count": null,
      "outputs": []
    },
    {
      "cell_type": "code",
      "source": [
        "# Zip to submit predictions\n",
        "!zip test test.jsonl"
      ],
      "metadata": {
        "execution": {
          "iopub.status.busy": "2024-04-28T15:06:17.438824Z",
          "iopub.execute_input": "2024-04-28T15:06:17.43923Z",
          "iopub.status.idle": "2024-04-28T15:06:18.654414Z",
          "shell.execute_reply.started": "2024-04-28T15:06:17.439199Z",
          "shell.execute_reply": "2024-04-28T15:06:18.653192Z"
        },
        "trusted": true,
        "id": "5L6fkh09SEgz",
        "outputId": "c3ef8bf7-6307-4124-9fd2-8186a2b15115"
      },
      "execution_count": null,
      "outputs": [
        {
          "name": "stdout",
          "text": "  adding: test.jsonl (deflated 80%)\n",
          "output_type": "stream"
        }
      ]
    }
  ]
}
